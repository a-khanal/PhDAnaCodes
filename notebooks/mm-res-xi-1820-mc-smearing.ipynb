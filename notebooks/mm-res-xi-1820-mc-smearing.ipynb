{
 "cells": [
  {
   "cell_type": "code",
   "execution_count": 1,
   "id": "2ee39bc3",
   "metadata": {},
   "outputs": [
    {
     "name": "stdout",
     "output_type": "stream",
     "text": [
      "Welcome to JupyROOT 6.26/00\n"
     ]
    }
   ],
   "source": [
    "import ROOT\n",
    "import math\n",
    "from array import array\n",
    "import numpy as np"
   ]
  },
  {
   "cell_type": "code",
   "execution_count": 2,
   "id": "7cbbce17",
   "metadata": {},
   "outputs": [
    {
     "name": "stdout",
     "output_type": "stream",
     "text": [
      "-rw-r--r--  1 akhanal  staff       44490 Feb 13 17:08 basic.root\r\n",
      "-rw-r--r--  1 akhanal  staff      890817 Feb 22 16:41 data_all_fde.root\r\n",
      "-rw-r--r--  1 akhanal  staff     7487446 Feb 22 16:38 data_all_fte.root\r\n",
      "-rw-r--r--  1 akhanal  staff     7391613 Feb 22 16:57 data_all_fte_ecornonly.root\r\n",
      "-rw-r--r--  1 akhanal  staff     7233824 Feb 22 17:00 data_all_fte_nocorn.root\r\n",
      "-rw-r--r--  1 akhanal  staff      243193 Feb 21 19:22 data_fall2018_in_fde.root\r\n",
      "-rw-r--r--  1 akhanal  staff      256433 Jun 16 22:29 data_fall2018_in_fde_goodruns.root\r\n",
      "-rw-r--r--  1 akhanal  staff      273170 Jul 28 18:57 data_fall2018_in_fde_goodruns_hasLamSigWeight.root\r\n",
      "-rw-r--r--  1 akhanal  staff   202574473 Jul 28 16:37 data_fall2018_in_fde_goodruns_threeKaon_mixEv_bg.root\r\n",
      "-rw-r--r--  1 akhanal  staff     3130991 Feb 22 18:21 data_fall2018_in_fte.root\r\n",
      "-rw-r--r--  1 akhanal  staff     3090975 Feb 22 18:19 data_fall2018_in_fte_ecornonly.root\r\n",
      "-rw-r--r--  1 akhanal  staff     3142907 Jun 16 22:51 data_fall2018_in_fte_goodruns.root\r\n",
      "-rw-r--r--  1 akhanal  staff     3343278 Jul 28 18:22 data_fall2018_in_fte_goodruns_hasLamSigWeight.root\r\n",
      "-rw-r--r--  1 akhanal  staff    38406461 Jul 28 16:03 data_fall2018_in_fte_goodruns_threeKaon_mixEv_bg.root\r\n",
      "-rw-r--r--  1 akhanal  staff     3025107 Feb 22 18:17 data_fall2018_in_fte_nocorn.root\r\n",
      "-rw-r--r--  1 akhanal  staff      422232 Feb 22 16:18 data_fall2018_out_fde.root\r\n",
      "-rw-r--r--  1 akhanal  staff      452457 Jun 16 22:35 data_fall2018_out_fde_goodruns.root\r\n",
      "-rw-r--r--  1 akhanal  staff      472805 Jul 19 10:13 data_fall2018_out_fde_goodruns_hasLamSigWeight.root\r\n",
      "-rw-r--r--  1 akhanal  staff      480762 Jul 26 12:11 data_fall2018_out_fde_goodruns_hasLamSigWeight1.root\r\n",
      "-rw-r--r--  1 akhanal  staff      472682 Jul 19 10:38 data_fall2018_out_fde_goodruns_hasLamSigWeight_v1.root\r\n",
      "-rw-r--r--  1 akhanal  staff     8774698 Jun 30 16:56 data_fall2018_out_fde_goodruns_mixEv_all.root\r\n",
      "-rw-r--r--  1 akhanal  staff     8766399 Jun 30 16:48 data_fall2018_out_fde_goodruns_mixEv_bg.root\r\n",
      "-rw-r--r--  1 akhanal  staff    30582618 Jul  5 11:48 data_fall2018_out_fde_goodruns_threeKaon_mixEv_bg.root\r\n",
      "-rw-r--r--  1 akhanal  staff    36773678 Jul  5 14:29 data_fall2018_out_fde_goodruns_threeKaon_mixEv_bg1.root\r\n",
      "-rw-r--r--  1 akhanal  staff      866861 Jun 30 18:54 data_fall2018_out_fde_goodruns_twoKaon_mixEv_all.root\r\n",
      "-rw-r--r--  1 akhanal  staff      864394 Jun 30 17:50 data_fall2018_out_fde_goodruns_twoKaon_mixEv_bg.root\r\n",
      "-rw-r--r--  1 akhanal  staff     1280945 Feb 22 18:11 data_fall2018_out_fte.root\r\n",
      "-rw-r--r--  1 akhanal  staff     1264513 Feb 22 18:13 data_fall2018_out_fte_ecornonly.root\r\n",
      "-rw-r--r--  1 akhanal  staff     1306025 Jun 16 22:42 data_fall2018_out_fte_goodruns.root\r\n",
      "-rw-r--r--  1 akhanal  staff     1367125 Jul 18 14:10 data_fall2018_out_fte_goodruns_hasLamSigWeight.root\r\n",
      "-rw-r--r--  1 akhanal  staff     1392687 Jul 26 11:20 data_fall2018_out_fte_goodruns_hasLamSigWeight1.root\r\n",
      "-rw-r--r--  1 akhanal  staff     1367461 Jul 19 10:56 data_fall2018_out_fte_goodruns_hasLamSigWeight_v1.root\r\n",
      "-rw-r--r--  1 akhanal  staff    76657735 Jun 30 15:50 data_fall2018_out_fte_goodruns_mixEv_all.root\r\n",
      "-rw-r--r--  1 akhanal  staff    76634783 Jun 30 16:26 data_fall2018_out_fte_goodruns_mixEv_bg.root\r\n",
      "-rw-r--r--  1 akhanal  staff    37629484 Jul  5 14:37 data_fall2018_out_fte_goodruns_threeKaon_mixEv_bg.root\r\n",
      "-rw-r--r--  1 akhanal  staff     4798157 Jun 30 18:49 data_fall2018_out_fte_goodruns_twoKaon_mixEv_all.root\r\n",
      "-rw-r--r--  1 akhanal  staff     4792111 Jun 30 18:41 data_fall2018_out_fte_goodruns_twoKaon_mixEv_bg.root\r\n",
      "-rw-r--r--  1 akhanal  staff     1237557 Feb 22 18:15 data_fall2018_out_fte_nocorn.root\r\n",
      "-rw-r--r--  1 akhanal  staff      259676 Feb 22 16:31 data_spring2019_in_fde.root\r\n",
      "-rw-r--r--  1 akhanal  staff      283709 Jun 16 23:05 data_spring2019_in_fde_goodruns.root\r\n",
      "-rw-r--r--  1 akhanal  staff      302153 Jul 28 19:00 data_spring2019_in_fde_goodruns_hasLamSigWeight.root\r\n",
      "-rw-r--r--  1 akhanal  staff   355391695 Jul 28 17:03 data_spring2019_in_fde_goodruns_threeKaon_mixEv_bg.root\r\n",
      "-rw-r--r--  1 akhanal  staff     3091731 Feb 22 18:03 data_spring2019_in_fte.root\r\n",
      "-rw-r--r--  1 akhanal  staff     3052176 Feb 22 18:05 data_spring2019_in_fte_ecornonly.root\r\n",
      "-rw-r--r--  1 akhanal  staff     3228480 Jun 16 23:01 data_spring2019_in_fte_goodruns.root\r\n",
      "-rw-r--r--  1 akhanal  staff     3440371 Jul 28 18:54 data_spring2019_in_fte_goodruns_hasLamSigWeight.root\r\n",
      "-rw-r--r--  1 akhanal  staff    40087366 Jul 28 16:15 data_spring2019_in_fte_goodruns_threeKaon_mixEv_bg.root\r\n",
      "-rw-r--r--  1 akhanal  staff     2987296 Feb 22 18:36 data_spring2019_in_fte_nocorn.root\r\n",
      "-rw-r--r--  1 akhanal  staff     6071789 May 10 14:52 data_xi1320_2kplus_fall2018_in_fde.root\r\n",
      "-rw-r--r--  1 akhanal  staff    65153400 May 10 14:37 data_xi1320_2kplus_fall2018_in_fte.root\r\n",
      "-rw-r--r--  1 akhanal  staff     5321708 May  6 15:51 data_xi1320_2kplus_fall2018_out_fde.root\r\n",
      "-rw-r--r--  1 akhanal  staff    11629025 May  7 12:49 data_xi1320_2kplus_fall2018_out_fte.root\r\n",
      "-rw-r--r--  1 akhanal  staff    11395004 May  7 14:36 data_xi1320_2kplus_fall2018_out_fte_v1.root\r\n",
      "-rw-r--r--  1 akhanal  staff     1282228 May  8 13:43 data_xi1320_2kplus_rgk_6535MeV_out_fde.root\r\n",
      "-rw-r--r--  1 akhanal  staff      574409 May  8 13:30 data_xi1320_2kplus_rgk_7546MeV_out_fde.root\r\n",
      "-rw-r--r--  1 akhanal  staff     1097224 May  8 13:02 data_xi1320_2kplus_rgk_out_fte.root\r\n",
      "-rw-r--r--  1 akhanal  staff     7232530 May 10 14:55 data_xi1320_2kplus_spring2019_in_fde.root\r\n",
      "-rw-r--r--  1 akhanal  staff    68189916 May 10 14:22 data_xi1320_2kplus_spring2019_in_fte.root\r\n",
      "-rw-r--r--  1 akhanal  staff     1040565 May  6 13:49 data_xi1320_2kpluspim_fall2018_out_fde.root\r\n",
      "-rw-r--r--  1 akhanal  staff     3130209 May  4 08:41 mc_gen_delta_xi_fall2018_out_fde.root\r\n",
      "-rw-r--r--  1 akhanal  staff     6253127 Apr 23 10:43 mc_gen_delta_xi_fall2018_out_fte.root\r\n",
      "-rw-r--r--  1 akhanal  staff  2053820535 Feb 20 13:57 mc_gen_fall2018_in_fde.root\r\n",
      "-rw-r--r--  1 akhanal  staff  2059616620 Feb 22 15:03 mc_gen_fall2018_in_fte.root\r\n",
      "-rw-r--r--  1 akhanal  staff  1471876150 Mar 16 20:51 mc_gen_fall2018_in_xi_weightdecay_fde.root\r\n",
      "-rw-r--r--  1 akhanal  staff  1475909955 Mar 16 21:55 mc_gen_fall2018_in_xi_weightdecay_fte.root\r\n",
      "-rw-r--r--  1 akhanal  staff  2053820535 Feb 26 19:14 mc_gen_fall2018_out_fde.root\r\n",
      "-rw-r--r--  1 akhanal  staff  2056214452 Feb 26 21:36 mc_gen_fall2018_out_fte.root\r\n",
      "-rw-r--r--  1 akhanal  staff  1026945414 Mar 10 11:12 mc_gen_fall2018_out_lamdecay_fde.root\r\n",
      "-rw-r--r--  1 akhanal  staff  1029752494 Mar 11 15:55 mc_gen_fall2018_out_lamdecay_fte.root\r\n",
      "-rw-r--r--  1 akhanal  staff  1026829304 Mar 10 12:24 mc_gen_fall2018_out_sigdecay_fde.root\r\n",
      "-rw-r--r--  1 akhanal  staff  1025972485 Mar 11 16:45 mc_gen_fall2018_out_sigdecay_fte.root\r\n",
      "-rw-r--r--  1 akhanal  staff  1471842272 Mar 11 17:40 mc_gen_fall2018_out_xi_weightdecay_fde.root\r\n",
      "-rw-r--r--  1 akhanal  staff  1718938127 Mar 11 18:59 mc_gen_fall2018_out_xi_weightdecay_fte.root\r\n",
      "-rw-r--r--  1 akhanal  staff   624072355 May  9 11:54 mc_gen_xi1320_rga_config.root\r\n",
      "-rw-r--r--  1 akhanal  staff     3142095 May 17 17:50 mc_gen_xi1320_rga_fall2018_out_fde_test.root\r\n",
      "-rw-r--r--  1 akhanal  staff     3132422 May 17 17:37 mc_gen_xi1320_rga_fall2018_out_fte_test.root\r\n",
      "-rw-r--r--  1 akhanal  staff  3109470736 May  9 16:28 mc_gen_xi1320_rgk_fte.root\r\n",
      "-rw-r--r--  1 akhanal  staff       23477 May  4 08:41 mc_rec_delta_xi_fall2018_out_fde.root\r\n",
      "-rw-r--r--  1 akhanal  staff       49979 Apr 23 10:43 mc_rec_delta_xi_fall2018_out_fte.root\r\n",
      "-rw-r--r--  1 akhanal  staff     5231159 Feb 20 10:38 mc_rec_fall2018_in_fde.root\r\n",
      "-rw-r--r--  1 akhanal  staff     7854518 Feb 22 14:59 mc_rec_fall2018_in_fte.root\r\n",
      "-rw-r--r--  1 akhanal  staff      139151 Feb 22 12:08 mc_rec_fall2018_in_fte_test_allcorn.root\r\n",
      "-rw-r--r--  1 akhanal  staff      137421 Feb 22 11:58 mc_rec_fall2018_in_fte_test_energyCorn.root\r\n",
      "-rw-r--r--  1 akhanal  staff      134873 Feb 22 12:04 mc_rec_fall2018_in_fte_test_nocorn.root\r\n",
      "-rw-r--r--  1 akhanal  staff     3808461 Mar 16 20:46 mc_rec_fall2018_in_xi_weightdecay_fde.root\r\n",
      "-rw-r--r--  1 akhanal  staff     5637147 Mar 16 21:50 mc_rec_fall2018_in_xi_weightdecay_fte.root\r\n",
      "-rw-r--r--  1 akhanal  staff     4712442 Feb 26 19:10 mc_rec_fall2018_out_fde.root\r\n",
      "-rw-r--r--  1 akhanal  staff     4788271 Feb 26 21:32 mc_rec_fall2018_out_fte.root\r\n",
      "-rw-r--r--  1 akhanal  staff     2420318 Mar 10 11:11 mc_rec_fall2018_out_lamdecay_fde.root\r\n",
      "-rw-r--r--  1 akhanal  staff     2467037 Mar 11 15:52 mc_rec_fall2018_out_lamdecay_fte.root\r\n",
      "-rw-r--r--  1 akhanal  staff     2305108 Mar 10 12:22 mc_rec_fall2018_out_sigdecay_fde.root\r\n",
      "-rw-r--r--  1 akhanal  staff     2326006 Mar 11 16:39 mc_rec_fall2018_out_sigdecay_fte.root\r\n",
      "-rw-r--r--  1 akhanal  staff     3419577 Mar 11 17:36 mc_rec_fall2018_out_xi_weightdecay_fde.root\r\n",
      "-rw-r--r--  1 akhanal  staff     3836646 Mar 11 18:53 mc_rec_fall2018_out_xi_weightdecay_fte.root\r\n",
      "-rw-r--r--  1 akhanal  staff       32276 May 17 17:49 mc_rec_xi1320_rga_fall2018_out_fde_test.root\r\n",
      "-rw-r--r--  1 akhanal  staff       43936 May 17 17:32 mc_rec_xi1320_rga_fall2018_out_fte_test.root\r\n",
      "-rw-r--r--  1 akhanal  staff       36601 May  9 11:52 mc_rec_xi1320_rga_fde.root\r\n",
      "-rw-r--r--  1 akhanal  staff      622828 May  9 11:52 mc_rec_xi1320_rga_fte.root\r\n",
      "-rw-r--r--  1 akhanal  staff    27744173 May  9 16:03 mc_rec_xi1320_rgk_fte.root\r\n",
      "-rw-r--r--  1 akhanal  staff      890817 Feb 20 10:02 output_file_alldata_fde.root\r\n",
      "-rw-r--r--  1 akhanal  staff     7487446 Feb 21 09:55 output_file_alldata_fte.root\r\n",
      "-rw-r--r--  1 akhanal  staff    13186984 Jul  8 14:25 pionsaskaons_data_f18out_fde_efkpfkpfkm.root\r\n",
      "-rw-r--r--  1 akhanal  staff        6786 Feb 12  2022 test0.root\r\n"
     ]
    }
   ],
   "source": [
    "ls -l *.root"
   ]
  },
  {
   "cell_type": "code",
   "execution_count": 3,
   "id": "0489c3b5",
   "metadata": {
    "scrolled": true
   },
   "outputs": [
    {
     "name": "stdout",
     "output_type": "stream",
     "text": [
      "Columns in the dataset: { \"W\", \"beam_e\", \"e_e\", \"e_p\", \"e_phi\", \"e_px\", \"e_py\", \"e_pz\", \"e_theta\", \"e_vx\", \"e_vy\", \"e_vz\", \"evnum\", \"fkp_e\", \"fkp_p\", \"fkp_phi\", \"fkp_px\", \"fkp_py\", \"fkp_pz\", \"fkp_theta\", \"fkp_vx\", \"fkp_vy\", \"fkp_vz\", \"m_fkpskp\", \"mm_e\", \"mm_fkp\", \"mm_fkpskp\", \"mm_skp\", \"nu\", \"q2\", \"runnum\", \"skp_e\", \"skp_p\", \"skp_phi\", \"skp_px\", \"skp_py\", \"skp_pz\", \"skp_theta\", \"skp_vx\", \"skp_vy\", \"skp_vz\", \"x\" }\n"
     ]
    }
   ],
   "source": [
    "df = ROOT.RDataFrame(\"T\", \"data_xi1320_2kplus_fall2018_out_fde.root\")\n",
    "print(f\"Columns in the dataset: {df.GetColumnNames()}\")"
   ]
  },
  {
   "cell_type": "markdown",
   "id": "060040e1",
   "metadata": {},
   "source": [
    "**FDe-MM(eK+K+K-)-MC**"
   ]
  },
  {
   "cell_type": "code",
   "execution_count": 19,
   "id": "d1078d2a",
   "metadata": {},
   "outputs": [
    {
     "name": "stdout",
     "output_type": "stream",
     "text": [
      " FCN=73.0779 FROM MINOS     STATUS=SUCCESSFUL     40 CALLS         174 TOTAL\n",
      "                     EDM=5.52935e-08    STRATEGY= 1      ERROR MATRIX ACCURATE \n",
      "  EXT PARAMETER                                   STEP         FIRST   \n",
      "  NO.   NAME      VALUE            ERROR          SIZE      DERIVATIVE \n",
      "   1  Constant     2.49225e+03   4.06748e+01  -2.88445e-01   5.13774e-06\n",
      "   2  Mean         1.83176e+00   6.13380e-04   3.07515e-07   2.29394e-01\n",
      "   3  Sigma        4.68854e-02   6.36647e-04   6.36647e-04  -4.46151e-02\n"
     ]
    },
    {
     "data": {
      "text/html": [
       "\n",
       "\n",
       "<div id=\"root_plot_1660508800006\"\n",
       "     style=\"width: 696px; height: 472px\">\n",
       "</div>\n",
       "<script>\n",
       "\n",
       "function display_root_plot_1660508800006(Core) {\n",
       "   let obj = Core.parse({\"_typename\":\"TCanvas\",\"fUniqueID\":0,\"fBits\":3342344,\"fLineColor\":1,\"fLineStyle\":1,\"fLineWidth\":1,\"fFillColor\":0,\"fFillStyle\":1001,\"fLeftMargin\":0.1,\"fRightMargin\":0.1,\"fBottomMargin\":0.1,\"fTopMargin\":0.1,\"fXfile\":2,\"fYfile\":2,\"fAfile\":1,\"fXstat\":0.99,\"fYstat\":0.99,\"fAstat\":2,\"fFrameFillColor\":0,\"fFrameLineColor\":1,\"fFrameFillStyle\":1001,\"fFrameLineStyle\":1,\"fFrameLineWidth\":1,\"fFrameBorderSize\":1,\"fFrameBorderMode\":0,\"fX1\":1.37499999068677,\"fY1\":-352.051018496541,\"fX2\":2.62500000931323,\"fY2\":3168.45895663012,\"fXtoAbsPixelk\":-765.599933406066,\"fXtoPixelk\":-765.599933406066,\"fXtoPixel\":556.799991703033,\"fYtoAbsPixelk\":424.800047186661,\"fYtoPixelk\":424.800047186661,\"fYtoPixel\":-0.134071484908381,\"fUtoAbsPixelk\":5e-5,\"fUtoPixelk\":5e-5,\"fUtoPixel\":696,\"fVtoAbsPixelk\":472.00005,\"fVtoPixelk\":472,\"fVtoPixel\":-472,\"fAbsPixeltoXk\":1.37499999068677,\"fPixeltoXk\":1.37499999068677,\"fPixeltoX\":0.0017959770382564,\"fAbsPixeltoYk\":3168.45895663012,\"fPixeltoYk\":-352.051018496541,\"fPixeltoY\":-7.45870757442089,\"fXlowNDC\":0,\"fYlowNDC\":0,\"fXUpNDC\":1,\"fYUpNDC\":1,\"fWNDC\":1,\"fHNDC\":1,\"fAbsXlowNDC\":0,\"fAbsYlowNDC\":0,\"fAbsWNDC\":1,\"fAbsHNDC\":1,\"fUxmin\":1.5,\"fUymin\":0,\"fUxmax\":2.5,\"fUymax\":2816.40793813358,\"fTheta\":30,\"fPhi\":30,\"fAspectRatio\":0,\"fNumber\":0,\"fTickx\":0,\"fTicky\":0,\"fLogx\":0,\"fLogy\":0,\"fLogz\":0,\"fPadPaint\":0,\"fCrosshair\":0,\"fCrosshairPos\":0,\"fBorderSize\":2,\"fBorderMode\":0,\"fModified\":false,\"fGridx\":false,\"fGridy\":false,\"fAbsCoord\":false,\"fEditable\":true,\"fFixedAspectRatio\":false,\"fPrimitives\":{\"_typename\":\"TList\",\"name\":\"TList\",\"arr\":[{\"_typename\":\"TFrame\",\"fUniqueID\":0,\"fBits\":8,\"fLineColor\":1,\"fLineStyle\":1,\"fLineWidth\":1,\"fFillColor\":0,\"fFillStyle\":1001,\"fX1\":1.5,\"fY1\":0,\"fX2\":2.5,\"fY2\":2816.40793813358,\"fBorderSize\":1,\"fBorderMode\":0},{\"_typename\":\"TH1D\",\"fUniqueID\":0,\"fBits\":8,\"fName\":\"mc\",\"fTitle\":\"MM(eK^{+}K^{+})\",\"fLineColor\":632,\"fLineStyle\":1,\"fLineWidth\":1,\"fFillColor\":0,\"fFillStyle\":1001,\"fMarkerColor\":1,\"fMarkerStyle\":21,\"fMarkerSize\":0.8,\"fNcells\":27,\"fXaxis\":{\"_typename\":\"TAxis\",\"fUniqueID\":0,\"fBits\":0,\"fName\":\"xaxis\",\"fTitle\":\"MM(eK^{+}K^{+}) [GeV\\/c^{2}]\",\"fNdivisions\":510,\"fAxisColor\":1,\"fLabelColor\":1,\"fLabelFont\":42,\"fLabelOffset\":0.005,\"fLabelSize\":0.035,\"fTickLength\":0.03,\"fTitleOffset\":0.9,\"fTitleSize\":0.05,\"fTitleColor\":1,\"fTitleFont\":42,\"fNbins\":25,\"fXmin\":1.5,\"fXmax\":2.5,\"fXbins\":[],\"fFirst\":0,\"fLast\":0,\"fBits2\":0,\"fTimeDisplay\":false,\"fTimeFormat\":\"\",\"fLabels\":null,\"fModLabs\":null},\"fYaxis\":{\"_typename\":\"TAxis\",\"fUniqueID\":0,\"fBits\":0,\"fName\":\"yaxis\",\"fTitle\":\"Counts\\/40 MeV\\/c^{2}\",\"fNdivisions\":510,\"fAxisColor\":1,\"fLabelColor\":1,\"fLabelFont\":42,\"fLabelOffset\":0.005,\"fLabelSize\":0.035,\"fTickLength\":0.03,\"fTitleOffset\":0,\"fTitleSize\":0.05,\"fTitleColor\":1,\"fTitleFont\":42,\"fNbins\":1,\"fXmin\":0,\"fXmax\":1,\"fXbins\":[],\"fFirst\":0,\"fLast\":0,\"fBits2\":0,\"fTimeDisplay\":false,\"fTimeFormat\":\"\",\"fLabels\":null,\"fModLabs\":null},\"fZaxis\":{\"_typename\":\"TAxis\",\"fUniqueID\":0,\"fBits\":0,\"fName\":\"zaxis\",\"fTitle\":\"\",\"fNdivisions\":510,\"fAxisColor\":1,\"fLabelColor\":1,\"fLabelFont\":42,\"fLabelOffset\":0.005,\"fLabelSize\":0.035,\"fTickLength\":0.03,\"fTitleOffset\":1,\"fTitleSize\":0.035,\"fTitleColor\":1,\"fTitleFont\":42,\"fNbins\":1,\"fXmin\":0,\"fXmax\":1,\"fXbins\":[],\"fFirst\":0,\"fLast\":0,\"fBits2\":0,\"fTimeDisplay\":false,\"fTimeFormat\":\"\",\"fLabels\":null,\"fModLabs\":null},\"fBarOffset\":0,\"fBarWidth\":1000,\"fEntries\":8354,\"fTsumw\":8313,\"fTsumw2\":8313,\"fTsumwx\":15348.3671673666,\"fTsumwx2\":28403.3049059721,\"fMaximum\":-1111,\"fMinimum\":-1111,\"fNormFactor\":0,\"fContour\":[],\"fSumw2\":[],\"fOption\":\"\",\"fFunctions\":{\"_typename\":\"TList\",\"name\":\"TList\",\"arr\":[{\"_typename\":\"TF1\",\"fUniqueID\":0,\"fBits\":1024,\"fName\":\"gaus\",\"fTitle\":\"gaus\",\"fLineColor\":2,\"fLineStyle\":1,\"fLineWidth\":2,\"fFillColor\":19,\"fFillStyle\":0,\"fMarkerColor\":1,\"fMarkerStyle\":1,\"fMarkerSize\":1,\"fXmin\":1.73,\"fXmax\":1.93,\"fNpar\":3,\"fNdim\":1,\"fNpx\":100,\"fType\":0,\"fNpfits\":5,\"fNDF\":2,\"fChisquare\":73.0779341739176,\"fMinimum\":-1111,\"fMaximum\":-1111,\"fParErrors\":[40.6748351732035,6.13380012830512e-4,6.36646599775643e-4],\"fParMin\":[0,0,0],\"fParMax\":[0,0,0.427711501776467],\"fSave\":{\"$arr\":\"Float64\",\"len\":103,\"v\":[236.429828757015,259.128531713887,283.490130562738,309.578218576244,337.452455657903,367.167753311528,398.773430538778,432.312347654952,467.820025927949,505.32376182072,544.841745435281,586.382193497714,629.942507869468,675.50847110216,723.053490952752,772.537906026624,823.908364802086,877.097290197912,932.022441564297,988.586585498891,1046.67728620811,1106.16682524782,1166.91225938877,1228.75562406687,1291.52428840571,1355.03146615369,1419.07688507768,1483.44761542155,1547.91905599675,1612.2560743521,1676.21429530223,1739.54152991369,1801.97933488942,1863.26469019359,1923.13178075705,1981.31386623557,2037.54522109524,2091.56312580515,2143.10988865923,2191.93487675452,2237.79653394623,2280.46436320131,2319.72085069476,2355.36330924698,2387.20561928831,2415.07984645573,2438.83771616682,2458.35192706396,2473.51728705359,2484.25165775802,2490.49669551569,2492.21837957717,2489.40732080637,2482.07884696756,2470.27286351453,2454.05349165067,2433.50848825323,2408.74845500398,2379.90584669823,2347.13379117264,2310.60473555958,2270.50893560827,2227.0528065791,2180.45715569259,2130.95531727895,2078.79121261384,2024.21735693357,1967.49283629681,1908.88127680433,1848.6488282137,1787.06218320812,1724.38665251803,1660.88431477643,1596.8122584427,1532.42093138788,1467.95261183056,1403.64001228431,1339.70502606101,1276.35762370741,1213.79490457192,1152.20030653896,1091.74297486484,1032.57728903076,974.84254462533,918.662785503704,864.146779865439,811.388132464486,760.465523925893,711.443067103434,664.370769575455,619.285090743778,576.209581569911,535.155594747949,496.123053065534,459.10126383114,424.069767533915,390.999209335361,359.852222553118,330.584313967675,303.144741544294,277.477375995756,1.73,1.93]},\"fNormalized\":false,\"fNormIntegral\":0,\"fFormula\":{\"_typename\":\"TFormula\",\"fUniqueID\":0,\"fBits\":1024,\"fName\":\"gaus\",\"fTitle\":\"gaus\",\"fClingParameters\":[2492.25115042295,1.83175956240885,0.0468854426207165],\"fAllParametersSetted\":true,\"fParams\":[{\"$pair\":\"pair<TString,int,TFormulaParamOrder>\",\"first\":\"Constant\",\"second\":0},{\"$pair\":\"pair<TString,int,TFormulaParamOrder>\",\"first\":\"Mean\",\"second\":1},{\"$pair\":\"pair<TString,int,TFormulaParamOrder>\",\"first\":\"Sigma\",\"second\":2}],\"fFormula\":\"[Constant]*exp(-0.5*((x-[Mean])\\/[Sigma])*((x-[Mean])\\/[Sigma]))\",\"fNdim\":1,\"fLinearParts\":[],\"fVectorized\":false},\"fParams\":null,\"fComposition\":null},{\"_typename\":\"TPaveStats\",\"fUniqueID\":0,\"fBits\":9,\"fLineColor\":1,\"fLineStyle\":1,\"fLineWidth\":1,\"fFillColor\":0,\"fFillStyle\":1001,\"fX1\":2.15000001937151,\"fY1\":2376.34423321049,\"fX2\":2.60000003278256,\"fY2\":2939.62581664043,\"fX1NDC\":0.620000013709068,\"fY1NDC\":0.775000005960464,\"fX2NDC\":0.980000019073486,\"fY2NDC\":0.935000002384186,\"fBorderSize\":1,\"fInit\":1,\"fShadowColor\":1,\"fCornerRadius\":0,\"fOption\":\"brNDC\",\"fName\":\"stats\",\"fTextAngle\":0,\"fTextSize\":0,\"fTextAlign\":12,\"fTextColor\":1,\"fTextFont\":42,\"fLabel\":\"\",\"fLongest\":31,\"fMargin\":0.05,\"fLines\":{\"_typename\":\"TList\",\"name\":\"TList\",\"arr\":[{\"_typename\":\"TLatex\",\"fUniqueID\":0,\"fBits\":0,\"fName\":\"\",\"fTitle\":\"Constant =  2492 #pm 40.7 \",\"fTextAngle\":0,\"fTextSize\":0,\"fTextAlign\":0,\"fTextColor\":0,\"fTextFont\":0,\"fX\":0,\"fY\":0,\"fLineColor\":1,\"fLineStyle\":1,\"fLineWidth\":2,\"fLimitFactorSize\":3,\"fOriginSize\":0.04},{\"_typename\":\"TLatex\",\"fUniqueID\":0,\"fBits\":0,\"fName\":\"\",\"fTitle\":\"Mean     = 1.832 #pm 0.001 \",\"fTextAngle\":0,\"fTextSize\":0,\"fTextAlign\":0,\"fTextColor\":0,\"fTextFont\":0,\"fX\":0,\"fY\":0,\"fLineColor\":1,\"fLineStyle\":1,\"fLineWidth\":2,\"fLimitFactorSize\":3,\"fOriginSize\":0.04},{\"_typename\":\"TLatex\",\"fUniqueID\":0,\"fBits\":0,\"fName\":\"\",\"fTitle\":\"Sigma    = 0.04689 #pm 0.00064 \",\"fTextAngle\":0,\"fTextSize\":0,\"fTextAlign\":0,\"fTextColor\":0,\"fTextFont\":0,\"fX\":0,\"fY\":0,\"fLineColor\":1,\"fLineStyle\":1,\"fLineWidth\":2,\"fLimitFactorSize\":3,\"fOriginSize\":0.04}],\"opt\":[\"\",\"\",\"\"]},\"fOptFit\":11,\"fOptStat\":0,\"fFitFormat\":\"5.4g\",\"fStatFormat\":\"6.4g\",\"fParent\":{\"$ref\":3}}],\"opt\":[\"\",\"brNDC\"]},\"fBufferSize\":0,\"fBuffer\":[],\"fBinStatErrOpt\":0,\"fStatOverflows\":2,\"fArray\":{\"$arr\":\"Float64\",\"len\":27,\"v\":[31,9,13,22,47,72,238,737,2001,2631,1262,542,240,152,99,63,53,33,29,14,18,10,9,11,7,1,10]}},{\"_typename\":\"TPaveText\",\"fUniqueID\":0,\"fBits\":9,\"fLineColor\":1,\"fLineStyle\":1,\"fLineWidth\":1,\"fFillColor\":0,\"fFillStyle\":0,\"fX1\":1.8779454004801,\"fY1\":2944.99609448757,\"fX2\":2.1220545995199,\"fY2\":3150.85642354158,\"fX1NDC\":0.40235632183908,\"fY1NDC\":0.936525428497185,\"fX2NDC\":0.59764367816092,\"fY2NDC\":0.995000004768372,\"fBorderSize\":0,\"fInit\":1,\"fShadowColor\":1,\"fCornerRadius\":0,\"fOption\":\"blNDC\",\"fName\":\"title\",\"fTextAngle\":0,\"fTextSize\":0,\"fTextAlign\":22,\"fTextColor\":1,\"fTextFont\":42,\"fLabel\":\"\",\"fLongest\":15,\"fMargin\":0.05,\"fLines\":{\"_typename\":\"TList\",\"name\":\"TList\",\"arr\":[{\"_typename\":\"TLatex\",\"fUniqueID\":0,\"fBits\":0,\"fName\":\"\",\"fTitle\":\"MM(eK^{+}K^{+})\",\"fTextAngle\":0,\"fTextSize\":0,\"fTextAlign\":0,\"fTextColor\":0,\"fTextFont\":0,\"fX\":0,\"fY\":0,\"fLineColor\":1,\"fLineStyle\":1,\"fLineWidth\":2,\"fLimitFactorSize\":3,\"fOriginSize\":0.0497033894062042}],\"opt\":[\"\"]}},{\"_typename\":\"TStyle\",\"fUniqueID\":0,\"fBits\":0,\"fName\":\"Modern\",\"fTitle\":\"Modern Style\",\"fLineColor\":1,\"fLineStyle\":1,\"fLineWidth\":1,\"fFillColor\":19,\"fFillStyle\":1001,\"fMarkerColor\":1,\"fMarkerStyle\":1,\"fMarkerSize\":1,\"fTextAngle\":0,\"fTextSize\":0.05,\"fTextAlign\":11,\"fTextColor\":1,\"fTextFont\":62,\"fXaxis\":{\"_typename\":\"TAttAxis\",\"fNdivisions\":510,\"fAxisColor\":1,\"fLabelColor\":1,\"fLabelFont\":42,\"fLabelOffset\":0.005,\"fLabelSize\":0.035,\"fTickLength\":0.03,\"fTitleOffset\":1,\"fTitleSize\":0.035,\"fTitleColor\":1,\"fTitleFont\":42},\"fYaxis\":{\"_typename\":\"TAttAxis\",\"fNdivisions\":510,\"fAxisColor\":1,\"fLabelColor\":1,\"fLabelFont\":42,\"fLabelOffset\":0.005,\"fLabelSize\":0.035,\"fTickLength\":0.03,\"fTitleOffset\":0,\"fTitleSize\":0.035,\"fTitleColor\":1,\"fTitleFont\":42},\"fZaxis\":{\"_typename\":\"TAttAxis\",\"fNdivisions\":510,\"fAxisColor\":1,\"fLabelColor\":1,\"fLabelFont\":42,\"fLabelOffset\":0.005,\"fLabelSize\":0.035,\"fTickLength\":0.03,\"fTitleOffset\":1,\"fTitleSize\":0.035,\"fTitleColor\":1,\"fTitleFont\":42},\"fBarWidth\":1,\"fBarOffset\":0,\"fColorModelPS\":0,\"fDrawBorder\":0,\"fOptLogx\":0,\"fOptLogy\":0,\"fOptLogz\":0,\"fOptDate\":0,\"fOptStat\":0,\"fOptTitle\":1,\"fOptFile\":0,\"fOptFit\":11,\"fShowEventStatus\":0,\"fShowEditor\":0,\"fShowToolBar\":0,\"fNumberContours\":20,\"fAttDate\":{\"_typename\":\"TAttText\",\"fTextAngle\":0,\"fTextSize\":0.025,\"fTextAlign\":11,\"fTextColor\":1,\"fTextFont\":62},\"fDateX\":0.01,\"fDateY\":0.01,\"fEndErrorSize\":2,\"fErrorX\":0.5,\"fFuncColor\":2,\"fFuncStyle\":1,\"fFuncWidth\":2,\"fGridColor\":0,\"fGridStyle\":3,\"fGridWidth\":1,\"fLegendBorderSize\":1,\"fLegendFillColor\":0,\"fLegendFont\":42,\"fLegendTextSize\":0,\"fHatchesLineWidth\":1,\"fHatchesSpacing\":1,\"fFrameFillColor\":0,\"fFrameLineColor\":1,\"fFrameFillStyle\":1001,\"fFrameLineStyle\":1,\"fFrameLineWidth\":1,\"fFrameBorderSize\":1,\"fFrameBorderMode\":0,\"fHistFillColor\":0,\"fHistLineColor\":602,\"fHistFillStyle\":1001,\"fHistLineStyle\":1,\"fHistLineWidth\":1,\"fHistMinimumZero\":false,\"fHistTopMargin\":0.05,\"fCanvasPreferGL\":false,\"fCanvasColor\":0,\"fCanvasBorderSize\":2,\"fCanvasBorderMode\":0,\"fCanvasDefH\":500,\"fCanvasDefW\":700,\"fCanvasDefX\":10,\"fCanvasDefY\":10,\"fPadColor\":0,\"fPadBorderSize\":2,\"fPadBorderMode\":0,\"fPadBottomMargin\":0.1,\"fPadTopMargin\":0.1,\"fPadLeftMargin\":0.1,\"fPadRightMargin\":0.1,\"fPadGridX\":false,\"fPadGridY\":false,\"fPadTickX\":0,\"fPadTickY\":0,\"fPaperSizeX\":20,\"fPaperSizeY\":26,\"fScreenFactor\":1,\"fStatColor\":0,\"fStatTextColor\":1,\"fStatBorderSize\":1,\"fStatFont\":42,\"fStatFontSize\":0,\"fStatStyle\":1001,\"fStatFormat\":\"6.4g\",\"fStatX\":0.98,\"fStatY\":0.935,\"fStatW\":0.2,\"fStatH\":0.16,\"fStripDecimals\":true,\"fTitleAlign\":23,\"fTitleColor\":0,\"fTitleTextColor\":1,\"fTitleBorderSize\":0,\"fTitleFont\":42,\"fTitleFontSize\":0.05,\"fTitleStyle\":0,\"fTitleX\":0.5,\"fTitleY\":0.995,\"fTitleW\":0,\"fTitleH\":0,\"fLegoInnerR\":0.5,\"fLineStyles\":[\"\",\"  \",\" 12 12\",\" 4 8\",\" 12 16 4 16\",\" 20 12 4 12\",\" 20 12 4 12 4 12 4 12\",\" 20 20\",\" 20 12 4 12 4 12\",\" 80 20\",\" 80 40 4 40\",\"  \",\"  \",\"  \",\"  \",\"  \",\"  \",\"  \",\"  \",\"  \",\"  \",\"  \",\"  \",\"  \",\"  \",\"  \",\"  \",\"  \",\"  \",\"  \"],\"fHeaderPS\":\"\",\"fTitlePS\":\"\",\"fFitFormat\":\"5.4g\",\"fPaintTextFormat\":\"g\",\"fLineScalePS\":3,\"fJoinLinePS\":0,\"fCapLinePS\":0,\"fTimeOffset\":788918400,\"fImageScaling\":1}],\"opt\":[\"\",\"E\",\"blNDC\",\"\"]},\"fExecs\":null,\"fName\":\"c1_n2\",\"fTitle\":\"c1_n2\",\"fNumPaletteColor\":0,\"fNextPaletteColor\":0,\"fDISPLAY\":\"$DISPLAY\",\"fDoubleBuffer\":0,\"fRetained\":true,\"fXsizeUser\":0,\"fYsizeUser\":0,\"fXsizeReal\":20,\"fYsizeReal\":14.28571,\"fWindowTopX\":0,\"fWindowTopY\":0,\"fWindowWidth\":0,\"fWindowHeight\":0,\"fCw\":696,\"fCh\":472,\"fCatt\":{\"_typename\":\"TAttCanvas\",\"fXBetween\":2,\"fYBetween\":2,\"fTitleFromTop\":1.2,\"fXdate\":0.2,\"fYdate\":0.3,\"fAdate\":1},\"kMoveOpaque\":true,\"kResizeOpaque\":true,\"fHighLightColor\":2,\"fBatch\":true,\"kShowEventStatus\":false,\"kAutoExec\":true,\"kMenuBar\":true});\n",
       "   Core.settings.HandleKeys = false;\n",
       "   Core.draw(\"root_plot_1660508800006\", obj, \"\");\n",
       "}\n",
       "\n",
       "function script_load_root_plot_1660508800006(src, on_error) {\n",
       "    let script = document.createElement('script');\n",
       "    script.src = src;\n",
       "    script.onload = function() { display_root_plot_1660508800006(JSROOT); };\n",
       "    script.onerror = function() { script.remove(); on_error(); };\n",
       "    document.head.appendChild(script);\n",
       "}\n",
       "\n",
       "if (typeof requirejs !== 'undefined') {\n",
       "\n",
       "    // We are in jupyter notebooks, use require.js which should be configured already\n",
       "    requirejs.config({\n",
       "       paths: { 'JSRootCore' : [ 'scripts/JSRoot.core', 'https://root.cern/js/6.1.1/scripts/JSRoot.core.min', 'https://jsroot.gsi.de/6.1.1/scripts/JSRoot.core.min' ] }\n",
       "    })(['JSRootCore'],  function(Core) {\n",
       "       display_root_plot_1660508800006(Core);\n",
       "    });\n",
       "\n",
       "} else if (typeof JSROOT !== 'undefined') {\n",
       "\n",
       "   // JSROOT already loaded, just use it\n",
       "   display_root_plot_1660508800006(JSROOT);\n",
       "\n",
       "} else {\n",
       "\n",
       "    // We are in jupyterlab without require.js, directly loading jsroot\n",
       "    // Jupyterlab might be installed in a different base_url so we need to know it.\n",
       "    try {\n",
       "        var base_url = JSON.parse(document.getElementById('jupyter-config-data').innerHTML).baseUrl;\n",
       "    } catch(_) {\n",
       "        var base_url = '/';\n",
       "    }\n",
       "\n",
       "    // Try loading a local version of requirejs and fallback to cdn if not possible.\n",
       "    script_load_root_plot_1660508800006(base_url + 'static/scripts/JSRoot.core.js', function(){\n",
       "        console.error('Fail to load JSROOT locally, please check your jupyter_notebook_config.py file');\n",
       "        script_load_root_plot_1660508800006('https://root.cern/js/6.1.1/scripts/JSRoot.core.min.js', function(){\n",
       "            document.getElementById(\"root_plot_1660508800006\").innerHTML = \"Failed to load JSROOT\";\n",
       "        });\n",
       "    });\n",
       "}\n",
       "\n",
       "</script>\n"
      ],
      "text/plain": [
       "<IPython.core.display.HTML object>"
      ]
     },
     "metadata": {},
     "output_type": "display_data"
    }
   ],
   "source": [
    "#h = ROOT.RDataFrame(\"T\",\"../simu_prod/xi_1820_bw_mc_fall2018out_fde/plot/rec_xi_1820_bw_mc_fall2018out_fde.root\").Histo1D((\"mc\", \"mc\", 25, 1.6, 2.1), \"mm_fkpskp\")\n",
    "#h = ROOT.RDataFrame(\"T\",\"../simu_prod/xi_1820_bw_mc_fall2018out_fde/plot/rec_xi_1820_bw_mc_smeared_0p4p_fall2018out_fde.root\").Histo1D((\"mc\", \"mc\", 25, 1.5, 2.5), \"mm_fkpskp\")\n",
    "#h = ROOT.RDataFrame(\"T\",\"../simu_prod/xi_1820_bw_mc_fall2018out_fde/plot/rec_xi_1820_bw_mc_smeared_0p35p_fall2018out_fde.root\").Histo1D((\"mc\", \"mc\", 25, 1.5, 2.5), \"mm_fkpskp\")\n",
    "#h = ROOT.RDataFrame(\"T\",\"../simu_prod/xi_1820_bw_mc_fall2018out_fde/plot/rec_xi_1820_bw_mc_smeared_0p3p_fall2018out_fde.root\").Histo1D((\"mc\", \"mc\", 25, 1.5, 2.5), \"mm_fkpskp\")\n",
    "#h = ROOT.RDataFrame(\"T\",\"../simu_prod/xi_1820_bw_mc_fall2018out_fde/plot/rec_xi_1820_bw_mc_smeared_0p25p_fall2018out_fde.root\").Histo1D((\"mc\", \"mc\", 25, 1.5, 2.5), \"mm_fkpskp\")\n",
    "\n",
    "h.SetTitle(\"MM(eK^{+}K^{+})\")\n",
    "#h.SetTitleSize(0.06, \"x\")\n",
    "h.GetXaxis().SetTitle(\"MM(eK^{+}K^{+}) [GeV/c^{2}]\")\n",
    "h.GetYaxis().SetTitle(\"Counts/40 MeV/c^{2}\")\n",
    "h.GetXaxis().SetTitleSize(0.05)\n",
    "h.GetYaxis().SetTitleSize(0.05)\n",
    "h.GetXaxis().SetTitleOffset(0.9)\n",
    "%jsroot on\n",
    "ROOT.gStyle.SetOptStat(0000)\n",
    "ROOT.gStyle.SetOptFit(11)\n",
    "c = ROOT.TCanvas()\n",
    "h.Draw(\"E\")\n",
    "#h.Fit(\"gaus\", \"S\", \" \", 1.76, 1.88)\n",
    "h.Fit(\"gaus\", \"EMS\", \" \", 1.73, 1.93)\n",
    "h.SetLineColor(ROOT.kRed)\n",
    "h.SetMarkerStyle(21)\n",
    "h.SetMarkerSize(0.8)\n",
    "c.Draw()"
   ]
  },
  {
   "cell_type": "markdown",
   "id": "449a07d3",
   "metadata": {},
   "source": [
    "**FTe-MM(eK+K+K-)-MC**"
   ]
  },
  {
   "cell_type": "code",
   "execution_count": 16,
   "id": "87252286",
   "metadata": {},
   "outputs": [
    {
     "name": "stdout",
     "output_type": "stream",
     "text": [
      " FCN=563.345 FROM MINOS     STATUS=SUCCESSFUL     40 CALLS         161 TOTAL\n",
      "                     EDM=1.93736e-08    STRATEGY= 1      ERROR MATRIX ACCURATE \n",
      "  EXT PARAMETER                                   STEP         FIRST   \n",
      "  NO.   NAME      VALUE            ERROR          SIZE      DERIVATIVE \n",
      "   1  Constant     5.95087e+03   5.36689e+01  -1.64142e-01  -2.33233e-08\n",
      "   2  Mean         1.83109e+00   3.71999e-04   4.49780e-08   1.98633e-02\n",
      "   3  Sigma        5.06280e-02   2.73932e-04   2.73932e-04   7.37118e-03\n",
      "                               ERR DEF= 0.5\n"
     ]
    },
    {
     "data": {
      "text/html": [
       "\n",
       "\n",
       "<div id=\"root_plot_1660508698667\"\n",
       "     style=\"width: 696px; height: 472px\">\n",
       "</div>\n",
       "<script>\n",
       "\n",
       "function display_root_plot_1660508698667(Core) {\n",
       "   let obj = Core.parse({\"_typename\":\"TCanvas\",\"fUniqueID\":0,\"fBits\":3342344,\"fLineColor\":1,\"fLineStyle\":1,\"fLineWidth\":1,\"fFillColor\":0,\"fFillStyle\":1001,\"fLeftMargin\":0.1,\"fRightMargin\":0.1,\"fBottomMargin\":0.1,\"fTopMargin\":0.1,\"fXfile\":2,\"fYfile\":2,\"fAfile\":1,\"fXstat\":0.99,\"fYstat\":0.99,\"fAstat\":2,\"fFrameFillColor\":0,\"fFrameLineColor\":1,\"fFrameFillStyle\":1001,\"fFrameLineStyle\":1,\"fFrameLineWidth\":1,\"fFrameBorderSize\":1,\"fFrameBorderMode\":0,\"fX1\":1.37499999068677,\"fY1\":-908.340918973621,\"fX2\":2.62500000931323,\"fY2\":8175.06772934922,\"fXtoAbsPixelk\":-765.599933406066,\"fXtoPixelk\":-765.599933406066,\"fXtoPixel\":556.799991703033,\"fYtoAbsPixelk\":424.800047186661,\"fYtoPixelk\":424.800047186661,\"fYtoPixel\":-0.0519628718991026,\"fUtoAbsPixelk\":5e-5,\"fUtoPixelk\":5e-5,\"fUtoPixel\":696,\"fVtoAbsPixelk\":472.00005,\"fVtoPixelk\":472,\"fVtoPixel\":-472,\"fAbsPixeltoXk\":1.37499999068677,\"fPixeltoXk\":1.37499999068677,\"fPixeltoX\":0.0017959770382564,\"fAbsPixeltoYk\":8175.06772934922,\"fPixeltoYk\":-908.340918973621,\"fPixeltoY\":-19.2445098481416,\"fXlowNDC\":0,\"fYlowNDC\":0,\"fXUpNDC\":1,\"fYUpNDC\":1,\"fWNDC\":1,\"fHNDC\":1,\"fAbsXlowNDC\":0,\"fAbsYlowNDC\":0,\"fAbsWNDC\":1,\"fAbsHNDC\":1,\"fUxmin\":1.5,\"fUymin\":0,\"fUxmax\":2.5,\"fUymax\":7266.7268103756,\"fTheta\":30,\"fPhi\":30,\"fAspectRatio\":0,\"fNumber\":0,\"fTickx\":0,\"fTicky\":0,\"fLogx\":0,\"fLogy\":0,\"fLogz\":0,\"fPadPaint\":0,\"fCrosshair\":0,\"fCrosshairPos\":0,\"fBorderSize\":2,\"fBorderMode\":0,\"fModified\":false,\"fGridx\":false,\"fGridy\":false,\"fAbsCoord\":false,\"fEditable\":true,\"fFixedAspectRatio\":false,\"fPrimitives\":{\"_typename\":\"TList\",\"name\":\"TList\",\"arr\":[{\"_typename\":\"TFrame\",\"fUniqueID\":0,\"fBits\":8,\"fLineColor\":1,\"fLineStyle\":1,\"fLineWidth\":1,\"fFillColor\":0,\"fFillStyle\":1001,\"fX1\":1.5,\"fY1\":0,\"fX2\":2.5,\"fY2\":7266.7268103756,\"fBorderSize\":1,\"fBorderMode\":0},{\"_typename\":\"TH1D\",\"fUniqueID\":0,\"fBits\":8,\"fName\":\"mc\",\"fTitle\":\"MM(eK^{+}K^{+})\",\"fLineColor\":632,\"fLineStyle\":1,\"fLineWidth\":1,\"fFillColor\":0,\"fFillStyle\":1001,\"fMarkerColor\":1,\"fMarkerStyle\":21,\"fMarkerSize\":0.8,\"fNcells\":27,\"fXaxis\":{\"_typename\":\"TAxis\",\"fUniqueID\":0,\"fBits\":0,\"fName\":\"xaxis\",\"fTitle\":\"MM(eK^{+}K^{+}) [GeV\\/c^{2}]\",\"fNdivisions\":510,\"fAxisColor\":1,\"fLabelColor\":1,\"fLabelFont\":42,\"fLabelOffset\":0.005,\"fLabelSize\":0.035,\"fTickLength\":0.03,\"fTitleOffset\":0.9,\"fTitleSize\":0.05,\"fTitleColor\":1,\"fTitleFont\":42,\"fNbins\":25,\"fXmin\":1.5,\"fXmax\":2.5,\"fXbins\":[],\"fFirst\":0,\"fLast\":0,\"fBits2\":0,\"fTimeDisplay\":false,\"fTimeFormat\":\"\",\"fLabels\":null,\"fModLabs\":null},\"fYaxis\":{\"_typename\":\"TAxis\",\"fUniqueID\":0,\"fBits\":0,\"fName\":\"yaxis\",\"fTitle\":\"Counts\\/40 MeV\\/c^{2}\",\"fNdivisions\":510,\"fAxisColor\":1,\"fLabelColor\":1,\"fLabelFont\":42,\"fLabelOffset\":0.005,\"fLabelSize\":0.035,\"fTickLength\":0.03,\"fTitleOffset\":0,\"fTitleSize\":0.05,\"fTitleColor\":1,\"fTitleFont\":42,\"fNbins\":1,\"fXmin\":0,\"fXmax\":1,\"fXbins\":[],\"fFirst\":0,\"fLast\":0,\"fBits2\":0,\"fTimeDisplay\":false,\"fTimeFormat\":\"\",\"fLabels\":null,\"fModLabs\":null},\"fZaxis\":{\"_typename\":\"TAxis\",\"fUniqueID\":0,\"fBits\":0,\"fName\":\"zaxis\",\"fTitle\":\"\",\"fNdivisions\":510,\"fAxisColor\":1,\"fLabelColor\":1,\"fLabelFont\":42,\"fLabelOffset\":0.005,\"fLabelSize\":0.035,\"fTickLength\":0.03,\"fTitleOffset\":1,\"fTitleSize\":0.035,\"fTitleColor\":1,\"fTitleFont\":42,\"fNbins\":1,\"fXmin\":0,\"fXmax\":1,\"fXbins\":[],\"fFirst\":0,\"fLast\":0,\"fBits2\":0,\"fTimeDisplay\":false,\"fTimeFormat\":\"\",\"fLabels\":null,\"fModLabs\":null},\"fBarOffset\":0,\"fBarWidth\":1000,\"fEntries\":19994,\"fTsumw\":19862,\"fTsumw2\":19862,\"fTsumwx\":36577.2282057434,\"fTsumwx2\":67497.1932355849,\"fMaximum\":-1111,\"fMinimum\":-1111,\"fNormFactor\":0,\"fContour\":[],\"fSumw2\":[],\"fOption\":\"\",\"fFunctions\":{\"_typename\":\"TList\",\"name\":\"TList\",\"arr\":[{\"_typename\":\"TF1\",\"fUniqueID\":0,\"fBits\":1024,\"fName\":\"gaus\",\"fTitle\":\"gaus\",\"fLineColor\":2,\"fLineStyle\":1,\"fLineWidth\":2,\"fFillColor\":19,\"fFillStyle\":0,\"fMarkerColor\":1,\"fMarkerStyle\":1,\"fMarkerSize\":1,\"fXmin\":1.65,\"fXmax\":1.98,\"fNpar\":3,\"fNdim\":1,\"fNpx\":100,\"fType\":0,\"fNpfits\":8,\"fNDF\":5,\"fChisquare\":1040.83566560331,\"fMinimum\":-1111,\"fMaximum\":-1111,\"fParErrors\":[53.6688983135234,3.71998785432139e-4,2.73931870180981e-4],\"fParMin\":[0,0,0],\"fParMax\":[0,0,0.501990792903638],\"fSave\":{\"$arr\":\"Float64\",\"len\":103,\"v\":[9.9192723434143,12.497103757035,15.6781130753183,19.5854279217692,24.3627996102355,30.1770079228061,37.2203126092708,45.71289347714,55.9052073303396,68.0801758676035,82.555104440571,99.6832178815383,119.854687135301,143.497009959442,171.074601361657,203.08744564068,240.068662822534,282.580848838642,331.211061797029,386.564346832064,449.255719760402,519.900565337135,599.1034491931,687.445393066481,785.469719836458,893.666636806608,1012.45679092029,1142.17409595306,1283.04819668227,1435.18699574927,1598.5597223755,1772.98106516432,1958.09692087972,2153.37232453208,2358.08212089978,2571.30491191432,2791.9207669783,3018.61311395825,3249.87513792409,3484.02090431983,3719.20129579148,3953.42471098543,4184.58232376562,4410.47754771865,4628.85919929819,4837.45770957589,5034.0236054194,5216.36737184629,5382.39972359101,5530.17126001847,5657.91045678785,5764.05896218463,5847.30321643439,5906.60149770507,5941.20561649285,5950.67662682393,5934.89409304437,5894.05863869511,5828.68770205706,5739.60462390504,5627.92138919466,5495.01552841441,5342.50184931612,5172.19980971656,4986.09745220354,4786.31289838414,4575.05444175404,4354.58028384697,4127.15892904587,3895.03119171465,3660.37467879903,3425.27149642871,3191.67979578112,2961.4096274727,2736.10342114729,2517.22125375644,2306.03092193659,2103.60269595045,1910.80850916992,1728.32523141564,1556.64158902332,1396.0682306563,1246.75039600735,1108.68262409819,981.724937547366,865.619956917559,760.010432544397,664.456727204433,578.453838535078,501.447612173853,432.849862147155,372.052181343468,318.438289503993,271.394826988865,230.320557986086,194.633995616592,163.779502773369,137.231956137819,114.500086623939,95.1286277976564,78.6994151394173,1.65,1.98]},\"fNormalized\":false,\"fNormIntegral\":0,\"fFormula\":{\"_typename\":\"TFormula\",\"fUniqueID\":0,\"fBits\":1024,\"fName\":\"gaus\",\"fTitle\":\"gaus\",\"fClingParameters\":[5950.87442321011,1.83108721081121,0.0506280178133907],\"fAllParametersSetted\":true,\"fParams\":[{\"$pair\":\"pair<TString,int,TFormulaParamOrder>\",\"first\":\"Constant\",\"second\":0},{\"$pair\":\"pair<TString,int,TFormulaParamOrder>\",\"first\":\"Mean\",\"second\":1},{\"$pair\":\"pair<TString,int,TFormulaParamOrder>\",\"first\":\"Sigma\",\"second\":2}],\"fFormula\":\"[Constant]*exp(-0.5*((x-[Mean])\\/[Sigma])*((x-[Mean])\\/[Sigma]))\",\"fNdim\":1,\"fLinearParts\":[],\"fVectorized\":false},\"fParams\":null,\"fComposition\":null},{\"_typename\":\"TPaveStats\",\"fUniqueID\":0,\"fBits\":9,\"fLineColor\":1,\"fLineStyle\":1,\"fLineWidth\":1,\"fFillColor\":0,\"fFillStyle\":1001,\"fX1\":2.15000001937151,\"fY1\":6131.30083761791,\"fX2\":2.60000003278256,\"fY2\":7584.64618886477,\"fX1NDC\":0.620000013709068,\"fY1NDC\":0.775000005960464,\"fX2NDC\":0.980000019073486,\"fY2NDC\":0.935000002384186,\"fBorderSize\":1,\"fInit\":1,\"fShadowColor\":1,\"fCornerRadius\":0,\"fOption\":\"brNDC\",\"fName\":\"stats\",\"fTextAngle\":0,\"fTextSize\":0,\"fTextAlign\":12,\"fTextColor\":1,\"fTextFont\":42,\"fLabel\":\"\",\"fLongest\":31,\"fMargin\":0.05,\"fLines\":{\"_typename\":\"TList\",\"name\":\"TList\",\"arr\":[{\"_typename\":\"TLatex\",\"fUniqueID\":0,\"fBits\":0,\"fName\":\"\",\"fTitle\":\"Constant =  5951 #pm 53.7 \",\"fTextAngle\":0,\"fTextSize\":0,\"fTextAlign\":0,\"fTextColor\":0,\"fTextFont\":0,\"fX\":0,\"fY\":0,\"fLineColor\":1,\"fLineStyle\":1,\"fLineWidth\":2,\"fLimitFactorSize\":3,\"fOriginSize\":0.04},{\"_typename\":\"TLatex\",\"fUniqueID\":0,\"fBits\":0,\"fName\":\"\",\"fTitle\":\"Mean     = 1.831 #pm 0.000 \",\"fTextAngle\":0,\"fTextSize\":0,\"fTextAlign\":0,\"fTextColor\":0,\"fTextFont\":0,\"fX\":0,\"fY\":0,\"fLineColor\":1,\"fLineStyle\":1,\"fLineWidth\":2,\"fLimitFactorSize\":3,\"fOriginSize\":0.04},{\"_typename\":\"TLatex\",\"fUniqueID\":0,\"fBits\":0,\"fName\":\"\",\"fTitle\":\"Sigma    = 0.05063 #pm 0.00027 \",\"fTextAngle\":0,\"fTextSize\":0,\"fTextAlign\":0,\"fTextColor\":0,\"fTextFont\":0,\"fX\":0,\"fY\":0,\"fLineColor\":1,\"fLineStyle\":1,\"fLineWidth\":2,\"fLimitFactorSize\":3,\"fOriginSize\":0.04}],\"opt\":[\"\",\"\",\"\"]},\"fOptFit\":11,\"fOptStat\":0,\"fFitFormat\":\"5.4g\",\"fStatFormat\":\"6.4g\",\"fParent\":{\"$ref\":3}}],\"opt\":[\"\",\"brNDC\"]},\"fBufferSize\":0,\"fBuffer\":[],\"fBinStatErrOpt\":0,\"fStatOverflows\":2,\"fArray\":{\"$arr\":\"Float64\",\"len\":27,\"v\":[78,22,18,45,71,200,438,1610,5401,6838,2791,1054,519,238,159,103,74,51,39,49,29,33,18,27,22,13,54]}},{\"_typename\":\"TPaveText\",\"fUniqueID\":0,\"fBits\":9,\"fLineColor\":1,\"fLineStyle\":1,\"fLineWidth\":1,\"fFillColor\":0,\"fFillStyle\":0,\"fX1\":1.8779454004801,\"fY1\":7598.50225761196,\"fX2\":2.1220545995199,\"fY2\":8129.65072942067,\"fX1NDC\":0.40235632183908,\"fY1NDC\":0.936525428497185,\"fX2NDC\":0.59764367816092,\"fY2NDC\":0.995000004768372,\"fBorderSize\":0,\"fInit\":1,\"fShadowColor\":1,\"fCornerRadius\":0,\"fOption\":\"blNDC\",\"fName\":\"title\",\"fTextAngle\":0,\"fTextSize\":0,\"fTextAlign\":22,\"fTextColor\":1,\"fTextFont\":42,\"fLabel\":\"\",\"fLongest\":15,\"fMargin\":0.05,\"fLines\":{\"_typename\":\"TList\",\"name\":\"TList\",\"arr\":[{\"_typename\":\"TLatex\",\"fUniqueID\":0,\"fBits\":0,\"fName\":\"\",\"fTitle\":\"MM(eK^{+}K^{+})\",\"fTextAngle\":0,\"fTextSize\":0,\"fTextAlign\":0,\"fTextColor\":0,\"fTextFont\":0,\"fX\":0,\"fY\":0,\"fLineColor\":1,\"fLineStyle\":1,\"fLineWidth\":2,\"fLimitFactorSize\":3,\"fOriginSize\":0.0497033894062042}],\"opt\":[\"\"]}},{\"_typename\":\"TStyle\",\"fUniqueID\":0,\"fBits\":0,\"fName\":\"Modern\",\"fTitle\":\"Modern Style\",\"fLineColor\":1,\"fLineStyle\":1,\"fLineWidth\":1,\"fFillColor\":19,\"fFillStyle\":1001,\"fMarkerColor\":1,\"fMarkerStyle\":1,\"fMarkerSize\":1,\"fTextAngle\":0,\"fTextSize\":0.05,\"fTextAlign\":11,\"fTextColor\":1,\"fTextFont\":62,\"fXaxis\":{\"_typename\":\"TAttAxis\",\"fNdivisions\":510,\"fAxisColor\":1,\"fLabelColor\":1,\"fLabelFont\":42,\"fLabelOffset\":0.005,\"fLabelSize\":0.035,\"fTickLength\":0.03,\"fTitleOffset\":1,\"fTitleSize\":0.035,\"fTitleColor\":1,\"fTitleFont\":42},\"fYaxis\":{\"_typename\":\"TAttAxis\",\"fNdivisions\":510,\"fAxisColor\":1,\"fLabelColor\":1,\"fLabelFont\":42,\"fLabelOffset\":0.005,\"fLabelSize\":0.035,\"fTickLength\":0.03,\"fTitleOffset\":0,\"fTitleSize\":0.035,\"fTitleColor\":1,\"fTitleFont\":42},\"fZaxis\":{\"_typename\":\"TAttAxis\",\"fNdivisions\":510,\"fAxisColor\":1,\"fLabelColor\":1,\"fLabelFont\":42,\"fLabelOffset\":0.005,\"fLabelSize\":0.035,\"fTickLength\":0.03,\"fTitleOffset\":1,\"fTitleSize\":0.035,\"fTitleColor\":1,\"fTitleFont\":42},\"fBarWidth\":1,\"fBarOffset\":0,\"fColorModelPS\":0,\"fDrawBorder\":0,\"fOptLogx\":0,\"fOptLogy\":0,\"fOptLogz\":0,\"fOptDate\":0,\"fOptStat\":0,\"fOptTitle\":1,\"fOptFile\":0,\"fOptFit\":11,\"fShowEventStatus\":0,\"fShowEditor\":0,\"fShowToolBar\":0,\"fNumberContours\":20,\"fAttDate\":{\"_typename\":\"TAttText\",\"fTextAngle\":0,\"fTextSize\":0.025,\"fTextAlign\":11,\"fTextColor\":1,\"fTextFont\":62},\"fDateX\":0.01,\"fDateY\":0.01,\"fEndErrorSize\":2,\"fErrorX\":0.5,\"fFuncColor\":2,\"fFuncStyle\":1,\"fFuncWidth\":2,\"fGridColor\":0,\"fGridStyle\":3,\"fGridWidth\":1,\"fLegendBorderSize\":1,\"fLegendFillColor\":0,\"fLegendFont\":42,\"fLegendTextSize\":0,\"fHatchesLineWidth\":1,\"fHatchesSpacing\":1,\"fFrameFillColor\":0,\"fFrameLineColor\":1,\"fFrameFillStyle\":1001,\"fFrameLineStyle\":1,\"fFrameLineWidth\":1,\"fFrameBorderSize\":1,\"fFrameBorderMode\":0,\"fHistFillColor\":0,\"fHistLineColor\":602,\"fHistFillStyle\":1001,\"fHistLineStyle\":1,\"fHistLineWidth\":1,\"fHistMinimumZero\":false,\"fHistTopMargin\":0.05,\"fCanvasPreferGL\":false,\"fCanvasColor\":0,\"fCanvasBorderSize\":2,\"fCanvasBorderMode\":0,\"fCanvasDefH\":500,\"fCanvasDefW\":700,\"fCanvasDefX\":10,\"fCanvasDefY\":10,\"fPadColor\":0,\"fPadBorderSize\":2,\"fPadBorderMode\":0,\"fPadBottomMargin\":0.1,\"fPadTopMargin\":0.1,\"fPadLeftMargin\":0.1,\"fPadRightMargin\":0.1,\"fPadGridX\":false,\"fPadGridY\":false,\"fPadTickX\":0,\"fPadTickY\":0,\"fPaperSizeX\":20,\"fPaperSizeY\":26,\"fScreenFactor\":1,\"fStatColor\":0,\"fStatTextColor\":1,\"fStatBorderSize\":1,\"fStatFont\":42,\"fStatFontSize\":0,\"fStatStyle\":1001,\"fStatFormat\":\"6.4g\",\"fStatX\":0.98,\"fStatY\":0.935,\"fStatW\":0.2,\"fStatH\":0.16,\"fStripDecimals\":true,\"fTitleAlign\":23,\"fTitleColor\":0,\"fTitleTextColor\":1,\"fTitleBorderSize\":0,\"fTitleFont\":42,\"fTitleFontSize\":0.05,\"fTitleStyle\":0,\"fTitleX\":0.5,\"fTitleY\":0.995,\"fTitleW\":0,\"fTitleH\":0,\"fLegoInnerR\":0.5,\"fLineStyles\":[\"\",\"  \",\" 12 12\",\" 4 8\",\" 12 16 4 16\",\" 20 12 4 12\",\" 20 12 4 12 4 12 4 12\",\" 20 20\",\" 20 12 4 12 4 12\",\" 80 20\",\" 80 40 4 40\",\"  \",\"  \",\"  \",\"  \",\"  \",\"  \",\"  \",\"  \",\"  \",\"  \",\"  \",\"  \",\"  \",\"  \",\"  \",\"  \",\"  \",\"  \",\"  \"],\"fHeaderPS\":\"\",\"fTitlePS\":\"\",\"fFitFormat\":\"5.4g\",\"fPaintTextFormat\":\"g\",\"fLineScalePS\":3,\"fJoinLinePS\":0,\"fCapLinePS\":0,\"fTimeOffset\":788918400,\"fImageScaling\":1}],\"opt\":[\"\",\"E\",\"blNDC\",\"\"]},\"fExecs\":null,\"fName\":\"c1\",\"fTitle\":\"c1\",\"fNumPaletteColor\":0,\"fNextPaletteColor\":0,\"fDISPLAY\":\"$DISPLAY\",\"fDoubleBuffer\":0,\"fRetained\":true,\"fXsizeUser\":0,\"fYsizeUser\":0,\"fXsizeReal\":20,\"fYsizeReal\":14.28571,\"fWindowTopX\":0,\"fWindowTopY\":0,\"fWindowWidth\":0,\"fWindowHeight\":0,\"fCw\":696,\"fCh\":472,\"fCatt\":{\"_typename\":\"TAttCanvas\",\"fXBetween\":2,\"fYBetween\":2,\"fTitleFromTop\":1.2,\"fXdate\":0.2,\"fYdate\":0.3,\"fAdate\":1},\"kMoveOpaque\":true,\"kResizeOpaque\":true,\"fHighLightColor\":2,\"fBatch\":true,\"kShowEventStatus\":false,\"kAutoExec\":true,\"kMenuBar\":true});\n",
       "   Core.settings.HandleKeys = false;\n",
       "   Core.draw(\"root_plot_1660508698667\", obj, \"\");\n",
       "}\n",
       "\n",
       "function script_load_root_plot_1660508698667(src, on_error) {\n",
       "    let script = document.createElement('script');\n",
       "    script.src = src;\n",
       "    script.onload = function() { display_root_plot_1660508698667(JSROOT); };\n",
       "    script.onerror = function() { script.remove(); on_error(); };\n",
       "    document.head.appendChild(script);\n",
       "}\n",
       "\n",
       "if (typeof requirejs !== 'undefined') {\n",
       "\n",
       "    // We are in jupyter notebooks, use require.js which should be configured already\n",
       "    requirejs.config({\n",
       "       paths: { 'JSRootCore' : [ 'scripts/JSRoot.core', 'https://root.cern/js/6.1.1/scripts/JSRoot.core.min', 'https://jsroot.gsi.de/6.1.1/scripts/JSRoot.core.min' ] }\n",
       "    })(['JSRootCore'],  function(Core) {\n",
       "       display_root_plot_1660508698667(Core);\n",
       "    });\n",
       "\n",
       "} else if (typeof JSROOT !== 'undefined') {\n",
       "\n",
       "   // JSROOT already loaded, just use it\n",
       "   display_root_plot_1660508698667(JSROOT);\n",
       "\n",
       "} else {\n",
       "\n",
       "    // We are in jupyterlab without require.js, directly loading jsroot\n",
       "    // Jupyterlab might be installed in a different base_url so we need to know it.\n",
       "    try {\n",
       "        var base_url = JSON.parse(document.getElementById('jupyter-config-data').innerHTML).baseUrl;\n",
       "    } catch(_) {\n",
       "        var base_url = '/';\n",
       "    }\n",
       "\n",
       "    // Try loading a local version of requirejs and fallback to cdn if not possible.\n",
       "    script_load_root_plot_1660508698667(base_url + 'static/scripts/JSRoot.core.js', function(){\n",
       "        console.error('Fail to load JSROOT locally, please check your jupyter_notebook_config.py file');\n",
       "        script_load_root_plot_1660508698667('https://root.cern/js/6.1.1/scripts/JSRoot.core.min.js', function(){\n",
       "            document.getElementById(\"root_plot_1660508698667\").innerHTML = \"Failed to load JSROOT\";\n",
       "        });\n",
       "    });\n",
       "}\n",
       "\n",
       "</script>\n"
      ],
      "text/plain": [
       "<IPython.core.display.HTML object>"
      ]
     },
     "metadata": {},
     "output_type": "display_data"
    }
   ],
   "source": [
    "#h = ROOT.RDataFrame(\"T\",\"../simu_prod/xi_1820_bw_mc_fall2018out_fte/plot/rec_xi_1820_bw_mc_fall2018out_fte.root\").Histo1D((\"mc\", \"mc\", 25, 1.6, 2.1), \"mm_fkpskp\")\n",
    "#h = ROOT.RDataFrame(\"T\",\"../simu_prod/xi_1820_bw_mc_fall2018out_fte/plot/rec_xi_1820_bw_mc_smeared_e2p5p_k0p35p_fall2018out_fte.root\").Histo1D((\"mc\", \"mc\", 25, 1.5, 2.5), \"mm_fkpskp\")\n",
    "h = ROOT.RDataFrame(\"T\",\"../simu_prod/xi_1820_bw_mc_fall2018out_fte/plot/rec_xi_1820_bw_mc_smeared_e1p5p_k0p35p_fall2018out_fte.root\").Histo1D((\"mc\", \"mc\", 25, 1.5, 2.5), \"mm_fkpskp\")\n",
    "#h = ROOT.RDataFrame(\"T\",\"../simu_prod/xi_1820_bw_mc_fall2018out_fte/plot/rec_xi_1820_bw_mc_smeared_e3p5p_k0p35p_fall2018out_fte.root\").Histo1D((\"mc\", \"mc\", 25, 1.5, 2.5), \"mm_fkpskp\")\n",
    "\n",
    "\n",
    "h.SetTitle(\"MM(eK^{+}K^{+})\")\n",
    "#h.SetTitleSize(0.06, \"x\")\n",
    "h.GetXaxis().SetTitle(\"MM(eK^{+}K^{+}) [GeV/c^{2}]\")\n",
    "h.GetYaxis().SetTitle(\"Counts/40 MeV/c^{2}\")\n",
    "h.GetXaxis().SetTitleSize(0.05)\n",
    "h.GetYaxis().SetTitleSize(0.05)\n",
    "h.GetXaxis().SetTitleOffset(0.9)\n",
    "%jsroot on\n",
    "ROOT.gStyle.SetOptStat(0000)\n",
    "ROOT.gStyle.SetOptFit(11)\n",
    "c = ROOT.TCanvas()\n",
    "h.Draw(\"E\")\n",
    "#h.Fit(\"gaus\", \"S\", \" \", 1.75, 1.9)\n",
    "h.Fit(\"gaus\", \"LEMS\", \" \", 1.65, 1.98)\n",
    "h.SetLineColor(ROOT.kRed)\n",
    "h.SetMarkerStyle(21)\n",
    "h.SetMarkerSize(0.8)\n",
    "c.Draw()"
   ]
  },
  {
   "cell_type": "code",
   "execution_count": null,
   "id": "3be53554",
   "metadata": {},
   "outputs": [],
   "source": []
  }
 ],
 "metadata": {
  "kernelspec": {
   "display_name": "Python 3 (ipykernel)",
   "language": "python",
   "name": "python3"
  },
  "language_info": {
   "codemirror_mode": {
    "name": "ipython",
    "version": 3
   },
   "file_extension": ".py",
   "mimetype": "text/x-python",
   "name": "python",
   "nbconvert_exporter": "python",
   "pygments_lexer": "ipython3",
   "version": "3.9.12"
  }
 },
 "nbformat": 4,
 "nbformat_minor": 5
}
