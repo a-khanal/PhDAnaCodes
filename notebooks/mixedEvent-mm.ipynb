{
 "cells": [
  {
   "cell_type": "code",
   "execution_count": 1,
   "id": "340bb975",
   "metadata": {},
   "outputs": [
    {
     "name": "stdout",
     "output_type": "stream",
     "text": [
      "Welcome to JupyROOT 6.26/00\n"
     ]
    }
   ],
   "source": [
    "import ROOT\n",
    "import math\n",
    "from array import array\n",
    "import numpy as np"
   ]
  },
  {
   "cell_type": "code",
   "execution_count": 2,
   "id": "edf934d3",
   "metadata": {
    "scrolled": false
   },
   "outputs": [
    {
     "name": "stdout",
     "output_type": "stream",
     "text": [
      "-rw-r--r--  1 akhanal  staff       44490 Feb 13  2022 basic.root\r\n",
      "-rw-r--r--  1 akhanal  staff      890817 Feb 22  2022 data_all_fde.root\r\n",
      "-rw-r--r--  1 akhanal  staff     7487446 Feb 22  2022 data_all_fte.root\r\n",
      "-rw-r--r--  1 akhanal  staff     7391613 Feb 22  2022 data_all_fte_ecornonly.root\r\n",
      "-rw-r--r--  1 akhanal  staff     7233824 Feb 22  2022 data_all_fte_nocorn.root\r\n",
      "-rw-r--r--  1 akhanal  staff      243193 Feb 21  2022 data_fall2018_in_fde.root\r\n",
      "-rw-r--r--  1 akhanal  staff      256433 Jun 16 22:29 data_fall2018_in_fde_goodruns.root\r\n",
      "-rw-r--r--  1 akhanal  staff      273170 Jul 28 18:57 data_fall2018_in_fde_goodruns_hasLamSigWeight.root\r\n",
      "-rw-r--r--  1 akhanal  staff   202574473 Jul 28 16:37 data_fall2018_in_fde_goodruns_threeKaon_mixEv_bg.root\r\n",
      "-rw-r--r--  1 akhanal  staff     3130991 Feb 22  2022 data_fall2018_in_fte.root\r\n",
      "-rw-r--r--  1 akhanal  staff     3090975 Feb 22  2022 data_fall2018_in_fte_ecornonly.root\r\n",
      "-rw-r--r--  1 akhanal  staff     3142907 Jun 16 22:51 data_fall2018_in_fte_goodruns.root\r\n",
      "-rw-r--r--  1 akhanal  staff     3343278 Jul 28 18:22 data_fall2018_in_fte_goodruns_hasLamSigWeight.root\r\n",
      "-rw-r--r--  1 akhanal  staff    38406461 Jul 28 16:03 data_fall2018_in_fte_goodruns_threeKaon_mixEv_bg.root\r\n",
      "-rw-r--r--  1 akhanal  staff     3025107 Feb 22  2022 data_fall2018_in_fte_nocorn.root\r\n",
      "-rw-r--r--  1 akhanal  staff      422232 Feb 22  2022 data_fall2018_out_fde.root\r\n",
      "-rw-r--r--  1 akhanal  staff      452457 Jun 16 22:35 data_fall2018_out_fde_goodruns.root\r\n",
      "-rw-r--r--  1 akhanal  staff      472805 Jul 19 10:13 data_fall2018_out_fde_goodruns_hasLamSigWeight.root\r\n",
      "-rw-r--r--  1 akhanal  staff      480762 Jul 26 12:11 data_fall2018_out_fde_goodruns_hasLamSigWeight1.root\r\n",
      "-rw-r--r--  1 akhanal  staff      472682 Jul 19 10:38 data_fall2018_out_fde_goodruns_hasLamSigWeight_v1.root\r\n",
      "-rw-r--r--  1 akhanal  staff     8774698 Jun 30 16:56 data_fall2018_out_fde_goodruns_mixEv_all.root\r\n",
      "-rw-r--r--  1 akhanal  staff     8766399 Jun 30 16:48 data_fall2018_out_fde_goodruns_mixEv_bg.root\r\n",
      "-rw-r--r--  1 akhanal  staff    30582618 Jul  5 11:48 data_fall2018_out_fde_goodruns_threeKaon_mixEv_bg.root\r\n",
      "-rw-r--r--  1 akhanal  staff    36773678 Jul  5 14:29 data_fall2018_out_fde_goodruns_threeKaon_mixEv_bg1.root\r\n",
      "-rw-r--r--  1 akhanal  staff      866861 Jun 30 18:54 data_fall2018_out_fde_goodruns_twoKaon_mixEv_all.root\r\n",
      "-rw-r--r--  1 akhanal  staff      864394 Jun 30 17:50 data_fall2018_out_fde_goodruns_twoKaon_mixEv_bg.root\r\n",
      "-rw-r--r--  1 akhanal  staff     1280945 Feb 22  2022 data_fall2018_out_fte.root\r\n",
      "-rw-r--r--  1 akhanal  staff     1264513 Feb 22  2022 data_fall2018_out_fte_ecornonly.root\r\n",
      "-rw-r--r--  1 akhanal  staff     1306025 Jun 16 22:42 data_fall2018_out_fte_goodruns.root\r\n",
      "-rw-r--r--  1 akhanal  staff     1367125 Jul 18 14:10 data_fall2018_out_fte_goodruns_hasLamSigWeight.root\r\n",
      "-rw-r--r--  1 akhanal  staff     1392687 Jul 26 11:20 data_fall2018_out_fte_goodruns_hasLamSigWeight1.root\r\n",
      "-rw-r--r--  1 akhanal  staff     1367461 Jul 19 10:56 data_fall2018_out_fte_goodruns_hasLamSigWeight_v1.root\r\n",
      "-rw-r--r--  1 akhanal  staff    76657735 Jun 30 15:50 data_fall2018_out_fte_goodruns_mixEv_all.root\r\n",
      "-rw-r--r--  1 akhanal  staff    76634783 Jun 30 16:26 data_fall2018_out_fte_goodruns_mixEv_bg.root\r\n",
      "-rw-r--r--  1 akhanal  staff    37629484 Jul  5 14:37 data_fall2018_out_fte_goodruns_threeKaon_mixEv_bg.root\r\n",
      "-rw-r--r--  1 akhanal  staff     4798157 Jun 30 18:49 data_fall2018_out_fte_goodruns_twoKaon_mixEv_all.root\r\n",
      "-rw-r--r--  1 akhanal  staff     4792111 Jun 30 18:41 data_fall2018_out_fte_goodruns_twoKaon_mixEv_bg.root\r\n",
      "-rw-r--r--  1 akhanal  staff     1237557 Feb 22  2022 data_fall2018_out_fte_nocorn.root\r\n",
      "-rw-r--r--  1 akhanal  staff      259676 Feb 22  2022 data_spring2019_in_fde.root\r\n",
      "-rw-r--r--  1 akhanal  staff      283709 Jun 16 23:05 data_spring2019_in_fde_goodruns.root\r\n",
      "-rw-r--r--  1 akhanal  staff      302153 Jul 28 19:00 data_spring2019_in_fde_goodruns_hasLamSigWeight.root\r\n",
      "-rw-r--r--  1 akhanal  staff   355391695 Jul 28 17:03 data_spring2019_in_fde_goodruns_threeKaon_mixEv_bg.root\r\n",
      "-rw-r--r--  1 akhanal  staff     3091731 Feb 22  2022 data_spring2019_in_fte.root\r\n",
      "-rw-r--r--  1 akhanal  staff     3052176 Feb 22  2022 data_spring2019_in_fte_ecornonly.root\r\n",
      "-rw-r--r--  1 akhanal  staff     3228480 Jun 16 23:01 data_spring2019_in_fte_goodruns.root\r\n",
      "-rw-r--r--  1 akhanal  staff     3440371 Jul 28 18:54 data_spring2019_in_fte_goodruns_hasLamSigWeight.root\r\n",
      "-rw-r--r--  1 akhanal  staff    40087366 Jul 28 16:15 data_spring2019_in_fte_goodruns_threeKaon_mixEv_bg.root\r\n",
      "-rw-r--r--  1 akhanal  staff     2987296 Feb 22  2022 data_spring2019_in_fte_nocorn.root\r\n",
      "-rw-r--r--  1 akhanal  staff     6071789 May 10 14:52 data_xi1320_2kplus_fall2018_in_fde.root\r\n",
      "-rw-r--r--  1 akhanal  staff    65153400 May 10 14:37 data_xi1320_2kplus_fall2018_in_fte.root\r\n",
      "-rw-r--r--  1 akhanal  staff     5321708 May  6 15:51 data_xi1320_2kplus_fall2018_out_fde.root\r\n",
      "-rw-r--r--  1 akhanal  staff    11629025 May  7 12:49 data_xi1320_2kplus_fall2018_out_fte.root\r\n",
      "-rw-r--r--  1 akhanal  staff    11395004 May  7 14:36 data_xi1320_2kplus_fall2018_out_fte_v1.root\r\n",
      "-rw-r--r--  1 akhanal  staff     1282228 May  8 13:43 data_xi1320_2kplus_rgk_6535MeV_out_fde.root\r\n",
      "-rw-r--r--  1 akhanal  staff      574409 May  8 13:30 data_xi1320_2kplus_rgk_7546MeV_out_fde.root\r\n",
      "-rw-r--r--  1 akhanal  staff     1097224 May  8 13:02 data_xi1320_2kplus_rgk_out_fte.root\r\n",
      "-rw-r--r--  1 akhanal  staff     7232530 May 10 14:55 data_xi1320_2kplus_spring2019_in_fde.root\r\n",
      "-rw-r--r--  1 akhanal  staff    68189916 May 10 14:22 data_xi1320_2kplus_spring2019_in_fte.root\r\n",
      "-rw-r--r--  1 akhanal  staff     1040565 May  6 13:49 data_xi1320_2kpluspim_fall2018_out_fde.root\r\n",
      "-rw-r--r--  1 akhanal  staff     3130209 May  4 08:41 mc_gen_delta_xi_fall2018_out_fde.root\r\n",
      "-rw-r--r--  1 akhanal  staff     6253127 Apr 23 10:43 mc_gen_delta_xi_fall2018_out_fte.root\r\n",
      "-rw-r--r--  1 akhanal  staff  2053820535 Feb 20  2022 mc_gen_fall2018_in_fde.root\r\n",
      "-rw-r--r--  1 akhanal  staff  2059616620 Feb 22  2022 mc_gen_fall2018_in_fte.root\r\n",
      "-rw-r--r--  1 akhanal  staff  1471876150 Mar 16  2022 mc_gen_fall2018_in_xi_weightdecay_fde.root\r\n",
      "-rw-r--r--  1 akhanal  staff  1475909955 Mar 16  2022 mc_gen_fall2018_in_xi_weightdecay_fte.root\r\n",
      "-rw-r--r--  1 akhanal  staff  2053820535 Feb 26  2022 mc_gen_fall2018_out_fde.root\r\n",
      "-rw-r--r--  1 akhanal  staff  2056214452 Feb 26  2022 mc_gen_fall2018_out_fte.root\r\n",
      "-rw-r--r--  1 akhanal  staff  1026945414 Mar 10  2022 mc_gen_fall2018_out_lamdecay_fde.root\r\n",
      "-rw-r--r--  1 akhanal  staff  1029752494 Mar 11  2022 mc_gen_fall2018_out_lamdecay_fte.root\r\n",
      "-rw-r--r--  1 akhanal  staff  1026829304 Mar 10  2022 mc_gen_fall2018_out_sigdecay_fde.root\r\n",
      "-rw-r--r--  1 akhanal  staff  1025972485 Mar 11  2022 mc_gen_fall2018_out_sigdecay_fte.root\r\n",
      "-rw-r--r--  1 akhanal  staff  1471842272 Mar 11  2022 mc_gen_fall2018_out_xi_weightdecay_fde.root\r\n",
      "-rw-r--r--  1 akhanal  staff  1718938127 Mar 11  2022 mc_gen_fall2018_out_xi_weightdecay_fte.root\r\n",
      "-rw-r--r--  1 akhanal  staff   624072355 May  9 11:54 mc_gen_xi1320_rga_config.root\r\n",
      "-rw-r--r--  1 akhanal  staff     3142095 May 17 17:50 mc_gen_xi1320_rga_fall2018_out_fde_test.root\r\n",
      "-rw-r--r--  1 akhanal  staff     3132422 May 17 17:37 mc_gen_xi1320_rga_fall2018_out_fte_test.root\r\n",
      "-rw-r--r--  1 akhanal  staff  3109470736 May  9 16:28 mc_gen_xi1320_rgk_fte.root\r\n",
      "-rw-r--r--  1 akhanal  staff       23477 May  4 08:41 mc_rec_delta_xi_fall2018_out_fde.root\r\n",
      "-rw-r--r--  1 akhanal  staff       49979 Apr 23 10:43 mc_rec_delta_xi_fall2018_out_fte.root\r\n",
      "-rw-r--r--  1 akhanal  staff     5231159 Feb 20  2022 mc_rec_fall2018_in_fde.root\r\n",
      "-rw-r--r--  1 akhanal  staff     7854518 Feb 22  2022 mc_rec_fall2018_in_fte.root\r\n",
      "-rw-r--r--  1 akhanal  staff      139151 Feb 22  2022 mc_rec_fall2018_in_fte_test_allcorn.root\r\n",
      "-rw-r--r--  1 akhanal  staff      137421 Feb 22  2022 mc_rec_fall2018_in_fte_test_energyCorn.root\r\n",
      "-rw-r--r--  1 akhanal  staff      134873 Feb 22  2022 mc_rec_fall2018_in_fte_test_nocorn.root\r\n",
      "-rw-r--r--  1 akhanal  staff     3808461 Mar 16  2022 mc_rec_fall2018_in_xi_weightdecay_fde.root\r",
      "\r\n",
      "-rw-r--r--  1 akhanal  staff     5637147 Mar 16  2022 mc_rec_fall2018_in_xi_weightdecay_fte.root\r\n",
      "-rw-r--r--  1 akhanal  staff     4712442 Feb 26  2022 mc_rec_fall2018_out_fde.root\r\n",
      "-rw-r--r--  1 akhanal  staff     4788271 Feb 26  2022 mc_rec_fall2018_out_fte.root\r\n",
      "-rw-r--r--  1 akhanal  staff     2420318 Mar 10  2022 mc_rec_fall2018_out_lamdecay_fde.root\r\n",
      "-rw-r--r--  1 akhanal  staff     2467037 Mar 11  2022 mc_rec_fall2018_out_lamdecay_fte.root\r\n",
      "-rw-r--r--  1 akhanal  staff     2305108 Mar 10  2022 mc_rec_fall2018_out_sigdecay_fde.root\r\n",
      "-rw-r--r--  1 akhanal  staff     2326006 Mar 11  2022 mc_rec_fall2018_out_sigdecay_fte.root\r\n",
      "-rw-r--r--  1 akhanal  staff     3419577 Mar 11  2022 mc_rec_fall2018_out_xi_weightdecay_fde.root\r\n",
      "-rw-r--r--  1 akhanal  staff     3836646 Mar 11  2022 mc_rec_fall2018_out_xi_weightdecay_fte.root\r\n",
      "-rw-r--r--  1 akhanal  staff       32276 May 17 17:49 mc_rec_xi1320_rga_fall2018_out_fde_test.root\r\n",
      "-rw-r--r--  1 akhanal  staff       43936 May 17 17:32 mc_rec_xi1320_rga_fall2018_out_fte_test.root\r\n",
      "-rw-r--r--  1 akhanal  staff       36601 May  9 11:52 mc_rec_xi1320_rga_fde.root\r\n",
      "-rw-r--r--  1 akhanal  staff      622828 May  9 11:52 mc_rec_xi1320_rga_fte.root\r\n",
      "-rw-r--r--  1 akhanal  staff    27744173 May  9 16:03 mc_rec_xi1320_rgk_fte.root\r\n",
      "-rw-r--r--  1 akhanal  staff      890817 Feb 20  2022 output_file_alldata_fde.root\r\n",
      "-rw-r--r--  1 akhanal  staff     7487446 Feb 21  2022 output_file_alldata_fte.root\r\n",
      "-rw-r--r--  1 akhanal  staff    13186984 Jul  8 14:25 pionsaskaons_data_f18out_fde_efkpfkpfkm.root\r\n",
      "-rw-r--r--  1 akhanal  staff        6786 Feb 12  2022 test0.root\r\n"
     ]
    }
   ],
   "source": [
    "ls -l *.root"
   ]
  },
  {
   "cell_type": "code",
   "execution_count": 3,
   "id": "b4e40336",
   "metadata": {},
   "outputs": [
    {
     "name": "stdout",
     "output_type": "stream",
     "text": [
      "Columns in the dataset: { \"mm_fkpskpkm_mixed\" }\n"
     ]
    }
   ],
   "source": [
    "df = ROOT.RDataFrame(\"T\", \"data_fall2018_out_fte_goodruns_mixEv_all.root\")\n",
    "print(f\"Columns in the dataset: {df.GetColumnNames()}\")"
   ]
  },
  {
   "cell_type": "markdown",
   "id": "b106b4ef",
   "metadata": {},
   "source": [
    "## Background Shape modeling\n",
    "* **To model a background shape, implemented events mixing technique in $eK^{+}K^{+}K^{-}$ data sample**\n",
    "* **Background Shape determination in the MM(eK+K+K-) from event mixing technique for events with FT-e**"
   ]
  },
  {
   "cell_type": "code",
   "execution_count": 4,
   "id": "ef1e16cc",
   "metadata": {},
   "outputs": [
    {
     "name": "stdout",
     "output_type": "stream",
     "text": [
      " FCN=98.0522 FROM MINOS     STATUS=SUCCESSFUL     28 CALLS         419 TOTAL\n",
      "                     EDM=3.71694e-14    STRATEGY= 1      ERROR MATRIX ACCURATE \n",
      "  EXT PARAMETER                                   STEP         FIRST   \n",
      "  NO.   NAME      VALUE            ERROR          SIZE      DERIVATIVE \n",
      "   1  p0           3.49737e+03   2.88749e+02  -1.23109e-01  -1.82054e-12\n",
      "   2  p1          -8.48121e+03   1.11288e+03   3.18146e-01  -7.08507e-12\n",
      "   3  p2           3.48905e+04   1.33491e+03  -1.80751e-01   1.38434e-13\n",
      "   4  p3          -1.77501e+04   5.03380e+02   5.03380e+02   6.62288e-10\n"
     ]
    },
    {
     "data": {
      "text/html": [
       "\n",
       "\n",
       "<div id=\"root_plot_1664829553882\"\n",
       "     style=\"width: 696px; height: 472px\">\n",
       "</div>\n",
       "<script>\n",
       "\n",
       "function display_root_plot_1664829553882(Core) {\n",
       "   let obj = Core.parse({\"_typename\":\"TCanvas\",\"fUniqueID\":0,\"fBits\":3342344,\"fLineColor\":1,\"fLineStyle\":1,\"fLineWidth\":1,\"fFillColor\":0,\"fFillStyle\":1001,\"fLeftMargin\":0.1,\"fRightMargin\":0.1,\"fBottomMargin\":0.1,\"fTopMargin\":0.1,\"fXfile\":2,\"fYfile\":2,\"fAfile\":1,\"fXstat\":0.99,\"fYstat\":0.99,\"fAstat\":2,\"fFrameFillColor\":0,\"fFrameLineColor\":1,\"fFrameFillStyle\":1001,\"fFrameLineStyle\":1,\"fFrameLineWidth\":1,\"fFrameBorderSize\":1,\"fFrameBorderMode\":0,\"fX1\":-0.250000018626453,\"fY1\":-1725.5651627683,\"fX2\":2.25000001862645,\"fY2\":15530.0854363978,\"fXtoAbsPixelk\":69.6000541484835,\"fXtoPixelk\":69.6000541484835,\"fXtoPixel\":278.399995851517,\"fYtoAbsPixelk\":424.800047186661,\"fYtoPixelk\":424.800047186661,\"fYtoPixel\":-0.0273533586744513,\"fUtoAbsPixelk\":5e-5,\"fUtoPixelk\":5e-5,\"fUtoPixel\":696,\"fVtoAbsPixelk\":472.00005,\"fVtoPixelk\":472,\"fVtoPixel\":-472,\"fAbsPixeltoXk\":-0.250000018626453,\"fPixeltoXk\":-0.250000018626453,\"fPixeltoX\":0.00359195407651279,\"fAbsPixeltoYk\":15530.0854363978,\"fPixeltoYk\":-1725.5651627683,\"fPixeltoY\":-36.5585817778942,\"fXlowNDC\":0,\"fYlowNDC\":0,\"fXUpNDC\":1,\"fYUpNDC\":1,\"fWNDC\":1,\"fHNDC\":1,\"fAbsXlowNDC\":0,\"fAbsYlowNDC\":0,\"fAbsWNDC\":1,\"fAbsHNDC\":1,\"fUxmin\":0,\"fUymin\":0,\"fUxmax\":2,\"fUymax\":13804.5202736295,\"fTheta\":30,\"fPhi\":30,\"fAspectRatio\":0,\"fNumber\":0,\"fTickx\":0,\"fTicky\":0,\"fLogx\":0,\"fLogy\":0,\"fLogz\":0,\"fPadPaint\":0,\"fCrosshair\":0,\"fCrosshairPos\":0,\"fBorderSize\":2,\"fBorderMode\":0,\"fModified\":false,\"fGridx\":false,\"fGridy\":false,\"fAbsCoord\":false,\"fEditable\":true,\"fFixedAspectRatio\":false,\"fPrimitives\":{\"_typename\":\"TList\",\"name\":\"TList\",\"arr\":[{\"_typename\":\"TFrame\",\"fUniqueID\":0,\"fBits\":8,\"fLineColor\":1,\"fLineStyle\":1,\"fLineWidth\":1,\"fFillColor\":0,\"fFillStyle\":1001,\"fX1\":0,\"fY1\":0,\"fX2\":2,\"fY2\":13804.5202736295,\"fBorderSize\":1,\"fBorderMode\":0},{\"_typename\":\"TH1D\",\"fUniqueID\":0,\"fBits\":8,\"fName\":\"data-mixev\",\"fTitle\":\"MM(eK^{+}K^{+}K^{-})-Bg. Modeling using events mixing\",\"fLineColor\":632,\"fLineStyle\":1,\"fLineWidth\":1,\"fFillColor\":0,\"fFillStyle\":1001,\"fMarkerColor\":1,\"fMarkerStyle\":21,\"fMarkerSize\":0.8,\"fNcells\":202,\"fXaxis\":{\"_typename\":\"TAxis\",\"fUniqueID\":0,\"fBits\":0,\"fName\":\"xaxis\",\"fTitle\":\"MM(eK^{+}K^{+}K^{-}) [GeV\\/c^{2}]\",\"fNdivisions\":510,\"fAxisColor\":1,\"fLabelColor\":1,\"fLabelFont\":42,\"fLabelOffset\":0.005,\"fLabelSize\":0.035,\"fTickLength\":0.03,\"fTitleOffset\":0.9,\"fTitleSize\":0.05,\"fTitleColor\":1,\"fTitleFont\":42,\"fNbins\":200,\"fXmin\":0,\"fXmax\":2,\"fXbins\":[],\"fFirst\":0,\"fLast\":0,\"fBits2\":0,\"fTimeDisplay\":false,\"fTimeFormat\":\"\",\"fLabels\":null,\"fModLabs\":null},\"fYaxis\":{\"_typename\":\"TAxis\",\"fUniqueID\":0,\"fBits\":0,\"fName\":\"yaxis\",\"fTitle\":\"Counts\\/10 MeV\\/c^{2}\",\"fNdivisions\":510,\"fAxisColor\":1,\"fLabelColor\":1,\"fLabelFont\":42,\"fLabelOffset\":0.005,\"fLabelSize\":0.035,\"fTickLength\":0.03,\"fTitleOffset\":0,\"fTitleSize\":0.05,\"fTitleColor\":1,\"fTitleFont\":42,\"fNbins\":1,\"fXmin\":0,\"fXmax\":1,\"fXbins\":[],\"fFirst\":0,\"fLast\":0,\"fBits2\":0,\"fTimeDisplay\":false,\"fTimeFormat\":\"\",\"fLabels\":null,\"fModLabs\":null},\"fZaxis\":{\"_typename\":\"TAxis\",\"fUniqueID\":0,\"fBits\":0,\"fName\":\"zaxis\",\"fTitle\":\"\",\"fNdivisions\":510,\"fAxisColor\":1,\"fLabelColor\":1,\"fLabelFont\":42,\"fLabelOffset\":0.005,\"fLabelSize\":0.035,\"fTickLength\":0.03,\"fTitleOffset\":1,\"fTitleSize\":0.035,\"fTitleColor\":1,\"fTitleFont\":42,\"fNbins\":1,\"fXmin\":0,\"fXmax\":1,\"fXbins\":[],\"fFirst\":0,\"fLast\":0,\"fBits2\":0,\"fTimeDisplay\":false,\"fTimeFormat\":\"\",\"fLabels\":null,\"fModLabs\":null},\"fBarOffset\":0,\"fBarWidth\":1000,\"fEntries\":2460240,\"fTsumw\":1481209,\"fTsumw2\":1481209,\"fTsumwx\":1624365.1287867,\"fTsumwx2\":2044737.23093499,\"fMaximum\":-1111,\"fMinimum\":-1111,\"fNormFactor\":0,\"fContour\":[],\"fSumw2\":[],\"fOption\":\"\",\"fFunctions\":{\"_typename\":\"TList\",\"name\":\"TList\",\"arr\":[{\"_typename\":\"TF1\",\"fUniqueID\":0,\"fBits\":1024,\"fName\":\"pol3\",\"fTitle\":\"pol3\",\"fLineColor\":2,\"fLineStyle\":1,\"fLineWidth\":2,\"fFillColor\":19,\"fFillStyle\":0,\"fMarkerColor\":1,\"fMarkerStyle\":1,\"fMarkerSize\":1,\"fXmin\":0.4,\"fXmax\":1.4,\"fNpar\":4,\"fNdim\":1,\"fNpx\":100,\"fType\":0,\"fNpfits\":100,\"fNDF\":96,\"fChisquare\":98.0522233502173,\"fMinimum\":-1111,\"fMaximum\":-1111,\"fParErrors\":[288.749252132994,1112.88180168531,1334.90782009141,503.379829055506],\"fParMin\":[0,0,0,0],\"fParMax\":[0,0,0,0],\"fSave\":{\"$arr\":\"Float64\",\"len\":103,\"v\":[4551.37087798883,4661.82411170617,4774.88893877992,4890.45885889852,5008.4273717504,5128.68797702398,5251.13417440771,5375.65946359,5502.15734425929,5630.52131610402,5760.64487881261,5892.42153207349,6025.7447755751,6160.50810900587,6296.60503205422,6433.92904440859,6572.3736457574,6711.8323357891,6852.19861419211,6993.36598065486,7135.22793486579,7277.67797651332,7420.60960528588,7563.91632087192,7707.49162295984,7851.2290112381,7995.02198539511,8138.76404511932,8282.34869009915,8425.66942002303,8568.6197345794,8711.09313345668,8852.9831163433,8994.18318292771,9134.58683289831,9274.08756594356,9412.57888175188,9549.9542800117,9686.10726041145,9820.93132263957,9954.31996638447,10086.1666913346,10216.3649971784,10344.8083836043,10471.3903503007,10596.004396956,10718.5440232587,10838.9027288973,10956.97401356,11072.6513769355,11185.8283187121,11296.3983385781,11404.2549362222,11509.2916113326,11611.4018635979,11710.4791927065,11806.4170983467,11899.1090802071,11988.448637976,12074.3292713418,12156.6444799932,12235.2877636183,12310.1526219057,12381.1325545439,12448.1210612211,12511.011641626,12569.6977954468,12624.0730223721,12674.0308220902,12719.4646942897,12760.2681386588,12796.3346548861,12827.55774266,12853.830901669,12875.0476316013,12891.1014321456,12901.8858029901,12907.2942438234,12907.2202543339,12901.55733421,12890.1989831401,12873.0387008127,12849.9699869162,12820.886341139,12785.6812631695,12744.2482526963,12696.4808094077,12642.2724329921,12581.516623138,12514.1068795339,12439.936701868,12358.899589829,12270.8890431051,12175.7985613849,12073.5216443568,11963.9517917092,11846.9825031305,11722.5072783091,11590.4196169336,11450.6130186923,11302.9809832736,0.4,1.4]},\"fNormalized\":false,\"fNormIntegral\":0,\"fFormula\":{\"_typename\":\"TFormula\",\"fUniqueID\":0,\"fBits\":66560,\"fName\":\"pol3\",\"fTitle\":\"pol3\",\"fClingParameters\":[3497.37165836698,-8481.20590392416,34890.5306537113,-17750.051928161],\"fAllParametersSetted\":true,\"fParams\":[{\"$pair\":\"pair<TString,int,TFormulaParamOrder>\",\"first\":\"p0\",\"second\":0},{\"$pair\":\"pair<TString,int,TFormulaParamOrder>\",\"first\":\"p1\",\"second\":1},{\"$pair\":\"pair<TString,int,TFormulaParamOrder>\",\"first\":\"p2\",\"second\":2},{\"$pair\":\"pair<TString,int,TFormulaParamOrder>\",\"first\":\"p3\",\"second\":3}],\"fFormula\":\"([p0]+[p1]*x+[p2]*pow(x,2)+[p3]*pow(x,3))\",\"fNdim\":1,\"fLinearParts\":[],\"fVectorized\":false},\"fParams\":null,\"fComposition\":null}],\"opt\":[\"\"]},\"fBufferSize\":0,\"fBuffer\":[],\"fBinStatErrOpt\":0,\"fStatOverflows\":2,\"fArray\":{\"$arr\":\"Float64\",\"len\":202,\"v\":[954812,48,156,267,374,478,586,650,833,945,1000,1137,1203,1324,1467,1545,1631,1790,1910,2056,2107,2202,2311,2445,2594,2721,2773,2878,3054,3130,3185,3357,3446,3702,3791,3918,3953,4136,4171,4351,4454,4524,4768,4840,5057,4948,5153,5216,5392,5638,5696,5963,5887,6161,6286,6437,6518,6725,6666,6964,7089,7273,7451,7409,7551,7743,8073,8148,8151,8304,8584,8638,8739,8841,8985,9222,9294,9557,9473,9648,9673,10036,10221,10340,10354,10596,10573,10701,10971,10905,11295,11189,11309,11440,11412,11752,11768,11906,11986,11959,12199,12234,12386,12281,12275,12669,12776,12566,12792,12779,12748,12772,12817,12993,12818,13033,12746,12792,12968,12987,12830,12731,12859,12844,12722,12714,12668,12530,12459,12382,12537,12733,12312,12397,12085,12044,11790,11912,11508,11669,11315,11343,11132,11153,11061,10689,10493,10304,10323,10137,10001,9843,9621,9618,9176,9118,8801,8752,8647,8393,8275,8008,7826,7855,7492,7256,7261,6785,6784,6601,6453,6221,6011,5954,5681,5341,5291,5214,4846,4659,4636,4416,4162,4011,3935,3831,3534,3442,3275,3258,3086,2888,2624,2557,2391,2360,2315,2150,2013,1916,1841,24219]}},{\"_typename\":\"TPaveText\",\"fUniqueID\":0,\"fBits\":9,\"fLineColor\":1,\"fLineStyle\":1,\"fLineWidth\":1,\"fFillColor\":0,\"fFillStyle\":0,\"fX1\":0.124999986961483,\"fY1\":14390.9201104799,\"fX2\":1.87500001303852,\"fY2\":15443.8072656833,\"fX1NDC\":0.15,\"fY1NDC\":0.933983055615829,\"fX2NDC\":0.85,\"fY2NDC\":0.995000004768372,\"fBorderSize\":0,\"fInit\":1,\"fShadowColor\":1,\"fCornerRadius\":0,\"fOption\":\"blNDC\",\"fName\":\"title\",\"fTextAngle\":0,\"fTextSize\":0,\"fTextAlign\":22,\"fTextColor\":1,\"fTextFont\":42,\"fLabel\":\"\",\"fLongest\":53,\"fMargin\":0.05,\"fLines\":{\"_typename\":\"TList\",\"name\":\"TList\",\"arr\":[{\"_typename\":\"TLatex\",\"fUniqueID\":0,\"fBits\":0,\"fName\":\"\",\"fTitle\":\"MM(eK^{+}K^{+}K^{-})-Bg. Modeling using events mixing\",\"fTextAngle\":0,\"fTextSize\":0,\"fTextAlign\":0,\"fTextColor\":0,\"fTextFont\":0,\"fX\":0,\"fY\":0,\"fLineColor\":1,\"fLineStyle\":1,\"fLineWidth\":2,\"fLimitFactorSize\":3,\"fOriginSize\":0.0518644079566002}],\"opt\":[\"\"]}},{\"_typename\":\"TStyle\",\"fUniqueID\":0,\"fBits\":0,\"fName\":\"Modern\",\"fTitle\":\"Modern Style\",\"fLineColor\":1,\"fLineStyle\":1,\"fLineWidth\":1,\"fFillColor\":19,\"fFillStyle\":1001,\"fMarkerColor\":1,\"fMarkerStyle\":1,\"fMarkerSize\":1,\"fTextAngle\":0,\"fTextSize\":0.05,\"fTextAlign\":11,\"fTextColor\":1,\"fTextFont\":62,\"fXaxis\":{\"_typename\":\"TAttAxis\",\"fNdivisions\":510,\"fAxisColor\":1,\"fLabelColor\":1,\"fLabelFont\":42,\"fLabelOffset\":0.005,\"fLabelSize\":0.035,\"fTickLength\":0.03,\"fTitleOffset\":1,\"fTitleSize\":0.035,\"fTitleColor\":1,\"fTitleFont\":42},\"fYaxis\":{\"_typename\":\"TAttAxis\",\"fNdivisions\":510,\"fAxisColor\":1,\"fLabelColor\":1,\"fLabelFont\":42,\"fLabelOffset\":0.005,\"fLabelSize\":0.035,\"fTickLength\":0.03,\"fTitleOffset\":0,\"fTitleSize\":0.035,\"fTitleColor\":1,\"fTitleFont\":42},\"fZaxis\":{\"_typename\":\"TAttAxis\",\"fNdivisions\":510,\"fAxisColor\":1,\"fLabelColor\":1,\"fLabelFont\":42,\"fLabelOffset\":0.005,\"fLabelSize\":0.035,\"fTickLength\":0.03,\"fTitleOffset\":1,\"fTitleSize\":0.035,\"fTitleColor\":1,\"fTitleFont\":42},\"fBarWidth\":1,\"fBarOffset\":0,\"fColorModelPS\":0,\"fDrawBorder\":0,\"fOptLogx\":0,\"fOptLogy\":0,\"fOptLogz\":0,\"fOptDate\":0,\"fOptStat\":0,\"fOptTitle\":1,\"fOptFile\":0,\"fOptFit\":0,\"fShowEventStatus\":0,\"fShowEditor\":0,\"fShowToolBar\":0,\"fNumberContours\":20,\"fAttDate\":{\"_typename\":\"TAttText\",\"fTextAngle\":0,\"fTextSize\":0.025,\"fTextAlign\":11,\"fTextColor\":1,\"fTextFont\":62},\"fDateX\":0.01,\"fDateY\":0.01,\"fEndErrorSize\":2,\"fErrorX\":0.5,\"fFuncColor\":2,\"fFuncStyle\":1,\"fFuncWidth\":2,\"fGridColor\":0,\"fGridStyle\":3,\"fGridWidth\":1,\"fLegendBorderSize\":1,\"fLegendFillColor\":0,\"fLegendFont\":42,\"fLegendTextSize\":0,\"fHatchesLineWidth\":1,\"fHatchesSpacing\":1,\"fFrameFillColor\":0,\"fFrameLineColor\":1,\"fFrameFillStyle\":1001,\"fFrameLineStyle\":1,\"fFrameLineWidth\":1,\"fFrameBorderSize\":1,\"fFrameBorderMode\":0,\"fHistFillColor\":0,\"fHistLineColor\":602,\"fHistFillStyle\":1001,\"fHistLineStyle\":1,\"fHistLineWidth\":1,\"fHistMinimumZero\":false,\"fHistTopMargin\":0.05,\"fCanvasPreferGL\":false,\"fCanvasColor\":0,\"fCanvasBorderSize\":2,\"fCanvasBorderMode\":0,\"fCanvasDefH\":500,\"fCanvasDefW\":700,\"fCanvasDefX\":10,\"fCanvasDefY\":10,\"fPadColor\":0,\"fPadBorderSize\":2,\"fPadBorderMode\":0,\"fPadBottomMargin\":0.1,\"fPadTopMargin\":0.1,\"fPadLeftMargin\":0.1,\"fPadRightMargin\":0.1,\"fPadGridX\":false,\"fPadGridY\":false,\"fPadTickX\":0,\"fPadTickY\":0,\"fPaperSizeX\":20,\"fPaperSizeY\":26,\"fScreenFactor\":1,\"fStatColor\":0,\"fStatTextColor\":1,\"fStatBorderSize\":1,\"fStatFont\":42,\"fStatFontSize\":0,\"fStatStyle\":1001,\"fStatFormat\":\"6.4g\",\"fStatX\":0.98,\"fStatY\":0.935,\"fStatW\":0.2,\"fStatH\":0.16,\"fStripDecimals\":true,\"fTitleAlign\":23,\"fTitleColor\":0,\"fTitleTextColor\":1,\"fTitleBorderSize\":0,\"fTitleFont\":42,\"fTitleFontSize\":0.05,\"fTitleStyle\":0,\"fTitleX\":0.5,\"fTitleY\":0.995,\"fTitleW\":0,\"fTitleH\":0,\"fLegoInnerR\":0.5,\"fLineStyles\":[\"\",\"  \",\" 12 12\",\" 4 8\",\" 12 16 4 16\",\" 20 12 4 12\",\" 20 12 4 12 4 12 4 12\",\" 20 20\",\" 20 12 4 12 4 12\",\" 80 20\",\" 80 40 4 40\",\"  \",\"  \",\"  \",\"  \",\"  \",\"  \",\"  \",\"  \",\"  \",\"  \",\"  \",\"  \",\"  \",\"  \",\"  \",\"  \",\"  \",\"  \",\"  \"],\"fHeaderPS\":\"\",\"fTitlePS\":\"\",\"fFitFormat\":\"5.4g\",\"fPaintTextFormat\":\"g\",\"fLineScalePS\":3,\"fJoinLinePS\":0,\"fCapLinePS\":0,\"fTimeOffset\":788918400,\"fImageScaling\":1}],\"opt\":[\"\",\"E\",\"blNDC\",\"\"]},\"fExecs\":null,\"fName\":\"c1\",\"fTitle\":\"c1\",\"fNumPaletteColor\":0,\"fNextPaletteColor\":0,\"fDISPLAY\":\"$DISPLAY\",\"fDoubleBuffer\":0,\"fRetained\":true,\"fXsizeUser\":0,\"fYsizeUser\":0,\"fXsizeReal\":20,\"fYsizeReal\":14.28571,\"fWindowTopX\":0,\"fWindowTopY\":0,\"fWindowWidth\":0,\"fWindowHeight\":0,\"fCw\":696,\"fCh\":472,\"fCatt\":{\"_typename\":\"TAttCanvas\",\"fXBetween\":2,\"fYBetween\":2,\"fTitleFromTop\":1.2,\"fXdate\":0.2,\"fYdate\":0.3,\"fAdate\":1},\"kMoveOpaque\":true,\"kResizeOpaque\":true,\"fHighLightColor\":2,\"fBatch\":true,\"kShowEventStatus\":false,\"kAutoExec\":true,\"kMenuBar\":true});\n",
       "   Core.settings.HandleKeys = false;\n",
       "   Core.draw(\"root_plot_1664829553882\", obj, \"\");\n",
       "}\n",
       "\n",
       "function script_load_root_plot_1664829553882(src, on_error) {\n",
       "    let script = document.createElement('script');\n",
       "    script.src = src;\n",
       "    script.onload = function() { display_root_plot_1664829553882(JSROOT); };\n",
       "    script.onerror = function() { script.remove(); on_error(); };\n",
       "    document.head.appendChild(script);\n",
       "}\n",
       "\n",
       "if (typeof requirejs !== 'undefined') {\n",
       "\n",
       "    // We are in jupyter notebooks, use require.js which should be configured already\n",
       "    requirejs.config({\n",
       "       paths: { 'JSRootCore' : [ 'scripts/JSRoot.core', 'https://root.cern/js/6.1.1/scripts/JSRoot.core.min', 'https://jsroot.gsi.de/6.1.1/scripts/JSRoot.core.min' ] }\n",
       "    })(['JSRootCore'],  function(Core) {\n",
       "       display_root_plot_1664829553882(Core);\n",
       "    });\n",
       "\n",
       "} else if (typeof JSROOT !== 'undefined') {\n",
       "\n",
       "   // JSROOT already loaded, just use it\n",
       "   display_root_plot_1664829553882(JSROOT);\n",
       "\n",
       "} else {\n",
       "\n",
       "    // We are in jupyterlab without require.js, directly loading jsroot\n",
       "    // Jupyterlab might be installed in a different base_url so we need to know it.\n",
       "    try {\n",
       "        var base_url = JSON.parse(document.getElementById('jupyter-config-data').innerHTML).baseUrl;\n",
       "    } catch(_) {\n",
       "        var base_url = '/';\n",
       "    }\n",
       "\n",
       "    // Try loading a local version of requirejs and fallback to cdn if not possible.\n",
       "    script_load_root_plot_1664829553882(base_url + 'static/scripts/JSRoot.core.js', function(){\n",
       "        console.error('Fail to load JSROOT locally, please check your jupyter_notebook_config.py file');\n",
       "        script_load_root_plot_1664829553882('https://root.cern/js/6.1.1/scripts/JSRoot.core.min.js', function(){\n",
       "            document.getElementById(\"root_plot_1664829553882\").innerHTML = \"Failed to load JSROOT\";\n",
       "        });\n",
       "    });\n",
       "}\n",
       "\n",
       "</script>\n"
      ],
      "text/plain": [
       "<IPython.core.display.HTML object>"
      ]
     },
     "metadata": {},
     "output_type": "display_data"
    }
   ],
   "source": [
    "#h1 = ROOT.RDataFrame(\"T\",\"data_fall2018_out_fte_goodruns_mixEv_all.root\").Histo1D((\"data-mixev\", \"data-mixev\", 200, 0, 2), \"mm_fkpskpkm_mixed\")\n",
    "#h1 = ROOT.RDataFrame(\"T\",\"data_fall2018_out_fte_goodruns_mixEv_bg.root\").Histo1D((\"data-mixev\", \"data-mixev\", 200, 0, 2), \"mm_fkpskpkm_mixed\")\n",
    "h1 = ROOT.RDataFrame(\"T\",\"data_fall2018_out_fte_goodruns_threeKaon_mixEv_bg.root\").Histo1D((\"data-mixev\", \"data-mixev\", 200, 0, 2), \"mm_fkpskpkm_mixed\")\n",
    "#h1 = ROOT.RDataFrame(\"T\",\"pionsaskaons_data_f18out_fde_efkpfkpfkm.root\").Histo1D((\"data-pionsaskaons\", \"data-pionsaskaons\", 200, -4, 4), \"mm_fkpskpkm\")\n",
    "h1.SetTitle(\"MM(eK^{+}K^{+}K^{-})-Bg. Modeling using events mixing\")#58, 0.87, 1.45#50, 0.9, 1.4#200, 0, 2\n",
    "#h1.SetTitleSize(0.06, \"x\")\n",
    "h1.GetXaxis().SetTitle(\"MM(eK^{+}K^{+}K^{-}) [GeV/c^{2}]\")\n",
    "h1.GetYaxis().SetTitle(\"Counts/10 MeV/c^{2}\")\n",
    "h1.GetXaxis().SetTitleSize(0.05)\n",
    "h1.GetYaxis().SetTitleSize(0.05)\n",
    "h1.GetXaxis().SetTitleOffset(0.9)\n",
    "#h1.GetYaxis().SetTitleOffset(0.9)\n",
    "%jsroot on\n",
    "ROOT.gStyle.SetOptStat(00000)\n",
    "ROOT.gStyle.SetOptFit(0)\n",
    "c = ROOT.TCanvas()\n",
    "h1.Draw(\"E\")\n",
    "h1.SetLineColor(ROOT.kRed)\n",
    "h1.SetMarkerStyle(21)\n",
    "h1.SetMarkerSize(0.8)\n",
    "#bg_fitResult = h1.Fit(\"pol3\", \"EMS\",\" \", 0.4,2.0)\n",
    "bg_fitResult = h1.Fit(\"pol3\", \"EMS\",\" \", 0.4,1.4)\n",
    "c.Draw()"
   ]
  },
  {
   "cell_type": "markdown",
   "id": "4aafc2e4",
   "metadata": {},
   "source": [
    "## Background Shape modeling\n",
    "* **To model a background shape, implemented events mixing technique in $eK^{+}K^{+}K^{-}$ data sample**\n",
    "* **Background Shape determination in the MM(eK+K+K-) from event mixing technique for events with FD-e**"
   ]
  },
  {
   "cell_type": "code",
   "execution_count": 5,
   "id": "5808a38f",
   "metadata": {},
   "outputs": [
    {
     "name": "stdout",
     "output_type": "stream",
     "text": [
      " FCN=154.834 FROM MINOS     STATUS=SUCCESSFUL     56 CALLS         367 TOTAL\n",
      "                     EDM=1.54307e-14    STRATEGY= 1      ERROR MATRIX ACCURATE \n",
      "  EXT PARAMETER                                   STEP         FIRST   \n",
      "  NO.   NAME      VALUE            ERROR          SIZE      DERIVATIVE \n",
      "   1  p0           4.77686e+03   2.66236e+02   4.37393e+00   2.41214e-09\n",
      "   2  p1          -1.57704e+04   1.02521e+03  -1.73567e+01   2.62879e-10\n",
      "   3  p2           4.34729e+04   1.22906e+03   2.11477e+01  -3.78056e-10\n",
      "   4  p3          -2.13591e+04   4.63260e+02   4.63260e+02  -7.18553e-10\n"
     ]
    },
    {
     "data": {
      "text/html": [
       "\n",
       "\n",
       "<div id=\"root_plot_1664829566217\"\n",
       "     style=\"width: 696px; height: 472px\">\n",
       "</div>\n",
       "<script>\n",
       "\n",
       "function display_root_plot_1664829566217(Core) {\n",
       "   let obj = Core.parse({\"_typename\":\"TCanvas\",\"fUniqueID\":0,\"fBits\":3342344,\"fLineColor\":1,\"fLineStyle\":1,\"fLineWidth\":1,\"fFillColor\":0,\"fFillStyle\":1001,\"fLeftMargin\":0.1,\"fRightMargin\":0.1,\"fBottomMargin\":0.1,\"fTopMargin\":0.1,\"fXfile\":2,\"fYfile\":2,\"fAfile\":1,\"fXstat\":0.99,\"fYstat\":0.99,\"fAstat\":2,\"fFrameFillColor\":0,\"fFrameLineColor\":1,\"fFrameFillStyle\":1001,\"fFrameLineStyle\":1,\"fFrameLineWidth\":1,\"fFrameBorderSize\":1,\"fFrameBorderMode\":0,\"fX1\":-0.250000018626453,\"fY1\":-1582.78535021703,\"fX2\":2.25000001862645,\"fY2\":14245.0672085397,\"fXtoAbsPixelk\":69.6000541484835,\"fXtoPixelk\":69.6000541484835,\"fXtoPixel\":278.399995851517,\"fYtoAbsPixelk\":424.800047186661,\"fYtoPixelk\":424.800047186661,\"fYtoPixel\":-0.0298208489274098,\"fUtoAbsPixelk\":5e-5,\"fUtoPixelk\":5e-5,\"fUtoPixel\":696,\"fVtoAbsPixelk\":472.00005,\"fVtoPixelk\":472,\"fVtoPixel\":-472,\"fAbsPixeltoXk\":-0.250000018626453,\"fPixeltoXk\":-0.250000018626453,\"fPixeltoX\":0.00359195407651279,\"fAbsPixeltoYk\":14245.0672085397,\"fPixeltoYk\":-1582.78535021703,\"fPixeltoY\":-33.5335859295693,\"fXlowNDC\":0,\"fYlowNDC\":0,\"fXUpNDC\":1,\"fYUpNDC\":1,\"fWNDC\":1,\"fHNDC\":1,\"fAbsXlowNDC\":0,\"fAbsYlowNDC\":0,\"fAbsWNDC\":1,\"fAbsHNDC\":1,\"fUxmin\":0,\"fUymin\":0,\"fUxmax\":2,\"fUymax\":12662.2818583226,\"fTheta\":30,\"fPhi\":30,\"fAspectRatio\":0,\"fNumber\":0,\"fTickx\":0,\"fTicky\":0,\"fLogx\":0,\"fLogy\":0,\"fLogz\":0,\"fPadPaint\":0,\"fCrosshair\":0,\"fCrosshairPos\":0,\"fBorderSize\":2,\"fBorderMode\":0,\"fModified\":false,\"fGridx\":false,\"fGridy\":false,\"fAbsCoord\":false,\"fEditable\":true,\"fFixedAspectRatio\":false,\"fPrimitives\":{\"_typename\":\"TList\",\"name\":\"TList\",\"arr\":[{\"_typename\":\"TFrame\",\"fUniqueID\":0,\"fBits\":8,\"fLineColor\":1,\"fLineStyle\":1,\"fLineWidth\":1,\"fFillColor\":0,\"fFillStyle\":1001,\"fX1\":0,\"fY1\":0,\"fX2\":2,\"fY2\":12662.2818583226,\"fBorderSize\":1,\"fBorderMode\":0},{\"_typename\":\"TH1D\",\"fUniqueID\":0,\"fBits\":520,\"fName\":\"data-mixev\",\"fTitle\":\"MM(eK^{+}K^{+}K^{-})-Bg. Modeling using events mixing\",\"fLineColor\":632,\"fLineStyle\":1,\"fLineWidth\":1,\"fFillColor\":0,\"fFillStyle\":1001,\"fMarkerColor\":1,\"fMarkerStyle\":21,\"fMarkerSize\":0.8,\"fNcells\":202,\"fXaxis\":{\"_typename\":\"TAxis\",\"fUniqueID\":0,\"fBits\":0,\"fName\":\"xaxis\",\"fTitle\":\"MM(eK^{+}K^{+}K^{-}) [GeV\\/c^{2}]\",\"fNdivisions\":510,\"fAxisColor\":1,\"fLabelColor\":1,\"fLabelFont\":42,\"fLabelOffset\":0.005,\"fLabelSize\":0.035,\"fTickLength\":0.03,\"fTitleOffset\":0.9,\"fTitleSize\":0.05,\"fTitleColor\":1,\"fTitleFont\":42,\"fNbins\":200,\"fXmin\":0,\"fXmax\":2,\"fXbins\":[],\"fFirst\":0,\"fLast\":0,\"fBits2\":0,\"fTimeDisplay\":false,\"fTimeFormat\":\"\",\"fLabels\":null,\"fModLabs\":null},\"fYaxis\":{\"_typename\":\"TAxis\",\"fUniqueID\":0,\"fBits\":0,\"fName\":\"yaxis\",\"fTitle\":\"Counts\\/10 MeV\\/c^{2}\",\"fNdivisions\":510,\"fAxisColor\":1,\"fLabelColor\":1,\"fLabelFont\":42,\"fLabelOffset\":0.005,\"fLabelSize\":0.035,\"fTickLength\":0.03,\"fTitleOffset\":0,\"fTitleSize\":0.05,\"fTitleColor\":1,\"fTitleFont\":42,\"fNbins\":1,\"fXmin\":0,\"fXmax\":1,\"fXbins\":[],\"fFirst\":0,\"fLast\":0,\"fBits2\":0,\"fTimeDisplay\":false,\"fTimeFormat\":\"\",\"fLabels\":null,\"fModLabs\":null},\"fZaxis\":{\"_typename\":\"TAxis\",\"fUniqueID\":0,\"fBits\":0,\"fName\":\"zaxis\",\"fTitle\":\"\",\"fNdivisions\":510,\"fAxisColor\":1,\"fLabelColor\":1,\"fLabelFont\":42,\"fLabelOffset\":0.005,\"fLabelSize\":0.035,\"fTickLength\":0.03,\"fTitleOffset\":1,\"fTitleSize\":0.035,\"fTitleColor\":1,\"fTitleFont\":42,\"fNbins\":1,\"fXmin\":0,\"fXmax\":1,\"fXbins\":[],\"fFirst\":0,\"fLast\":0,\"fBits2\":0,\"fTimeDisplay\":false,\"fTimeFormat\":\"\",\"fLabels\":null,\"fModLabs\":null},\"fBarOffset\":0,\"fBarWidth\":1000,\"fEntries\":2000250,\"fTsumw\":1247087,\"fTsumw2\":1247087,\"fTsumwx\":1318935.9369856,\"fTsumwx2\":1596019.25906069,\"fMaximum\":-1111,\"fMinimum\":-1111,\"fNormFactor\":0,\"fContour\":[],\"fSumw2\":[],\"fOption\":\"\",\"fFunctions\":{\"_typename\":\"TList\",\"name\":\"TList\",\"arr\":[{\"_typename\":\"TF1\",\"fUniqueID\":0,\"fBits\":1024,\"fName\":\"pol3\",\"fTitle\":\"pol3\",\"fLineColor\":2,\"fLineStyle\":1,\"fLineWidth\":2,\"fFillColor\":19,\"fFillStyle\":0,\"fMarkerColor\":1,\"fMarkerStyle\":1,\"fMarkerSize\":1,\"fXmin\":0.4,\"fXmax\":1.4,\"fNpar\":4,\"fNdim\":1,\"fNpx\":100,\"fType\":0,\"fNpfits\":100,\"fNDF\":96,\"fChisquare\":154.833883838477,\"fMinimum\":-1111,\"fMaximum\":-1111,\"fParErrors\":[266.235841365452,1025.2077071486,1229.06248194752,463.259879704877],\"fParMin\":[0,0,0,0],\"fParMax\":[0,0,0,0],\"fSave\":{\"$arr\":\"Float64\",\"len\":103,\"v\":[4057.36738758838,4146.68531490934,4239.44347700967,4335.51371905817,4434.76788622366,4537.07782367493,4642.3153765808,4750.35239011006,4861.06070943153,4974.31217971401,5089.9786461263,5207.9319538372,5328.04394801554,5450.1864738301,5574.2313764497,5700.05050104314,5827.51569277922,5956.49879682675,6086.87165835454,6218.50612253139,6351.2740345261,6485.04723950749,6619.69758264435,6755.0969091055,6891.11706405973,7027.62989267586,7164.50724012267,7301.620951569,7438.84287218363,7576.04484713537,7713.09872159304,7849.87634072543,7986.24954970134,8122.09019368959,8257.27011785898,8391.66116737832,8525.1351874164,8657.56402314204,8788.81951972404,8918.77352233121,9047.29787613234,9174.26442629625,9299.54501799175,9423.01149638763,9544.5357066527,9663.98949395577,9781.24470346564,9896.17318035111,10008.646769781,10118.5373169241,10225.7166669493,10330.0566650252,10431.4291563208,10529.7059860048,10624.7589992461,10716.4600412134,10804.6809570756,10889.2935920015,10970.1697911598,11047.1813997193,11120.200262849,11189.0982257175,11253.7471334937,11314.0188313465,11369.7851644445,11420.9179779566,11467.2891170516,11508.7704268983,11545.2337526656,11576.5509395221,11602.5938326368,11623.2342771784,11638.3441183158,11647.7952012177,11651.459371053,11649.2084729904,11640.9143521988,11626.4488538469,11605.6838231036,11578.4911051377,11544.742545118,11504.3099882132,11457.0652795923,11402.8802644239,11341.6267878769,11273.1766951202,11197.4018313224,11114.1740416525,11023.3651712792,10924.8470653713,10818.4915690977,10704.1705276271,10581.7557861283,10451.1191897702,10312.1325837215,10164.6678131511,10008.5967232278,9843.79115912032,9670.12296599752,9487.46398902821,9295.68607338118,0.4,1.4]},\"fNormalized\":false,\"fNormIntegral\":0,\"fFormula\":{\"_typename\":\"TFormula\",\"fUniqueID\":0,\"fBits\":66560,\"fName\":\"pol3\",\"fTitle\":\"pol3\",\"fClingParameters\":[4776.86027595087,-15770.4357724266,43472.9142917851,-21359.1385324604],\"fAllParametersSetted\":true,\"fParams\":[{\"$pair\":\"pair<TString,int,TFormulaParamOrder>\",\"first\":\"p0\",\"second\":0},{\"$pair\":\"pair<TString,int,TFormulaParamOrder>\",\"first\":\"p1\",\"second\":1},{\"$pair\":\"pair<TString,int,TFormulaParamOrder>\",\"first\":\"p2\",\"second\":2},{\"$pair\":\"pair<TString,int,TFormulaParamOrder>\",\"first\":\"p3\",\"second\":3}],\"fFormula\":\"([p0]+[p1]*x+[p2]*pow(x,2)+[p3]*pow(x,3))\",\"fNdim\":1,\"fLinearParts\":[],\"fVectorized\":false},\"fParams\":null,\"fComposition\":null}],\"opt\":[\"\"]},\"fBufferSize\":0,\"fBuffer\":[],\"fBinStatErrOpt\":0,\"fStatOverflows\":2,\"fArray\":{\"$arr\":\"Float64\",\"len\":202,\"v\":[746629,31,143,246,361,408,520,624,709,806,882,1010,1080,1198,1221,1331,1463,1550,1732,1772,1868,2020,2160,2147,2209,2333,2340,2524,2740,2754,2907,2887,3111,3232,3239,3320,3495,3552,3739,3788,3919,4027,4242,4211,4297,4491,4731,4618,4840,5053,5141,5063,5315,5441,5638,5563,5777,5906,5992,6020,6328,6428,6567,6693,6776,7060,7001,7334,7429,7587,7678,7664,7910,7825,8049,8474,8279,8655,8660,8928,8686,9084,9206,9189,9539,9509,9597,9819,9933,10111,10267,10251,10616,10376,10698,10725,10777,10980,11082,11220,11110,11295,11403,11298,11198,11589,11473,11642,11630,11606,11280,11595,11605,11733,11565,11950,11580,11528,11769,11428,11593,11449,11485,11430,11208,11274,11120,11230,10765,10886,10945,10693,10670,10496,10284,10236,9851,9901,9879,9726,9678,9282,9079,9071,8836,8716,8499,8378,8281,8038,7889,7617,7447,7312,7009,6811,6655,6556,6488,6272,6050,5973,5628,5391,5457,4970,4967,4656,4602,4426,4208,4052,3883,3764,3536,3411,3227,3012,2880,2607,2556,2333,2239,2167,2048,1798,1839,1606,1552,1447,1337,1308,1201,1069,995,921,887,797,802,748,698,6534]}},{\"_typename\":\"TPaveText\",\"fUniqueID\":0,\"fBits\":9,\"fLineColor\":1,\"fLineStyle\":1,\"fLineWidth\":1,\"fFillColor\":0,\"fFillStyle\":0,\"fX1\":0.124999986961483,\"fY1\":13200.1607464474,\"fX2\":1.87500001303852,\"fY2\":14165.928021219,\"fX1NDC\":0.15,\"fY1NDC\":0.933983055615829,\"fX2NDC\":0.85,\"fY2NDC\":0.995000004768372,\"fBorderSize\":0,\"fInit\":1,\"fShadowColor\":1,\"fCornerRadius\":0,\"fOption\":\"blNDC\",\"fName\":\"title\",\"fTextAngle\":0,\"fTextSize\":0,\"fTextAlign\":22,\"fTextColor\":1,\"fTextFont\":42,\"fLabel\":\"\",\"fLongest\":53,\"fMargin\":0.05,\"fLines\":{\"_typename\":\"TList\",\"name\":\"TList\",\"arr\":[{\"_typename\":\"TLatex\",\"fUniqueID\":0,\"fBits\":0,\"fName\":\"\",\"fTitle\":\"MM(eK^{+}K^{+}K^{-})-Bg. Modeling using events mixing\",\"fTextAngle\":0,\"fTextSize\":0,\"fTextAlign\":0,\"fTextColor\":0,\"fTextFont\":0,\"fX\":0,\"fY\":0,\"fLineColor\":1,\"fLineStyle\":1,\"fLineWidth\":2,\"fLimitFactorSize\":3,\"fOriginSize\":0.0518644079566002}],\"opt\":[\"\"]}},{\"_typename\":\"TStyle\",\"fUniqueID\":0,\"fBits\":0,\"fName\":\"Modern\",\"fTitle\":\"Modern Style\",\"fLineColor\":1,\"fLineStyle\":1,\"fLineWidth\":1,\"fFillColor\":19,\"fFillStyle\":1001,\"fMarkerColor\":1,\"fMarkerStyle\":1,\"fMarkerSize\":1,\"fTextAngle\":0,\"fTextSize\":0.05,\"fTextAlign\":11,\"fTextColor\":1,\"fTextFont\":62,\"fXaxis\":{\"_typename\":\"TAttAxis\",\"fNdivisions\":510,\"fAxisColor\":1,\"fLabelColor\":1,\"fLabelFont\":42,\"fLabelOffset\":0.005,\"fLabelSize\":0.035,\"fTickLength\":0.03,\"fTitleOffset\":1,\"fTitleSize\":0.035,\"fTitleColor\":1,\"fTitleFont\":42},\"fYaxis\":{\"_typename\":\"TAttAxis\",\"fNdivisions\":510,\"fAxisColor\":1,\"fLabelColor\":1,\"fLabelFont\":42,\"fLabelOffset\":0.005,\"fLabelSize\":0.035,\"fTickLength\":0.03,\"fTitleOffset\":0,\"fTitleSize\":0.035,\"fTitleColor\":1,\"fTitleFont\":42},\"fZaxis\":{\"_typename\":\"TAttAxis\",\"fNdivisions\":510,\"fAxisColor\":1,\"fLabelColor\":1,\"fLabelFont\":42,\"fLabelOffset\":0.005,\"fLabelSize\":0.035,\"fTickLength\":0.03,\"fTitleOffset\":1,\"fTitleSize\":0.035,\"fTitleColor\":1,\"fTitleFont\":42},\"fBarWidth\":1,\"fBarOffset\":0,\"fColorModelPS\":0,\"fDrawBorder\":0,\"fOptLogx\":0,\"fOptLogy\":0,\"fOptLogz\":0,\"fOptDate\":0,\"fOptStat\":0,\"fOptTitle\":1,\"fOptFile\":0,\"fOptFit\":0,\"fShowEventStatus\":0,\"fShowEditor\":0,\"fShowToolBar\":0,\"fNumberContours\":20,\"fAttDate\":{\"_typename\":\"TAttText\",\"fTextAngle\":0,\"fTextSize\":0.025,\"fTextAlign\":11,\"fTextColor\":1,\"fTextFont\":62},\"fDateX\":0.01,\"fDateY\":0.01,\"fEndErrorSize\":2,\"fErrorX\":0.5,\"fFuncColor\":2,\"fFuncStyle\":1,\"fFuncWidth\":2,\"fGridColor\":0,\"fGridStyle\":3,\"fGridWidth\":1,\"fLegendBorderSize\":1,\"fLegendFillColor\":0,\"fLegendFont\":42,\"fLegendTextSize\":0,\"fHatchesLineWidth\":1,\"fHatchesSpacing\":1,\"fFrameFillColor\":0,\"fFrameLineColor\":1,\"fFrameFillStyle\":1001,\"fFrameLineStyle\":1,\"fFrameLineWidth\":1,\"fFrameBorderSize\":1,\"fFrameBorderMode\":0,\"fHistFillColor\":0,\"fHistLineColor\":602,\"fHistFillStyle\":1001,\"fHistLineStyle\":1,\"fHistLineWidth\":1,\"fHistMinimumZero\":false,\"fHistTopMargin\":0.05,\"fCanvasPreferGL\":false,\"fCanvasColor\":0,\"fCanvasBorderSize\":2,\"fCanvasBorderMode\":0,\"fCanvasDefH\":500,\"fCanvasDefW\":700,\"fCanvasDefX\":10,\"fCanvasDefY\":10,\"fPadColor\":0,\"fPadBorderSize\":2,\"fPadBorderMode\":0,\"fPadBottomMargin\":0.1,\"fPadTopMargin\":0.1,\"fPadLeftMargin\":0.1,\"fPadRightMargin\":0.1,\"fPadGridX\":false,\"fPadGridY\":false,\"fPadTickX\":0,\"fPadTickY\":0,\"fPaperSizeX\":20,\"fPaperSizeY\":26,\"fScreenFactor\":1,\"fStatColor\":0,\"fStatTextColor\":1,\"fStatBorderSize\":1,\"fStatFont\":42,\"fStatFontSize\":0,\"fStatStyle\":1001,\"fStatFormat\":\"6.4g\",\"fStatX\":0.98,\"fStatY\":0.935,\"fStatW\":0.2,\"fStatH\":0.16,\"fStripDecimals\":true,\"fTitleAlign\":23,\"fTitleColor\":0,\"fTitleTextColor\":1,\"fTitleBorderSize\":0,\"fTitleFont\":42,\"fTitleFontSize\":0.05,\"fTitleStyle\":0,\"fTitleX\":0.5,\"fTitleY\":0.995,\"fTitleW\":0,\"fTitleH\":0,\"fLegoInnerR\":0.5,\"fLineStyles\":[\"\",\"  \",\" 12 12\",\" 4 8\",\" 12 16 4 16\",\" 20 12 4 12\",\" 20 12 4 12 4 12 4 12\",\" 20 20\",\" 20 12 4 12 4 12\",\" 80 20\",\" 80 40 4 40\",\"  \",\"  \",\"  \",\"  \",\"  \",\"  \",\"  \",\"  \",\"  \",\"  \",\"  \",\"  \",\"  \",\"  \",\"  \",\"  \",\"  \",\"  \",\"  \"],\"fHeaderPS\":\"\",\"fTitlePS\":\"\",\"fFitFormat\":\"5.4g\",\"fPaintTextFormat\":\"g\",\"fLineScalePS\":3,\"fJoinLinePS\":0,\"fCapLinePS\":0,\"fTimeOffset\":788918400,\"fImageScaling\":1}],\"opt\":[\"\",\"E\",\"blNDC\",\"\"]},\"fExecs\":null,\"fName\":\"c1_n2\",\"fTitle\":\"c1_n2\",\"fNumPaletteColor\":0,\"fNextPaletteColor\":0,\"fDISPLAY\":\"$DISPLAY\",\"fDoubleBuffer\":0,\"fRetained\":true,\"fXsizeUser\":0,\"fYsizeUser\":0,\"fXsizeReal\":20,\"fYsizeReal\":14.28571,\"fWindowTopX\":0,\"fWindowTopY\":0,\"fWindowWidth\":0,\"fWindowHeight\":0,\"fCw\":696,\"fCh\":472,\"fCatt\":{\"_typename\":\"TAttCanvas\",\"fXBetween\":2,\"fYBetween\":2,\"fTitleFromTop\":1.2,\"fXdate\":0.2,\"fYdate\":0.3,\"fAdate\":1},\"kMoveOpaque\":true,\"kResizeOpaque\":true,\"fHighLightColor\":2,\"fBatch\":true,\"kShowEventStatus\":false,\"kAutoExec\":true,\"kMenuBar\":true});\n",
       "   Core.settings.HandleKeys = false;\n",
       "   Core.draw(\"root_plot_1664829566217\", obj, \"\");\n",
       "}\n",
       "\n",
       "function script_load_root_plot_1664829566217(src, on_error) {\n",
       "    let script = document.createElement('script');\n",
       "    script.src = src;\n",
       "    script.onload = function() { display_root_plot_1664829566217(JSROOT); };\n",
       "    script.onerror = function() { script.remove(); on_error(); };\n",
       "    document.head.appendChild(script);\n",
       "}\n",
       "\n",
       "if (typeof requirejs !== 'undefined') {\n",
       "\n",
       "    // We are in jupyter notebooks, use require.js which should be configured already\n",
       "    requirejs.config({\n",
       "       paths: { 'JSRootCore' : [ 'scripts/JSRoot.core', 'https://root.cern/js/6.1.1/scripts/JSRoot.core.min', 'https://jsroot.gsi.de/6.1.1/scripts/JSRoot.core.min' ] }\n",
       "    })(['JSRootCore'],  function(Core) {\n",
       "       display_root_plot_1664829566217(Core);\n",
       "    });\n",
       "\n",
       "} else if (typeof JSROOT !== 'undefined') {\n",
       "\n",
       "   // JSROOT already loaded, just use it\n",
       "   display_root_plot_1664829566217(JSROOT);\n",
       "\n",
       "} else {\n",
       "\n",
       "    // We are in jupyterlab without require.js, directly loading jsroot\n",
       "    // Jupyterlab might be installed in a different base_url so we need to know it.\n",
       "    try {\n",
       "        var base_url = JSON.parse(document.getElementById('jupyter-config-data').innerHTML).baseUrl;\n",
       "    } catch(_) {\n",
       "        var base_url = '/';\n",
       "    }\n",
       "\n",
       "    // Try loading a local version of requirejs and fallback to cdn if not possible.\n",
       "    script_load_root_plot_1664829566217(base_url + 'static/scripts/JSRoot.core.js', function(){\n",
       "        console.error('Fail to load JSROOT locally, please check your jupyter_notebook_config.py file');\n",
       "        script_load_root_plot_1664829566217('https://root.cern/js/6.1.1/scripts/JSRoot.core.min.js', function(){\n",
       "            document.getElementById(\"root_plot_1664829566217\").innerHTML = \"Failed to load JSROOT\";\n",
       "        });\n",
       "    });\n",
       "}\n",
       "\n",
       "</script>\n"
      ],
      "text/plain": [
       "<IPython.core.display.HTML object>"
      ]
     },
     "metadata": {},
     "output_type": "display_data"
    }
   ],
   "source": [
    "#h1 = ROOT.RDataFrame(\"T\",\"data_fall2018_out_fde_goodruns_mixEv_all.root\").Histo1D((\"data-mixev\", \"data-mixev\", 200, 0, 2), \"mm_fkpskpkm_mixed\")\n",
    "#h1 = ROOT.RDataFrame(\"T\",\"data_fall2018_out_fde_goodruns_mixEv_bg.root\").Histo1D((\"data-mixev\", \"data-mixev\", 200, 0, 2), \"mm_fkpskpkm_mixed\")\n",
    "h1 = ROOT.RDataFrame(\"T\",\"data_fall2018_out_fde_goodruns_threeKaon_mixEv_bg.root\").Histo1D((\"data-mixev\", \"data-mixev\", 200, 0, 2), \"mm_fkpskpkm_mixed\")\n",
    "h1.SetTitle(\"MM(eK^{+}K^{+}K^{-})-Bg. Modeling using events mixing\")#58, 0.87, 1.45#50, 0.9, 1.4#200, 0, 2\n",
    "#h1.SetTitleSize(0.06, \"x\")\n",
    "h1.GetXaxis().SetTitle(\"MM(eK^{+}K^{+}K^{-}) [GeV/c^{2}]\")\n",
    "h1.GetYaxis().SetTitle(\"Counts/10 MeV/c^{2}\")\n",
    "h1.GetXaxis().SetTitleSize(0.05)\n",
    "h1.GetYaxis().SetTitleSize(0.05)\n",
    "h1.GetXaxis().SetTitleOffset(0.9)\n",
    "#h1.GetYaxis().SetTitleOffset(0.9)\n",
    "%jsroot on\n",
    "ROOT.gStyle.SetOptStat(00000)\n",
    "ROOT.gStyle.SetOptFit(0)\n",
    "c = ROOT.TCanvas()\n",
    "h1.Draw(\"E\")\n",
    "h1.SetLineColor(ROOT.kRed)\n",
    "h1.SetMarkerStyle(21)\n",
    "h1.SetMarkerSize(0.8)\n",
    "bg_fitResult = h1.Fit(\"pol3\", \"EMS\",\" \", 0.4,1.4)\n",
    "c.Draw()"
   ]
  },
  {
   "cell_type": "markdown",
   "id": "2a24d5e6",
   "metadata": {},
   "source": [
    "## Background Modeling\n",
    "* **To model a background shape, implemented events mixing technique over $eK^{+}K^{+}$ i.e $\\Xi^{*}$ data sample**\n",
    "* **Background Shape determination in the MM(eK+K+) from event mixing technique from Xi data sample with FT-e**"
   ]
  },
  {
   "cell_type": "code",
   "execution_count": 11,
   "id": "6f4028cb",
   "metadata": {},
   "outputs": [
    {
     "name": "stdout",
     "output_type": "stream",
     "text": [
      " FCN=207.126 FROM MINOS     STATUS=FAILURE       382 CALLS        1809 TOTAL\n",
      "                     EDM=7.84616e-13    STRATEGY= 1      ERR MATRIX NOT POS-DEF\n",
      "  EXT PARAMETER                APPROXIMATE        STEP         FIRST   \n",
      "  NO.   NAME      VALUE            ERROR          SIZE      DERIVATIVE \n",
      "   1  p0           4.18830e+05   2.23057e+02   2.12444e+02   2.24794e-11\n",
      "   2  p1          -8.18849e+05   2.06923e+02  -3.83187e+02   1.53854e-10\n",
      "   3  p2           5.25607e+05   1.18740e+02   2.26882e+02   1.28444e-10\n",
      "   4  p3          -1.07119e+05   4.40986e+01   4.40986e+01   2.30832e-08\n"
     ]
    },
    {
     "data": {
      "text/html": [
       "\n",
       "\n",
       "<div id=\"root_plot_1657115925526\"\n",
       "     style=\"width: 696px; height: 472px\">\n",
       "</div>\n",
       "<script>\n",
       "\n",
       "function display_root_plot_1657115925526(Core) {\n",
       "   let obj = Core.parse({\"_typename\":\"TCanvas\",\"fUniqueID\":0,\"fBits\":3342344,\"fLineColor\":1,\"fLineStyle\":1,\"fLineWidth\":1,\"fFillColor\":0,\"fFillStyle\":1001,\"fLeftMargin\":0.1,\"fRightMargin\":0.1,\"fBottomMargin\":0.1,\"fTopMargin\":0.1,\"fXfile\":2,\"fYfile\":2,\"fAfile\":1,\"fXstat\":0.99,\"fYstat\":0.99,\"fAstat\":2,\"fFrameFillColor\":0,\"fFrameLineColor\":1,\"fFrameFillStyle\":1001,\"fFrameLineStyle\":1,\"fFrameLineWidth\":1,\"fFrameBorderSize\":1,\"fFrameBorderMode\":0,\"fX1\":0.549999981373547,\"fY1\":-3607.3126229139,\"fX2\":3.05000001862645,\"fY2\":32465.8114560993,\"fXtoAbsPixelk\":-153.11994253273,\"fXtoPixelk\":-153.11994253273,\"fXtoPixel\":278.399995851517,\"fYtoAbsPixelk\":424.800047186661,\"fYtoPixelk\":424.800047186661,\"fYtoPixel\":-0.0130845334872064,\"fUtoAbsPixelk\":5e-5,\"fUtoPixelk\":5e-5,\"fUtoPixel\":696,\"fVtoAbsPixelk\":472.00005,\"fVtoPixelk\":472,\"fVtoPixel\":-472,\"fAbsPixeltoXk\":0.549999981373547,\"fPixeltoXk\":0.549999981373547,\"fPixeltoX\":0.00359195407651279,\"fAbsPixeltoYk\":32465.8114560993,\"fPixeltoYk\":-3607.3126229139,\"fPixeltoY\":-76.4261103368923,\"fXlowNDC\":0,\"fYlowNDC\":0,\"fXUpNDC\":1,\"fYUpNDC\":1,\"fWNDC\":1,\"fHNDC\":1,\"fAbsXlowNDC\":0,\"fAbsYlowNDC\":0,\"fAbsWNDC\":1,\"fAbsHNDC\":1,\"fUxmin\":0.8,\"fUymin\":0,\"fUxmax\":2.8,\"fUymax\":28858.4988331854,\"fTheta\":30,\"fPhi\":30,\"fAspectRatio\":0,\"fNumber\":0,\"fTickx\":0,\"fTicky\":0,\"fLogx\":0,\"fLogy\":0,\"fLogz\":0,\"fPadPaint\":0,\"fCrosshair\":0,\"fCrosshairPos\":0,\"fBorderSize\":2,\"fBorderMode\":0,\"fModified\":false,\"fGridx\":false,\"fGridy\":false,\"fAbsCoord\":false,\"fEditable\":true,\"fFixedAspectRatio\":false,\"fPrimitives\":{\"_typename\":\"TList\",\"name\":\"TList\",\"arr\":[{\"_typename\":\"TFrame\",\"fUniqueID\":0,\"fBits\":8,\"fLineColor\":1,\"fLineStyle\":1,\"fLineWidth\":1,\"fFillColor\":0,\"fFillStyle\":1001,\"fX1\":0.8,\"fY1\":0,\"fX2\":2.8,\"fY2\":28858.4988331854,\"fBorderSize\":1,\"fBorderMode\":0},{\"_typename\":\"TH1D\",\"fUniqueID\":0,\"fBits\":520,\"fName\":\"data-2k-mixev\",\"fTitle\":\"Bg. Shape in MM(eK^{+}K^{+}) from event mixing\",\"fLineColor\":632,\"fLineStyle\":1,\"fLineWidth\":1,\"fFillColor\":0,\"fFillStyle\":1001,\"fMarkerColor\":1,\"fMarkerStyle\":21,\"fMarkerSize\":0.8,\"fNcells\":52,\"fXaxis\":{\"_typename\":\"TAxis\",\"fUniqueID\":0,\"fBits\":0,\"fName\":\"xaxis\",\"fTitle\":\"MM(eK^{+}K^{+}) [GeV\\/c^{2}]\",\"fNdivisions\":510,\"fAxisColor\":1,\"fLabelColor\":1,\"fLabelFont\":42,\"fLabelOffset\":0.005,\"fLabelSize\":0.035,\"fTickLength\":0.03,\"fTitleOffset\":0.9,\"fTitleSize\":0.05,\"fTitleColor\":1,\"fTitleFont\":42,\"fNbins\":50,\"fXmin\":0.8,\"fXmax\":2.8,\"fXbins\":[],\"fFirst\":0,\"fLast\":0,\"fBits2\":0,\"fTimeDisplay\":false,\"fTimeFormat\":\"\",\"fLabels\":null,\"fModLabs\":null},\"fYaxis\":{\"_typename\":\"TAxis\",\"fUniqueID\":0,\"fBits\":0,\"fName\":\"yaxis\",\"fTitle\":\"Counts\\/40 MeV\\/c^{2}\",\"fNdivisions\":510,\"fAxisColor\":1,\"fLabelColor\":1,\"fLabelFont\":42,\"fLabelOffset\":0.005,\"fLabelSize\":0.035,\"fTickLength\":0.03,\"fTitleOffset\":0,\"fTitleSize\":0.05,\"fTitleColor\":1,\"fTitleFont\":42,\"fNbins\":1,\"fXmin\":0,\"fXmax\":1,\"fXbins\":[],\"fFirst\":0,\"fLast\":0,\"fBits2\":0,\"fTimeDisplay\":false,\"fTimeFormat\":\"\",\"fLabels\":null,\"fModLabs\":null},\"fZaxis\":{\"_typename\":\"TAxis\",\"fUniqueID\":0,\"fBits\":0,\"fName\":\"zaxis\",\"fTitle\":\"\",\"fNdivisions\":510,\"fAxisColor\":1,\"fLabelColor\":1,\"fLabelFont\":42,\"fLabelOffset\":0.005,\"fLabelSize\":0.035,\"fTickLength\":0.03,\"fTitleOffset\":1,\"fTitleSize\":0.035,\"fTitleColor\":1,\"fTitleFont\":42,\"fNbins\":1,\"fXmin\":0,\"fXmax\":1,\"fXbins\":[],\"fFirst\":0,\"fLast\":0,\"fBits2\":0,\"fTimeDisplay\":false,\"fTimeFormat\":\"\",\"fLabels\":null,\"fModLabs\":null},\"fBarOffset\":0,\"fBarWidth\":1000,\"fEntries\":631230,\"fTsumw\":605476,\"fTsumw2\":605476,\"fTsumwx\":1150041.64555831,\"fTsumwx2\":2271650.4252174,\"fMaximum\":-1111,\"fMinimum\":-1111,\"fNormFactor\":0,\"fContour\":[],\"fSumw2\":[],\"fOption\":\"\",\"fFunctions\":{\"_typename\":\"TList\",\"name\":\"TList\",\"arr\":[{\"_typename\":\"TF1\",\"fUniqueID\":0,\"fBits\":1024,\"fName\":\"pol3\",\"fTitle\":\"pol3\",\"fLineColor\":2,\"fLineStyle\":1,\"fLineWidth\":2,\"fFillColor\":19,\"fFillStyle\":0,\"fMarkerColor\":1,\"fMarkerStyle\":1,\"fMarkerSize\":1,\"fXmin\":1.3,\"fXmax\":2.2,\"fNpar\":4,\"fNdim\":1,\"fNpx\":100,\"fType\":0,\"fNpfits\":23,\"fNDF\":19,\"fChisquare\":207.126032508227,\"fMinimum\":-1111,\"fMaximum\":-1111,\"fParErrors\":[223.007680985569,206.879344797008,118.756247139371,44.1002888775272],\"fParMin\":[0,0,0,0],\"fParMax\":[0,0,0,0],\"fSave\":{\"$arr\":\"Float64\",\"len\":103,\"v\":[7262.09552815254,7312.48699995491,7379.88072886618,7463.80817832655,7563.80081177666,7679.3900926566,7810.10748440668,7955.48445046722,8115.05245427851,8288.342959281,8474.8874289146,8674.21732661966,8885.86411583691,9109.35926000646,9344.23422256822,9590.02046696306,9846.24945663085,10112.452655012,10388.1615255469,10672.9075316756,10966.2221368387,11267.6368044765,11576.6829980287,11892.8921809365,12215.7958166396,12544.9253685785,12879.8123001932,13219.9880749243,13564.984156212,13914.3320074964,14267.5630922183,14624.2088738178,14983.800815735,15345.8703814097,15709.9490342833,16075.5682377958,16442.2594553867,16809.5541504968,17176.983786567,17544.0798270368,17910.3737353467,18275.3969749367,18638.6810092477,18999.75730172,19358.1573157932,19713.4125149079,20065.0543625049,20412.6143220236,20755.6238569053,21093.6144305893,21426.1175065164,21752.6645481272,22072.7870188614,22386.0163821593,22691.8841014619,22989.9216402085,23279.6604618402,23560.632029797,23832.367807519,24094.3992584471,24346.2578460209,24587.475033681,24817.582284868,25036.1110630212,25242.5928315822,25436.5590539904,25617.5411936865,25785.0707141103,25938.6790787027,26077.8977509039,26202.2581941537,26311.2918718925,26404.5302475612,26481.5047845995,26541.7469464481,26584.7881965467,26610.1599983363,26617.393815257,26606.0211107486,26575.573348252,26525.5819912069,26455.5785030546,26365.0943472346,26253.6609871865,26120.8098863519,25966.0725081709,25788.9803160829,25589.0647735297,25365.8573439501,25118.8894907848,24847.6926774746,24551.7983674591,24230.7380241802,23884.0431110753,23511.2450915871,23111.8754291553,22685.4655872202,22231.5470292214,21749.6512185996,21239.309618796,20700.0536932494,1.3,2.2]},\"fNormalized\":false,\"fNormIntegral\":0,\"fFormula\":{\"_typename\":\"TFormula\",\"fUniqueID\":0,\"fBits\":66560,\"fName\":\"pol3\",\"fTitle\":\"pol3\",\"fClingParameters\":[418830.337803869,-818849.398573466,525606.769984346,-107118.555031295],\"fAllParametersSetted\":true,\"fParams\":[{\"$pair\":\"pair<TString,int,TFormulaParamOrder>\",\"first\":\"p0\",\"second\":0},{\"$pair\":\"pair<TString,int,TFormulaParamOrder>\",\"first\":\"p1\",\"second\":1},{\"$pair\":\"pair<TString,int,TFormulaParamOrder>\",\"first\":\"p2\",\"second\":2},{\"$pair\":\"pair<TString,int,TFormulaParamOrder>\",\"first\":\"p3\",\"second\":3}],\"fFormula\":\"([p0]+[p1]*x+[p2]*pow(x,2)+[p3]*pow(x,3))\",\"fNdim\":1,\"fLinearParts\":[],\"fVectorized\":false},\"fParams\":null,\"fComposition\":null}],\"opt\":[\"\"]},\"fBufferSize\":0,\"fBuffer\":[],\"fBinStatErrOpt\":0,\"fStatOverflows\":2,\"fArray\":{\"$arr\":\"Float64\",\"len\":52,\"v\":[23944,1699,1959,2211,2406,2701,3099,3481,3857,4401,4895,5487,6070,6878,7583,8675,9456,10754,11845,13093,14473,15855,17581,18840,20411,22180,23773,25425,26442,26862,27319,26513,25925,25159,23346,21787,20231,18248,16277,14708,12918,11210,9549,7833,6259,4825,3624,2687,1990,1563,1113,1810]}},{\"_typename\":\"TPaveText\",\"fUniqueID\":0,\"fBits\":9,\"fLineColor\":1,\"fLineStyle\":1,\"fLineWidth\":1,\"fFillColor\":0,\"fFillStyle\":0,\"fX1\":0.924999986961483,\"fY1\":30084.3740300118,\"fX2\":2.67500001303852,\"fY2\":32285.4460077143,\"fX1NDC\":0.15,\"fY1NDC\":0.933983055615829,\"fX2NDC\":0.85,\"fY2NDC\":0.995000004768372,\"fBorderSize\":0,\"fInit\":1,\"fShadowColor\":1,\"fCornerRadius\":0,\"fOption\":\"blNDC\",\"fName\":\"title\",\"fTextAngle\":0,\"fTextSize\":0,\"fTextAlign\":22,\"fTextColor\":1,\"fTextFont\":42,\"fLabel\":\"\",\"fLongest\":46,\"fMargin\":0.05,\"fLines\":{\"_typename\":\"TList\",\"name\":\"TList\",\"arr\":[{\"_typename\":\"TLatex\",\"fUniqueID\":0,\"fBits\":0,\"fName\":\"\",\"fTitle\":\"Bg. Shape in MM(eK^{+}K^{+}) from event mixing\",\"fTextAngle\":0,\"fTextSize\":0,\"fTextAlign\":0,\"fTextColor\":0,\"fTextFont\":0,\"fX\":0,\"fY\":0,\"fLineColor\":1,\"fLineStyle\":1,\"fLineWidth\":2,\"fLimitFactorSize\":3,\"fOriginSize\":0.0518644079566002}],\"opt\":[\"\"]}},{\"_typename\":\"TStyle\",\"fUniqueID\":0,\"fBits\":0,\"fName\":\"Modern\",\"fTitle\":\"Modern Style\",\"fLineColor\":1,\"fLineStyle\":1,\"fLineWidth\":1,\"fFillColor\":19,\"fFillStyle\":1001,\"fMarkerColor\":1,\"fMarkerStyle\":1,\"fMarkerSize\":1,\"fTextAngle\":0,\"fTextSize\":0.05,\"fTextAlign\":11,\"fTextColor\":1,\"fTextFont\":62,\"fXaxis\":{\"_typename\":\"TAttAxis\",\"fNdivisions\":510,\"fAxisColor\":1,\"fLabelColor\":1,\"fLabelFont\":42,\"fLabelOffset\":0.005,\"fLabelSize\":0.035,\"fTickLength\":0.03,\"fTitleOffset\":1,\"fTitleSize\":0.035,\"fTitleColor\":1,\"fTitleFont\":42},\"fYaxis\":{\"_typename\":\"TAttAxis\",\"fNdivisions\":510,\"fAxisColor\":1,\"fLabelColor\":1,\"fLabelFont\":42,\"fLabelOffset\":0.005,\"fLabelSize\":0.035,\"fTickLength\":0.03,\"fTitleOffset\":0,\"fTitleSize\":0.035,\"fTitleColor\":1,\"fTitleFont\":42},\"fZaxis\":{\"_typename\":\"TAttAxis\",\"fNdivisions\":510,\"fAxisColor\":1,\"fLabelColor\":1,\"fLabelFont\":42,\"fLabelOffset\":0.005,\"fLabelSize\":0.035,\"fTickLength\":0.03,\"fTitleOffset\":1,\"fTitleSize\":0.035,\"fTitleColor\":1,\"fTitleFont\":42},\"fBarWidth\":1,\"fBarOffset\":0,\"fColorModelPS\":0,\"fDrawBorder\":0,\"fOptLogx\":0,\"fOptLogy\":0,\"fOptLogz\":0,\"fOptDate\":0,\"fOptStat\":0,\"fOptTitle\":1,\"fOptFile\":0,\"fOptFit\":0,\"fShowEventStatus\":0,\"fShowEditor\":0,\"fShowToolBar\":0,\"fNumberContours\":20,\"fAttDate\":{\"_typename\":\"TAttText\",\"fTextAngle\":0,\"fTextSize\":0.025,\"fTextAlign\":11,\"fTextColor\":1,\"fTextFont\":62},\"fDateX\":0.01,\"fDateY\":0.01,\"fEndErrorSize\":2,\"fErrorX\":0.5,\"fFuncColor\":2,\"fFuncStyle\":1,\"fFuncWidth\":2,\"fGridColor\":0,\"fGridStyle\":3,\"fGridWidth\":1,\"fLegendBorderSize\":1,\"fLegendFillColor\":0,\"fLegendFont\":42,\"fLegendTextSize\":0,\"fHatchesLineWidth\":1,\"fHatchesSpacing\":1,\"fFrameFillColor\":0,\"fFrameLineColor\":1,\"fFrameFillStyle\":1001,\"fFrameLineStyle\":1,\"fFrameLineWidth\":1,\"fFrameBorderSize\":1,\"fFrameBorderMode\":0,\"fHistFillColor\":0,\"fHistLineColor\":602,\"fHistFillStyle\":1001,\"fHistLineStyle\":1,\"fHistLineWidth\":1,\"fHistMinimumZero\":false,\"fHistTopMargin\":0.05,\"fCanvasPreferGL\":false,\"fCanvasColor\":0,\"fCanvasBorderSize\":2,\"fCanvasBorderMode\":0,\"fCanvasDefH\":500,\"fCanvasDefW\":700,\"fCanvasDefX\":10,\"fCanvasDefY\":10,\"fPadColor\":0,\"fPadBorderSize\":2,\"fPadBorderMode\":0,\"fPadBottomMargin\":0.1,\"fPadTopMargin\":0.1,\"fPadLeftMargin\":0.1,\"fPadRightMargin\":0.1,\"fPadGridX\":false,\"fPadGridY\":false,\"fPadTickX\":0,\"fPadTickY\":0,\"fPaperSizeX\":20,\"fPaperSizeY\":26,\"fScreenFactor\":1,\"fStatColor\":0,\"fStatTextColor\":1,\"fStatBorderSize\":1,\"fStatFont\":42,\"fStatFontSize\":0,\"fStatStyle\":1001,\"fStatFormat\":\"6.4g\",\"fStatX\":0.98,\"fStatY\":0.935,\"fStatW\":0.2,\"fStatH\":0.16,\"fStripDecimals\":true,\"fTitleAlign\":23,\"fTitleColor\":0,\"fTitleTextColor\":1,\"fTitleBorderSize\":0,\"fTitleFont\":42,\"fTitleFontSize\":0.05,\"fTitleStyle\":0,\"fTitleX\":0.5,\"fTitleY\":0.995,\"fTitleW\":0,\"fTitleH\":0,\"fLegoInnerR\":0.5,\"fLineStyles\":[\"\",\"  \",\" 12 12\",\" 4 8\",\" 12 16 4 16\",\" 20 12 4 12\",\" 20 12 4 12 4 12 4 12\",\" 20 20\",\" 20 12 4 12 4 12\",\" 80 20\",\" 80 40 4 40\",\"  \",\"  \",\"  \",\"  \",\"  \",\"  \",\"  \",\"  \",\"  \",\"  \",\"  \",\"  \",\"  \",\"  \",\"  \",\"  \",\"  \",\"  \",\"  \"],\"fHeaderPS\":\"\",\"fTitlePS\":\"\",\"fFitFormat\":\"5.4g\",\"fPaintTextFormat\":\"g\",\"fLineScalePS\":3,\"fJoinLinePS\":0,\"fCapLinePS\":0,\"fTimeOffset\":788918400,\"fImageScaling\":1}],\"opt\":[\"\",\"E\",\"blNDC\",\"\"]},\"fExecs\":null,\"fName\":\"c1_n2\",\"fTitle\":\"c1_n2\",\"fNumPaletteColor\":0,\"fNextPaletteColor\":0,\"fDISPLAY\":\"$DISPLAY\",\"fDoubleBuffer\":0,\"fRetained\":true,\"fXsizeUser\":0,\"fYsizeUser\":0,\"fXsizeReal\":20,\"fYsizeReal\":14.28571,\"fWindowTopX\":0,\"fWindowTopY\":0,\"fWindowWidth\":0,\"fWindowHeight\":0,\"fCw\":696,\"fCh\":472,\"fCatt\":{\"_typename\":\"TAttCanvas\",\"fXBetween\":2,\"fYBetween\":2,\"fTitleFromTop\":1.2,\"fXdate\":0.2,\"fYdate\":0.3,\"fAdate\":1},\"kMoveOpaque\":true,\"kResizeOpaque\":true,\"fHighLightColor\":2,\"fBatch\":true,\"kShowEventStatus\":false,\"kAutoExec\":true,\"kMenuBar\":true});\n",
       "   Core.settings.HandleKeys = false;\n",
       "   Core.draw(\"root_plot_1657115925526\", obj, \"\");\n",
       "}\n",
       "\n",
       "function script_load_root_plot_1657115925526(src, on_error) {\n",
       "    let script = document.createElement('script');\n",
       "    script.src = src;\n",
       "    script.onload = function() { display_root_plot_1657115925526(JSROOT); };\n",
       "    script.onerror = function() { script.remove(); on_error(); };\n",
       "    document.head.appendChild(script);\n",
       "}\n",
       "\n",
       "if (typeof requirejs !== 'undefined') {\n",
       "\n",
       "    // We are in jupyter notebooks, use require.js which should be configured already\n",
       "    requirejs.config({\n",
       "       paths: { 'JSRootCore' : [ 'scripts/JSRoot.core', 'https://root.cern/js/6.1.1/scripts/JSRoot.core.min', 'https://jsroot.gsi.de/6.1.1/scripts/JSRoot.core.min' ] }\n",
       "    })(['JSRootCore'],  function(Core) {\n",
       "       display_root_plot_1657115925526(Core);\n",
       "    });\n",
       "\n",
       "} else if (typeof JSROOT !== 'undefined') {\n",
       "\n",
       "   // JSROOT already loaded, just use it\n",
       "   display_root_plot_1657115925526(JSROOT);\n",
       "\n",
       "} else {\n",
       "\n",
       "    // We are in jupyterlab without require.js, directly loading jsroot\n",
       "    // Jupyterlab might be installed in a different base_url so we need to know it.\n",
       "    try {\n",
       "        var base_url = JSON.parse(document.getElementById('jupyter-config-data').innerHTML).baseUrl;\n",
       "    } catch(_) {\n",
       "        var base_url = '/';\n",
       "    }\n",
       "\n",
       "    // Try loading a local version of requirejs and fallback to cdn if not possible.\n",
       "    script_load_root_plot_1657115925526(base_url + 'static/scripts/JSRoot.core.js', function(){\n",
       "        console.error('Fail to load JSROOT locally, please check your jupyter_notebook_config.py file');\n",
       "        script_load_root_plot_1657115925526('https://root.cern/js/6.1.1/scripts/JSRoot.core.min.js', function(){\n",
       "            document.getElementById(\"root_plot_1657115925526\").innerHTML = \"Failed to load JSROOT\";\n",
       "        });\n",
       "    });\n",
       "}\n",
       "\n",
       "</script>\n"
      ],
      "text/plain": [
       "<IPython.core.display.HTML object>"
      ]
     },
     "metadata": {},
     "output_type": "display_data"
    }
   ],
   "source": [
    "#h2 = ROOT.RDataFrame(\"T\",\"data_fall2018_out_fte_goodruns_twoKaon_mixEv_all.root\").Histo1D((\"data-2k-mixev\", \"data-2k-mixev\", 50, 0.8, 2.8), \"mm_fkpskp_mixed\")\n",
    "#h2 = ROOT.RDataFrame(\"T\",\"data_fall2018_out_fte_goodruns_twoKaon_mixEv_bg.root\").Histo1D((\"data-2k-mixev\", \"data-2k-mixev\", 50, 0.8, 2.8), \"mm_fkpskp_mixed\")\n",
    "h2 = ROOT.RDataFrame(\"T\",\"data_fall2018_out_fde_goodruns_threeKaon_mixEv_bg.root\").Filter(\"(1.07<=mm_fkpskpkm_mixed && mm_fkpskpkm_mixed<=1.25)\").Histo1D((\"data-2k-mixev\", \"data-2k-mixev\", 50, 0.8, 2.8), \"mm_fkpskp_mixed\")\n",
    "h2.SetTitle(\"Bg. Shape in MM(eK^{+}K^{+}) from event mixing\")#50, 0.8, 2.8#25, 1.5, 2.5\n",
    "h2.GetXaxis().SetTitle(\"MM(eK^{+}K^{+}) [GeV/c^{2}]\")\n",
    "h2.GetYaxis().SetTitle(\"Counts/40 MeV/c^{2}\")\n",
    "#h1.GetYaxis().SetTitleOffset(0.9)\n",
    "h2.GetXaxis().SetTitleSize(0.05)\n",
    "h2.GetYaxis().SetTitleSize(0.05)\n",
    "h2.GetXaxis().SetTitleOffset(0.9)\n",
    "#h2.GetYaxis().SetTitleOffset(0.9)\n",
    "%jsroot on\n",
    "ROOT.gStyle.SetOptStat(00000)\n",
    "ROOT.gStyle.SetOptFit(0)\n",
    "c = ROOT.TCanvas()\n",
    "h2.Draw(\"E\")\n",
    "h2.SetLineColor(ROOT.kRed)\n",
    "h2.SetMarkerStyle(21)\n",
    "h2.SetMarkerSize(0.8)\n",
    "bg_fitResult = h2.Fit(\"pol3\", \"EMS\",\" \", 1.3,2.2)\n",
    "c.Draw()"
   ]
  },
  {
   "cell_type": "code",
   "execution_count": 12,
   "id": "a1dd0916",
   "metadata": {},
   "outputs": [
    {
     "name": "stdout",
     "output_type": "stream",
     "text": [
      "Columns in the dataset: { \"mm_fkpskp_mixed\" }\n"
     ]
    }
   ],
   "source": [
    "df = ROOT.RDataFrame(\"T\", \"data_fall2018_out_fde_goodruns_twoKaon_mixEv_bg.root\")\n",
    "print(f\"Columns in the dataset: {df.GetColumnNames()}\")"
   ]
  },
  {
   "cell_type": "markdown",
   "id": "dc5175db",
   "metadata": {},
   "source": [
    "## Background Modeling\n",
    "* **To model a background shape, implemented events mixing technique over $eK^{+}K^{+}$ i.e $\\Xi^{*}$ data sample**\n",
    "* **Background Shape determination in the MM(eK+K+) from event mixing technique from Xi data sample with FD-e**"
   ]
  },
  {
   "cell_type": "code",
   "execution_count": 16,
   "id": "0d0ee8c7",
   "metadata": {},
   "outputs": [
    {
     "name": "stdout",
     "output_type": "stream",
     "text": [
      " FCN=630.201 FROM MINOS     STATUS=FAILURE       365 CALLS        1660 TOTAL\n",
      "                     EDM=1.28327e-11    STRATEGY= 1      ERROR MATRIX ACCURATE \n",
      "  EXT PARAMETER                                   STEP         FIRST   \n",
      "  NO.   NAME      VALUE            ERROR          SIZE      DERIVATIVE \n",
      "   1  p0          -5.31545e+05   3.37583e+03   2.51372e+03   9.07407e-11\n",
      "   2  p1           5.50246e+05   3.98852e+03  -4.04134e+03   7.04657e-10\n",
      "   3  p2          -1.30189e+05   1.80753e+03   2.15383e+03  -1.10273e-10\n",
      "   4  p3          -3.22471e+03   3.80529e+02   3.80529e+02   8.26415e-11\n"
     ]
    },
    {
     "data": {
      "text/html": [
       "\n",
       "\n",
       "<div id=\"root_plot_1657116134565\"\n",
       "     style=\"width: 696px; height: 472px\">\n",
       "</div>\n",
       "<script>\n",
       "\n",
       "function display_root_plot_1657116134565(Core) {\n",
       "   let obj = Core.parse({\"_typename\":\"TCanvas\",\"fUniqueID\":0,\"fBits\":3342344,\"fLineColor\":1,\"fLineStyle\":1,\"fLineWidth\":1,\"fFillColor\":0,\"fFillStyle\":1001,\"fLeftMargin\":0.1,\"fRightMargin\":0.1,\"fBottomMargin\":0.1,\"fTopMargin\":0.1,\"fXfile\":2,\"fYfile\":2,\"fAfile\":1,\"fXstat\":0.99,\"fYstat\":0.99,\"fAstat\":2,\"fFrameFillColor\":0,\"fFrameLineColor\":1,\"fFrameFillStyle\":1001,\"fFrameLineStyle\":1,\"fFrameLineWidth\":1,\"fFrameBorderSize\":1,\"fFrameBorderMode\":0,\"fX1\":0.549999981373547,\"fY1\":-3016.13738986031,\"fX2\":3.05000001862645,\"fY2\":27145.2347109849,\"fXtoAbsPixelk\":-153.11994253273,\"fXtoPixelk\":-153.11994253273,\"fXtoPixel\":278.399995851517,\"fYtoAbsPixelk\":424.800047186661,\"fYtoPixelk\":424.800047186661,\"fYtoPixel\":-0.0156491554303915,\"fUtoAbsPixelk\":5e-5,\"fUtoPixelk\":5e-5,\"fUtoPixel\":696,\"fVtoAbsPixelk\":472.00005,\"fVtoPixelk\":472,\"fVtoPixel\":-472,\"fAbsPixeltoXk\":0.549999981373547,\"fPixeltoXk\":0.549999981373547,\"fPixeltoX\":0.00359195407651279,\"fAbsPixeltoYk\":27145.2347109849,\"fPixeltoYk\":-3016.13738986031,\"fPixeltoY\":-63.9012120780618,\"fXlowNDC\":0,\"fYlowNDC\":0,\"fXUpNDC\":1,\"fYUpNDC\":1,\"fWNDC\":1,\"fHNDC\":1,\"fAbsXlowNDC\":0,\"fAbsYlowNDC\":0,\"fAbsWNDC\":1,\"fAbsHNDC\":1,\"fUxmin\":0.8,\"fUymin\":0,\"fUxmax\":2.8,\"fUymax\":24129.0973211246,\"fTheta\":30,\"fPhi\":30,\"fAspectRatio\":0,\"fNumber\":0,\"fTickx\":0,\"fTicky\":0,\"fLogx\":0,\"fLogy\":0,\"fLogz\":0,\"fPadPaint\":0,\"fCrosshair\":0,\"fCrosshairPos\":0,\"fBorderSize\":2,\"fBorderMode\":0,\"fModified\":false,\"fGridx\":false,\"fGridy\":false,\"fAbsCoord\":false,\"fEditable\":true,\"fFixedAspectRatio\":false,\"fPrimitives\":{\"_typename\":\"TList\",\"name\":\"TList\",\"arr\":[{\"_typename\":\"TFrame\",\"fUniqueID\":0,\"fBits\":8,\"fLineColor\":1,\"fLineStyle\":1,\"fLineWidth\":1,\"fFillColor\":0,\"fFillStyle\":1001,\"fX1\":0.8,\"fY1\":0,\"fX2\":2.8,\"fY2\":24129.0973211246,\"fBorderSize\":1,\"fBorderMode\":0},{\"_typename\":\"TH1D\",\"fUniqueID\":0,\"fBits\":520,\"fName\":\"data-2k-mixev\",\"fTitle\":\"Bg. Shape in MM(eK^{+}K^{+}) from event mixing\",\"fLineColor\":632,\"fLineStyle\":1,\"fLineWidth\":1,\"fFillColor\":0,\"fFillStyle\":1001,\"fMarkerColor\":1,\"fMarkerStyle\":21,\"fMarkerSize\":0.8,\"fNcells\":52,\"fXaxis\":{\"_typename\":\"TAxis\",\"fUniqueID\":0,\"fBits\":0,\"fName\":\"xaxis\",\"fTitle\":\"MM(eK^{+}K^{+}) [GeV\\/c^{2}]\",\"fNdivisions\":510,\"fAxisColor\":1,\"fLabelColor\":1,\"fLabelFont\":42,\"fLabelOffset\":0.005,\"fLabelSize\":0.035,\"fTickLength\":0.03,\"fTitleOffset\":0.9,\"fTitleSize\":0.05,\"fTitleColor\":1,\"fTitleFont\":42,\"fNbins\":50,\"fXmin\":0.8,\"fXmax\":2.8,\"fXbins\":[],\"fFirst\":0,\"fLast\":0,\"fBits2\":0,\"fTimeDisplay\":false,\"fTimeFormat\":\"\",\"fLabels\":null,\"fModLabs\":null},\"fYaxis\":{\"_typename\":\"TAxis\",\"fUniqueID\":0,\"fBits\":0,\"fName\":\"yaxis\",\"fTitle\":\"Counts\\/40 MeV\\/c^{2}\",\"fNdivisions\":510,\"fAxisColor\":1,\"fLabelColor\":1,\"fLabelFont\":42,\"fLabelOffset\":0.005,\"fLabelSize\":0.035,\"fTickLength\":0.03,\"fTitleOffset\":0,\"fTitleSize\":0.05,\"fTitleColor\":1,\"fTitleFont\":42,\"fNbins\":1,\"fXmin\":0,\"fXmax\":1,\"fXbins\":[],\"fFirst\":0,\"fLast\":0,\"fBits2\":0,\"fTimeDisplay\":false,\"fTimeFormat\":\"\",\"fLabels\":null,\"fModLabs\":null},\"fZaxis\":{\"_typename\":\"TAxis\",\"fUniqueID\":0,\"fBits\":0,\"fName\":\"zaxis\",\"fTitle\":\"\",\"fNdivisions\":510,\"fAxisColor\":1,\"fLabelColor\":1,\"fLabelFont\":42,\"fLabelOffset\":0.005,\"fLabelSize\":0.035,\"fTickLength\":0.03,\"fTitleOffset\":1,\"fTitleSize\":0.035,\"fTitleColor\":1,\"fTitleFont\":42,\"fNbins\":1,\"fXmin\":0,\"fXmax\":1,\"fXbins\":[],\"fFirst\":0,\"fLast\":0,\"fBits2\":0,\"fTimeDisplay\":false,\"fTimeFormat\":\"\",\"fLabels\":null,\"fModLabs\":null},\"fBarOffset\":0,\"fBarWidth\":1000,\"fEntries\":368171,\"fTsumw\":366185,\"fTsumw2\":366185,\"fTsumwx\":751778.050727384,\"fTsumwx2\":1566470.19764693,\"fMaximum\":-1111,\"fMinimum\":-1111,\"fNormFactor\":0,\"fContour\":[],\"fSumw2\":[],\"fOption\":\"\",\"fFunctions\":{\"_typename\":\"TList\",\"name\":\"TList\",\"arr\":[{\"_typename\":\"TF1\",\"fUniqueID\":0,\"fBits\":1024,\"fName\":\"pol3\",\"fTitle\":\"pol3\",\"fLineColor\":2,\"fLineStyle\":1,\"fLineWidth\":2,\"fFillColor\":19,\"fFillStyle\":0,\"fMarkerColor\":1,\"fMarkerStyle\":1,\"fMarkerSize\":1,\"fXmin\":1.6,\"fXmax\":2.2,\"fNpar\":4,\"fNdim\":1,\"fNpx\":100,\"fType\":0,\"fNpfits\":15,\"fNDF\":11,\"fChisquare\":630.201379519846,\"fMinimum\":-1111,\"fMaximum\":-1111,\"fParErrors\":[3375.82898045287,3988.51947051108,1807.52816150461,380.529133479788],\"fParMin\":[0,0,0,0],\"fParMax\":[0,0,0,0],\"fSave\":{\"$arr\":\"Float64\",\"len\":103,\"v\":[2356.50140728216,3004.51108362791,3642.02851470879,4269.0495213002,4885.56992417689,5491.58554411422,6087.09220188692,6672.0857182703,7246.56191403922,7810.51660996896,8363.94562683434,8906.84478541053,9439.20990647257,9961.03681079534,10472.3213191542,10973.0592523238,11463.2464310797,11942.8786761964,12411.9518084495,12870.4616486136,13318.4040174639,13755.7747357755,14182.5696243234,14598.7845038827,15004.4151952284,15399.4575191355,15783.9072963792,16157.7603477345,16521.0124939763,16873.6595558798,17215.69735422,17547.121709772,17867.9284433106,18178.1133756113,18477.6723274488,18766.6011195984,19044.8955728347,19312.5515079334,19569.564745669,19815.9311068167,20051.6464121517,20276.7064824489,20491.1071384834,20694.8442010303,20887.9134908646,21070.3108287612,21242.0320354954,21403.0729318422,21553.4293385765,21693.0970764734,21822.0719663081,21940.3498288554,22047.9264848908,22144.7977551887,22230.9594605246,22306.4074216733,22371.1374594103,22425.1453945101,22468.427047748,22500.978239899,22522.7947917383,22533.8725240407,22534.2072575815,22523.7948131357,22502.6310114781,22470.7116733838,22428.0326196281,22374.5896709862,22310.3786482324,22235.3953721425,22149.6356634913,22053.0953430538,21945.7702316048,21827.6561499199,21698.748918774,21559.0443589417,21408.5382911986,21247.2265363193,21075.1049150792,20892.1692482532,20698.4153566163,20493.8390609435,20278.4361820101,20052.2025405911,19815.1339574615,19567.2262533959,19308.4752491702,19038.8767655588,18758.426623337,18467.1206432799,18164.9546461622,17851.9244527594,17528.0258838463,17193.254760198,16847.6069025894,16491.0781317959,16123.6642685924,15745.3611337537,15356.1645480549,14956.0703322716,14545.0743071783,1.6,2.2]},\"fNormalized\":false,\"fNormIntegral\":0,\"fFormula\":{\"_typename\":\"TFormula\",\"fUniqueID\":0,\"fBits\":66560,\"fName\":\"pol3\",\"fTitle\":\"pol3\",\"fClingParameters\":[-531545.273585952,550246.225262071,-130188.972955619,-3224.71061027715],\"fAllParametersSetted\":true,\"fParams\":[{\"$pair\":\"pair<TString,int,TFormulaParamOrder>\",\"first\":\"p0\",\"second\":0},{\"$pair\":\"pair<TString,int,TFormulaParamOrder>\",\"first\":\"p1\",\"second\":1},{\"$pair\":\"pair<TString,int,TFormulaParamOrder>\",\"first\":\"p2\",\"second\":2},{\"$pair\":\"pair<TString,int,TFormulaParamOrder>\",\"first\":\"p3\",\"second\":3}],\"fFormula\":\"([p0]+[p1]*x+[p2]*pow(x,2)+[p3]*pow(x,3))\",\"fNdim\":1,\"fLinearParts\":[],\"fVectorized\":false},\"fParams\":null,\"fComposition\":null}],\"opt\":[\"\"]},\"fBufferSize\":0,\"fBuffer\":[],\"fBinStatErrOpt\":0,\"fStatOverflows\":2,\"fArray\":{\"$arr\":\"Float64\",\"len\":52,\"p\":18,\"v\":[116,1147,2845,5104,7626,10697,14086,17686,20504,21826,22829,22827,22377,21322,20747,19085,17888,16798,15418,14018,12867,11219,9612,8116,6701,5692,4675,3691,2909,2163,1568,1197,829,1986]}},{\"_typename\":\"TPaveText\",\"fUniqueID\":0,\"fBits\":9,\"fLineColor\":1,\"fLineStyle\":1,\"fLineWidth\":1,\"fFillColor\":0,\"fFillStyle\":0,\"fX1\":0.924999986961483,\"fY1\":25154.0730864531,\"fX2\":2.67500001303852,\"fY2\":26994.4279943013,\"fX1NDC\":0.15,\"fY1NDC\":0.933983055615829,\"fX2NDC\":0.85,\"fY2NDC\":0.995000004768372,\"fBorderSize\":0,\"fInit\":1,\"fShadowColor\":1,\"fCornerRadius\":0,\"fOption\":\"blNDC\",\"fName\":\"title\",\"fTextAngle\":0,\"fTextSize\":0,\"fTextAlign\":22,\"fTextColor\":1,\"fTextFont\":42,\"fLabel\":\"\",\"fLongest\":46,\"fMargin\":0.05,\"fLines\":{\"_typename\":\"TList\",\"name\":\"TList\",\"arr\":[{\"_typename\":\"TLatex\",\"fUniqueID\":0,\"fBits\":0,\"fName\":\"\",\"fTitle\":\"Bg. Shape in MM(eK^{+}K^{+}) from event mixing\",\"fTextAngle\":0,\"fTextSize\":0,\"fTextAlign\":0,\"fTextColor\":0,\"fTextFont\":0,\"fX\":0,\"fY\":0,\"fLineColor\":1,\"fLineStyle\":1,\"fLineWidth\":2,\"fLimitFactorSize\":3,\"fOriginSize\":0.0518644079566002}],\"opt\":[\"\"]}},{\"_typename\":\"TStyle\",\"fUniqueID\":0,\"fBits\":0,\"fName\":\"Modern\",\"fTitle\":\"Modern Style\",\"fLineColor\":1,\"fLineStyle\":1,\"fLineWidth\":1,\"fFillColor\":19,\"fFillStyle\":1001,\"fMarkerColor\":1,\"fMarkerStyle\":1,\"fMarkerSize\":1,\"fTextAngle\":0,\"fTextSize\":0.05,\"fTextAlign\":11,\"fTextColor\":1,\"fTextFont\":62,\"fXaxis\":{\"_typename\":\"TAttAxis\",\"fNdivisions\":510,\"fAxisColor\":1,\"fLabelColor\":1,\"fLabelFont\":42,\"fLabelOffset\":0.005,\"fLabelSize\":0.035,\"fTickLength\":0.03,\"fTitleOffset\":1,\"fTitleSize\":0.035,\"fTitleColor\":1,\"fTitleFont\":42},\"fYaxis\":{\"_typename\":\"TAttAxis\",\"fNdivisions\":510,\"fAxisColor\":1,\"fLabelColor\":1,\"fLabelFont\":42,\"fLabelOffset\":0.005,\"fLabelSize\":0.035,\"fTickLength\":0.03,\"fTitleOffset\":0,\"fTitleSize\":0.035,\"fTitleColor\":1,\"fTitleFont\":42},\"fZaxis\":{\"_typename\":\"TAttAxis\",\"fNdivisions\":510,\"fAxisColor\":1,\"fLabelColor\":1,\"fLabelFont\":42,\"fLabelOffset\":0.005,\"fLabelSize\":0.035,\"fTickLength\":0.03,\"fTitleOffset\":1,\"fTitleSize\":0.035,\"fTitleColor\":1,\"fTitleFont\":42},\"fBarWidth\":1,\"fBarOffset\":0,\"fColorModelPS\":0,\"fDrawBorder\":0,\"fOptLogx\":0,\"fOptLogy\":0,\"fOptLogz\":0,\"fOptDate\":0,\"fOptStat\":0,\"fOptTitle\":1,\"fOptFile\":0,\"fOptFit\":0,\"fShowEventStatus\":0,\"fShowEditor\":0,\"fShowToolBar\":0,\"fNumberContours\":20,\"fAttDate\":{\"_typename\":\"TAttText\",\"fTextAngle\":0,\"fTextSize\":0.025,\"fTextAlign\":11,\"fTextColor\":1,\"fTextFont\":62},\"fDateX\":0.01,\"fDateY\":0.01,\"fEndErrorSize\":2,\"fErrorX\":0.5,\"fFuncColor\":2,\"fFuncStyle\":1,\"fFuncWidth\":2,\"fGridColor\":0,\"fGridStyle\":3,\"fGridWidth\":1,\"fLegendBorderSize\":1,\"fLegendFillColor\":0,\"fLegendFont\":42,\"fLegendTextSize\":0,\"fHatchesLineWidth\":1,\"fHatchesSpacing\":1,\"fFrameFillColor\":0,\"fFrameLineColor\":1,\"fFrameFillStyle\":1001,\"fFrameLineStyle\":1,\"fFrameLineWidth\":1,\"fFrameBorderSize\":1,\"fFrameBorderMode\":0,\"fHistFillColor\":0,\"fHistLineColor\":602,\"fHistFillStyle\":1001,\"fHistLineStyle\":1,\"fHistLineWidth\":1,\"fHistMinimumZero\":false,\"fHistTopMargin\":0.05,\"fCanvasPreferGL\":false,\"fCanvasColor\":0,\"fCanvasBorderSize\":2,\"fCanvasBorderMode\":0,\"fCanvasDefH\":500,\"fCanvasDefW\":700,\"fCanvasDefX\":10,\"fCanvasDefY\":10,\"fPadColor\":0,\"fPadBorderSize\":2,\"fPadBorderMode\":0,\"fPadBottomMargin\":0.1,\"fPadTopMargin\":0.1,\"fPadLeftMargin\":0.1,\"fPadRightMargin\":0.1,\"fPadGridX\":false,\"fPadGridY\":false,\"fPadTickX\":0,\"fPadTickY\":0,\"fPaperSizeX\":20,\"fPaperSizeY\":26,\"fScreenFactor\":1,\"fStatColor\":0,\"fStatTextColor\":1,\"fStatBorderSize\":1,\"fStatFont\":42,\"fStatFontSize\":0,\"fStatStyle\":1001,\"fStatFormat\":\"6.4g\",\"fStatX\":0.98,\"fStatY\":0.935,\"fStatW\":0.2,\"fStatH\":0.16,\"fStripDecimals\":true,\"fTitleAlign\":23,\"fTitleColor\":0,\"fTitleTextColor\":1,\"fTitleBorderSize\":0,\"fTitleFont\":42,\"fTitleFontSize\":0.05,\"fTitleStyle\":0,\"fTitleX\":0.5,\"fTitleY\":0.995,\"fTitleW\":0,\"fTitleH\":0,\"fLegoInnerR\":0.5,\"fLineStyles\":[\"\",\"  \",\" 12 12\",\" 4 8\",\" 12 16 4 16\",\" 20 12 4 12\",\" 20 12 4 12 4 12 4 12\",\" 20 20\",\" 20 12 4 12 4 12\",\" 80 20\",\" 80 40 4 40\",\"  \",\"  \",\"  \",\"  \",\"  \",\"  \",\"  \",\"  \",\"  \",\"  \",\"  \",\"  \",\"  \",\"  \",\"  \",\"  \",\"  \",\"  \",\"  \"],\"fHeaderPS\":\"\",\"fTitlePS\":\"\",\"fFitFormat\":\"5.4g\",\"fPaintTextFormat\":\"g\",\"fLineScalePS\":3,\"fJoinLinePS\":0,\"fCapLinePS\":0,\"fTimeOffset\":788918400,\"fImageScaling\":1}],\"opt\":[\"\",\"E\",\"blNDC\",\"\"]},\"fExecs\":null,\"fName\":\"c1_n2\",\"fTitle\":\"c1_n2\",\"fNumPaletteColor\":0,\"fNextPaletteColor\":0,\"fDISPLAY\":\"$DISPLAY\",\"fDoubleBuffer\":0,\"fRetained\":true,\"fXsizeUser\":0,\"fYsizeUser\":0,\"fXsizeReal\":20,\"fYsizeReal\":14.28571,\"fWindowTopX\":0,\"fWindowTopY\":0,\"fWindowWidth\":0,\"fWindowHeight\":0,\"fCw\":696,\"fCh\":472,\"fCatt\":{\"_typename\":\"TAttCanvas\",\"fXBetween\":2,\"fYBetween\":2,\"fTitleFromTop\":1.2,\"fXdate\":0.2,\"fYdate\":0.3,\"fAdate\":1},\"kMoveOpaque\":true,\"kResizeOpaque\":true,\"fHighLightColor\":2,\"fBatch\":true,\"kShowEventStatus\":false,\"kAutoExec\":true,\"kMenuBar\":true});\n",
       "   Core.settings.HandleKeys = false;\n",
       "   Core.draw(\"root_plot_1657116134565\", obj, \"\");\n",
       "}\n",
       "\n",
       "function script_load_root_plot_1657116134565(src, on_error) {\n",
       "    let script = document.createElement('script');\n",
       "    script.src = src;\n",
       "    script.onload = function() { display_root_plot_1657116134565(JSROOT); };\n",
       "    script.onerror = function() { script.remove(); on_error(); };\n",
       "    document.head.appendChild(script);\n",
       "}\n",
       "\n",
       "if (typeof requirejs !== 'undefined') {\n",
       "\n",
       "    // We are in jupyter notebooks, use require.js which should be configured already\n",
       "    requirejs.config({\n",
       "       paths: { 'JSRootCore' : [ 'scripts/JSRoot.core', 'https://root.cern/js/6.1.1/scripts/JSRoot.core.min', 'https://jsroot.gsi.de/6.1.1/scripts/JSRoot.core.min' ] }\n",
       "    })(['JSRootCore'],  function(Core) {\n",
       "       display_root_plot_1657116134565(Core);\n",
       "    });\n",
       "\n",
       "} else if (typeof JSROOT !== 'undefined') {\n",
       "\n",
       "   // JSROOT already loaded, just use it\n",
       "   display_root_plot_1657116134565(JSROOT);\n",
       "\n",
       "} else {\n",
       "\n",
       "    // We are in jupyterlab without require.js, directly loading jsroot\n",
       "    // Jupyterlab might be installed in a different base_url so we need to know it.\n",
       "    try {\n",
       "        var base_url = JSON.parse(document.getElementById('jupyter-config-data').innerHTML).baseUrl;\n",
       "    } catch(_) {\n",
       "        var base_url = '/';\n",
       "    }\n",
       "\n",
       "    // Try loading a local version of requirejs and fallback to cdn if not possible.\n",
       "    script_load_root_plot_1657116134565(base_url + 'static/scripts/JSRoot.core.js', function(){\n",
       "        console.error('Fail to load JSROOT locally, please check your jupyter_notebook_config.py file');\n",
       "        script_load_root_plot_1657116134565('https://root.cern/js/6.1.1/scripts/JSRoot.core.min.js', function(){\n",
       "            document.getElementById(\"root_plot_1657116134565\").innerHTML = \"Failed to load JSROOT\";\n",
       "        });\n",
       "    });\n",
       "}\n",
       "\n",
       "</script>\n"
      ],
      "text/plain": [
       "<IPython.core.display.HTML object>"
      ]
     },
     "metadata": {},
     "output_type": "display_data"
    }
   ],
   "source": [
    "#h2 = ROOT.RDataFrame(\"T\",\"data_fall2018_out_fde_goodruns_twoKaon_mixEv_all.root\").Histo1D((\"data-2k-mixev\", \"data-2k-mixev\", 50, 0.8, 2.8), \"mm_fkpskp_mixed\")\n",
    "#h2 = ROOT.RDataFrame(\"T\",\"data_fall2018_out_fde_goodruns_twoKaon_mixEv_bg.root\").Histo1D((\"data-2k-mixev\", \"data-2k-mixev\", 50, 0.8, 2.8), \"mm_fkpskp_mixed\")\n",
    "h2 = ROOT.RDataFrame(\"T\",\"data_fall2018_out_fte_goodruns_threeKaon_mixEv_bg.root\").Filter(\"(1.00<=mm_fkpskpkm_mixed && mm_fkpskpkm_mixed<=1.29)\").Histo1D((\"data-2k-mixev\", \"data-2k-mixev\", 50, 0.8, 2.8), \"mm_fkpskp_mixed\")\n",
    "h2.SetTitle(\"Bg. Shape in MM(eK^{+}K^{+}) from event mixing\")#50, 0.8, 2.8#25, 1.5, 2.5\n",
    "h2.GetXaxis().SetTitle(\"MM(eK^{+}K^{+}) [GeV/c^{2}]\")\n",
    "h2.GetYaxis().SetTitle(\"Counts/40 MeV/c^{2}\")\n",
    "#h1.GetYaxis().SetTitleOffset(0.9)\n",
    "h2.GetXaxis().SetTitleSize(0.05)\n",
    "h2.GetYaxis().SetTitleSize(0.05)\n",
    "h2.GetXaxis().SetTitleOffset(0.9)\n",
    "#h2.GetYaxis().SetTitleOffset(0.9)\n",
    "%jsroot on\n",
    "ROOT.gStyle.SetOptStat(00000)\n",
    "ROOT.gStyle.SetOptFit(0)\n",
    "c = ROOT.TCanvas()\n",
    "h2.Draw(\"E\")\n",
    "h2.SetLineColor(ROOT.kRed)\n",
    "h2.SetMarkerStyle(21)\n",
    "h2.SetMarkerSize(0.8)\n",
    "bg_fitResult = h2.Fit(\"pol3\", \"EMS\",\" \", 1.6,2.2)\n",
    "c.Draw()"
   ]
  },
  {
   "cell_type": "code",
   "execution_count": null,
   "id": "fe1b46ad",
   "metadata": {},
   "outputs": [],
   "source": []
  },
  {
   "cell_type": "code",
   "execution_count": null,
   "id": "f23e4e5e",
   "metadata": {},
   "outputs": [],
   "source": []
  },
  {
   "cell_type": "code",
   "execution_count": null,
   "id": "bd0ff0b1",
   "metadata": {},
   "outputs": [],
   "source": []
  }
 ],
 "metadata": {
  "kernelspec": {
   "display_name": "Python 3 (ipykernel)",
   "language": "python",
   "name": "python3"
  },
  "language_info": {
   "codemirror_mode": {
    "name": "ipython",
    "version": 3
   },
   "file_extension": ".py",
   "mimetype": "text/x-python",
   "name": "python",
   "nbconvert_exporter": "python",
   "pygments_lexer": "ipython3",
   "version": "3.9.12"
  }
 },
 "nbformat": 4,
 "nbformat_minor": 5
}
