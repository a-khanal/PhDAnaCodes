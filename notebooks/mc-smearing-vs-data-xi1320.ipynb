{
 "cells": [
  {
   "cell_type": "code",
   "execution_count": 1,
   "id": "6e733932",
   "metadata": {},
   "outputs": [
    {
     "name": "stdout",
     "output_type": "stream",
     "text": [
      "Welcome to JupyROOT 6.26/00\n"
     ]
    }
   ],
   "source": [
    "import ROOT\n",
    "import math\n",
    "from array import array\n",
    "import numpy as np"
   ]
  },
  {
   "cell_type": "code",
   "execution_count": 2,
   "id": "5f1dc402",
   "metadata": {},
   "outputs": [
    {
     "name": "stdout",
     "output_type": "stream",
     "text": [
      "-rw-r--r--  1 akhanal  staff       44490 Feb 13 17:08 basic.root\r\n",
      "-rw-r--r--  1 akhanal  staff      890817 Feb 22 16:41 data_all_fde.root\r\n",
      "-rw-r--r--  1 akhanal  staff     7487446 Feb 22 16:38 data_all_fte.root\r\n",
      "-rw-r--r--  1 akhanal  staff     7391613 Feb 22 16:57 data_all_fte_ecornonly.root\r\n",
      "-rw-r--r--  1 akhanal  staff     7233824 Feb 22 17:00 data_all_fte_nocorn.root\r\n",
      "-rw-r--r--  1 akhanal  staff      243193 Feb 21 19:22 data_fall2018_in_fde.root\r\n",
      "-rw-r--r--  1 akhanal  staff     3130991 Feb 22 18:21 data_fall2018_in_fte.root\r\n",
      "-rw-r--r--  1 akhanal  staff     3090975 Feb 22 18:19 data_fall2018_in_fte_ecornonly.root\r\n",
      "-rw-r--r--  1 akhanal  staff     3025107 Feb 22 18:17 data_fall2018_in_fte_nocorn.root\r\n",
      "-rw-r--r--  1 akhanal  staff      422232 Feb 22 16:18 data_fall2018_out_fde.root\r\n",
      "-rw-r--r--  1 akhanal  staff     1280945 Feb 22 18:11 data_fall2018_out_fte.root\r\n",
      "-rw-r--r--  1 akhanal  staff     1264513 Feb 22 18:13 data_fall2018_out_fte_ecornonly.root\r\n",
      "-rw-r--r--  1 akhanal  staff     1237557 Feb 22 18:15 data_fall2018_out_fte_nocorn.root\r\n",
      "-rw-r--r--  1 akhanal  staff      259676 Feb 22 16:31 data_spring2019_in_fde.root\r\n",
      "-rw-r--r--  1 akhanal  staff     3091731 Feb 22 18:03 data_spring2019_in_fte.root\r\n",
      "-rw-r--r--  1 akhanal  staff     3052176 Feb 22 18:05 data_spring2019_in_fte_ecornonly.root\r\n",
      "-rw-r--r--  1 akhanal  staff     2987296 Feb 22 18:36 data_spring2019_in_fte_nocorn.root\r\n",
      "-rw-r--r--  1 akhanal  staff     6071789 May 10 14:52 data_xi1320_2kplus_fall2018_in_fde.root\r\n",
      "-rw-r--r--  1 akhanal  staff    65153400 May 10 14:37 data_xi1320_2kplus_fall2018_in_fte.root\r\n",
      "-rw-r--r--  1 akhanal  staff     5321708 May  6 15:51 data_xi1320_2kplus_fall2018_out_fde.root\r\n",
      "-rw-r--r--  1 akhanal  staff    11629025 May  7 12:49 data_xi1320_2kplus_fall2018_out_fte.root\r\n",
      "-rw-r--r--  1 akhanal  staff    11395004 May  7 14:36 data_xi1320_2kplus_fall2018_out_fte_v1.root\r\n",
      "-rw-r--r--  1 akhanal  staff     1282228 May  8 13:43 data_xi1320_2kplus_rgk_6535MeV_out_fde.root\r\n",
      "-rw-r--r--  1 akhanal  staff      574409 May  8 13:30 data_xi1320_2kplus_rgk_7546MeV_out_fde.root\r\n",
      "-rw-r--r--  1 akhanal  staff     1097224 May  8 13:02 data_xi1320_2kplus_rgk_out_fte.root\r\n",
      "-rw-r--r--  1 akhanal  staff     7232530 May 10 14:55 data_xi1320_2kplus_spring2019_in_fde.root\r\n",
      "-rw-r--r--  1 akhanal  staff    68189916 May 10 14:22 data_xi1320_2kplus_spring2019_in_fte.root\r\n",
      "-rw-r--r--  1 akhanal  staff     1040565 May  6 13:49 data_xi1320_2kpluspim_fall2018_out_fde.root\r\n",
      "-rw-r--r--  1 akhanal  staff     3130209 May  4 08:41 mc_gen_delta_xi_fall2018_out_fde.root\r\n",
      "-rw-r--r--  1 akhanal  staff     6253127 Apr 23 10:43 mc_gen_delta_xi_fall2018_out_fte.root\r\n",
      "-rw-r--r--  1 akhanal  staff  2053820535 Feb 20 13:57 mc_gen_fall2018_in_fde.root\r\n",
      "-rw-r--r--  1 akhanal  staff  2059616620 Feb 22 15:03 mc_gen_fall2018_in_fte.root\r\n",
      "-rw-r--r--  1 akhanal  staff  1471876150 Mar 16 20:51 mc_gen_fall2018_in_xi_weightdecay_fde.root\r\n",
      "-rw-r--r--  1 akhanal  staff  1475909955 Mar 16 21:55 mc_gen_fall2018_in_xi_weightdecay_fte.root\r\n",
      "-rw-r--r--  1 akhanal  staff  2053820535 Feb 26 19:14 mc_gen_fall2018_out_fde.root\r\n",
      "-rw-r--r--  1 akhanal  staff  2056214452 Feb 26 21:36 mc_gen_fall2018_out_fte.root\r\n",
      "-rw-r--r--  1 akhanal  staff  1026945414 Mar 10 11:12 mc_gen_fall2018_out_lamdecay_fde.root\r\n",
      "-rw-r--r--  1 akhanal  staff  1029752494 Mar 11 15:55 mc_gen_fall2018_out_lamdecay_fte.root\r\n",
      "-rw-r--r--  1 akhanal  staff  1026829304 Mar 10 12:24 mc_gen_fall2018_out_sigdecay_fde.root\r\n",
      "-rw-r--r--  1 akhanal  staff  1025972485 Mar 11 16:45 mc_gen_fall2018_out_sigdecay_fte.root\r\n",
      "-rw-r--r--  1 akhanal  staff  1471842272 Mar 11 17:40 mc_gen_fall2018_out_xi_weightdecay_fde.root\r\n",
      "-rw-r--r--  1 akhanal  staff  1718938127 Mar 11 18:59 mc_gen_fall2018_out_xi_weightdecay_fte.root\r\n",
      "-rw-r--r--  1 akhanal  staff   624072355 May  9 11:54 mc_gen_xi1320_rga_config.root\r\n",
      "-rw-r--r--  1 akhanal  staff     3142095 May 17 17:50 mc_gen_xi1320_rga_fall2018_out_fde_test.root\r\n",
      "-rw-r--r--  1 akhanal  staff     3132422 May 17 17:37 mc_gen_xi1320_rga_fall2018_out_fte_test.root\r\n",
      "-rw-r--r--  1 akhanal  staff  3109470736 May  9 16:28 mc_gen_xi1320_rgk_fte.root\r\n",
      "-rw-r--r--  1 akhanal  staff       23477 May  4 08:41 mc_rec_delta_xi_fall2018_out_fde.root\r\n",
      "-rw-r--r--  1 akhanal  staff       49979 Apr 23 10:43 mc_rec_delta_xi_fall2018_out_fte.root\r\n",
      "-rw-r--r--  1 akhanal  staff     5231159 Feb 20 10:38 mc_rec_fall2018_in_fde.root\r\n",
      "-rw-r--r--  1 akhanal  staff     7854518 Feb 22 14:59 mc_rec_fall2018_in_fte.root\r\n",
      "-rw-r--r--  1 akhanal  staff      139151 Feb 22 12:08 mc_rec_fall2018_in_fte_test_allcorn.root\r\n",
      "-rw-r--r--  1 akhanal  staff      137421 Feb 22 11:58 mc_rec_fall2018_in_fte_test_energyCorn.root\r\n",
      "-rw-r--r--  1 akhanal  staff      134873 Feb 22 12:04 mc_rec_fall2018_in_fte_test_nocorn.root\r\n",
      "-rw-r--r--  1 akhanal  staff     3808461 Mar 16 20:46 mc_rec_fall2018_in_xi_weightdecay_fde.root\r\n",
      "-rw-r--r--  1 akhanal  staff     5637147 Mar 16 21:50 mc_rec_fall2018_in_xi_weightdecay_fte.root\r\n",
      "-rw-r--r--  1 akhanal  staff     4712442 Feb 26 19:10 mc_rec_fall2018_out_fde.root\r\n",
      "-rw-r--r--  1 akhanal  staff     4788271 Feb 26 21:32 mc_rec_fall2018_out_fte.root\r\n",
      "-rw-r--r--  1 akhanal  staff     2420318 Mar 10 11:11 mc_rec_fall2018_out_lamdecay_fde.root\r\n",
      "-rw-r--r--  1 akhanal  staff     2467037 Mar 11 15:52 mc_rec_fall2018_out_lamdecay_fte.root\r\n",
      "-rw-r--r--  1 akhanal  staff     2305108 Mar 10 12:22 mc_rec_fall2018_out_sigdecay_fde.root\r\n",
      "-rw-r--r--  1 akhanal  staff     2326006 Mar 11 16:39 mc_rec_fall2018_out_sigdecay_fte.root\r\n",
      "-rw-r--r--  1 akhanal  staff     3419577 Mar 11 17:36 mc_rec_fall2018_out_xi_weightdecay_fde.root\r\n",
      "-rw-r--r--  1 akhanal  staff     3836646 Mar 11 18:53 mc_rec_fall2018_out_xi_weightdecay_fte.root\r\n",
      "-rw-r--r--  1 akhanal  staff       32276 May 17 17:49 mc_rec_xi1320_rga_fall2018_out_fde_test.root\r\n",
      "-rw-r--r--  1 akhanal  staff       43936 May 17 17:32 mc_rec_xi1320_rga_fall2018_out_fte_test.root\r\n",
      "-rw-r--r--  1 akhanal  staff       36601 May  9 11:52 mc_rec_xi1320_rga_fde.root\r\n",
      "-rw-r--r--  1 akhanal  staff      622828 May  9 11:52 mc_rec_xi1320_rga_fte.root\r\n",
      "-rw-r--r--  1 akhanal  staff    27744173 May  9 16:03 mc_rec_xi1320_rgk_fte.root\r\n",
      "-rw-r--r--  1 akhanal  staff      890817 Feb 20 10:02 output_file_alldata_fde.root\r\n",
      "-rw-r--r--  1 akhanal  staff     7487446 Feb 21 09:55 output_file_alldata_fte.root\r\n",
      "-rw-r--r--  1 akhanal  staff        6786 Feb 12 11:30 test0.root\r\n"
     ]
    }
   ],
   "source": [
    "ls -l *.root"
   ]
  },
  {
   "cell_type": "code",
   "execution_count": 3,
   "id": "3122b15f",
   "metadata": {},
   "outputs": [
    {
     "name": "stdout",
     "output_type": "stream",
     "text": [
      "Columns in the dataset: { \"W\", \"beam_e\", \"e_e\", \"e_p\", \"e_phi\", \"e_px\", \"e_py\", \"e_pz\", \"e_theta\", \"e_vx\", \"e_vy\", \"e_vz\", \"evnum\", \"fkp_e\", \"fkp_p\", \"fkp_phi\", \"fkp_px\", \"fkp_py\", \"fkp_pz\", \"fkp_theta\", \"fkp_vx\", \"fkp_vy\", \"fkp_vz\", \"m_fkpskp\", \"mm_e\", \"mm_fkp\", \"mm_fkpskp\", \"mm_skp\", \"nu\", \"q2\", \"runnum\", \"skp_e\", \"skp_p\", \"skp_phi\", \"skp_px\", \"skp_py\", \"skp_pz\", \"skp_theta\", \"skp_vx\", \"skp_vy\", \"skp_vz\", \"x\" }\n"
     ]
    }
   ],
   "source": [
    "df = ROOT.RDataFrame(\"T\", \"data_xi1320_2kplus_fall2018_out_fde.root\")\n",
    "print(f\"Columns in the dataset: {df.GetColumnNames()}\")"
   ]
  },
  {
   "cell_type": "code",
   "execution_count": 4,
   "id": "1d57101f",
   "metadata": {},
   "outputs": [],
   "source": [
    "%%cpp\n",
    "Double_t Voigt(Double_t *x, Double_t *par) {\n",
    "    Double_t arg = 0;\n",
    "    if (par[0]) arg = (x[0] - par[0]);\n",
    "    return TMath::Voigt(arg, par[1], par[2], 4);\n",
    "    // median, sigma, lg\n",
    "}"
   ]
  },
  {
   "cell_type": "code",
   "execution_count": 5,
   "id": "41e97d05",
   "metadata": {},
   "outputs": [
    {
     "data": {
      "text/html": [
       "\n",
       "\n",
       "<div id=\"root_plot_1652966579801\"\n",
       "     style=\"width: 696px; height: 472px\">\n",
       "</div>\n",
       "<script>\n",
       "\n",
       "function display_root_plot_1652966579801(Core) {\n",
       "   let obj = Core.parse({\"_typename\":\"TCanvas\",\"fUniqueID\":0,\"fBits\":3342344,\"fLineColor\":1,\"fLineStyle\":1,\"fLineWidth\":1,\"fFillColor\":0,\"fFillStyle\":1001,\"fLeftMargin\":0.1,\"fRightMargin\":0.1,\"fBottomMargin\":0.1,\"fTopMargin\":0.1,\"fXfile\":2,\"fYfile\":2,\"fAfile\":1,\"fXstat\":0.99,\"fYstat\":0.99,\"fAstat\":2,\"fFrameFillColor\":0,\"fFrameLineColor\":1,\"fFrameFillStyle\":1001,\"fFrameLineStyle\":1,\"fFrameLineWidth\":1,\"fFrameBorderSize\":1,\"fFrameBorderMode\":0,\"fX1\":0.249999981373547,\"fY1\":-0.0235414397342154,\"fX2\":2.75000001862645,\"fY2\":0.211872943576147,\"fXtoAbsPixelk\":-69.5999437772748,\"fXtoPixelk\":-69.5999437772748,\"fXtoPixel\":278.399995851517,\"fYtoAbsPixelk\":424.800047186661,\"fYtoPixelk\":424.800047186661,\"fYtoPixel\":-2004.97519889314,\"fUtoAbsPixelk\":5e-5,\"fUtoPixelk\":5e-5,\"fUtoPixel\":696,\"fVtoAbsPixelk\":472.00005,\"fVtoPixelk\":472,\"fVtoPixel\":-472,\"fAbsPixeltoXk\":0.249999981373547,\"fPixeltoXk\":0.249999981373547,\"fPixeltoX\":0.00359195407651279,\"fAbsPixeltoYk\":0.211872943576147,\"fPixeltoYk\":-0.0235414397342154,\"fPixeltoY\":-4.98759286674497e-4,\"fXlowNDC\":0,\"fYlowNDC\":0,\"fXUpNDC\":1,\"fYUpNDC\":1,\"fWNDC\":1,\"fHNDC\":1,\"fAbsXlowNDC\":0,\"fAbsYlowNDC\":0,\"fAbsWNDC\":1,\"fAbsHNDC\":1,\"fUxmin\":0.5,\"fUymin\":0,\"fUxmax\":2.5,\"fUymax\":0.188331503841932,\"fTheta\":30,\"fPhi\":30,\"fAspectRatio\":0,\"fNumber\":0,\"fTickx\":0,\"fTicky\":0,\"fLogx\":0,\"fLogy\":0,\"fLogz\":0,\"fPadPaint\":0,\"fCrosshair\":0,\"fCrosshairPos\":0,\"fBorderSize\":2,\"fBorderMode\":0,\"fModified\":false,\"fGridx\":false,\"fGridy\":false,\"fAbsCoord\":false,\"fEditable\":true,\"fFixedAspectRatio\":false,\"fPrimitives\":{\"_typename\":\"TList\",\"name\":\"TList\",\"arr\":[{\"_typename\":\"TFrame\",\"fUniqueID\":0,\"fBits\":8,\"fLineColor\":1,\"fLineStyle\":1,\"fLineWidth\":1,\"fFillColor\":0,\"fFillStyle\":1001,\"fX1\":0.5,\"fY1\":0,\"fX2\":2.5,\"fY2\":0.188331503841932,\"fBorderSize\":1,\"fBorderMode\":0},{\"_typename\":\"TH1D\",\"fUniqueID\":0,\"fBits\":8,\"fName\":\"mc\",\"fTitle\":\"MM(eK^{+}K^{+})\",\"fLineColor\":602,\"fLineStyle\":1,\"fLineWidth\":1,\"fFillColor\":0,\"fFillStyle\":1001,\"fMarkerColor\":1,\"fMarkerStyle\":1,\"fMarkerSize\":1,\"fNcells\":252,\"fXaxis\":{\"_typename\":\"TAxis\",\"fUniqueID\":0,\"fBits\":0,\"fName\":\"xaxis\",\"fTitle\":\"MM(eK^{+}K^{+}) [GeV\\/c^{2}]\",\"fNdivisions\":510,\"fAxisColor\":1,\"fLabelColor\":1,\"fLabelFont\":42,\"fLabelOffset\":0.005,\"fLabelSize\":0.035,\"fTickLength\":0.03,\"fTitleOffset\":0.9,\"fTitleSize\":0.05,\"fTitleColor\":1,\"fTitleFont\":42,\"fNbins\":250,\"fXmin\":0.5,\"fXmax\":2.5,\"fXbins\":[],\"fFirst\":0,\"fLast\":0,\"fBits2\":0,\"fTimeDisplay\":false,\"fTimeFormat\":\"\",\"fLabels\":null,\"fModLabs\":null},\"fYaxis\":{\"_typename\":\"TAxis\",\"fUniqueID\":0,\"fBits\":0,\"fName\":\"yaxis\",\"fTitle\":\"Counts\",\"fNdivisions\":510,\"fAxisColor\":1,\"fLabelColor\":1,\"fLabelFont\":42,\"fLabelOffset\":0.005,\"fLabelSize\":0.035,\"fTickLength\":0.03,\"fTitleOffset\":0,\"fTitleSize\":0.05,\"fTitleColor\":1,\"fTitleFont\":42,\"fNbins\":1,\"fXmin\":0,\"fXmax\":1,\"fXbins\":[],\"fFirst\":0,\"fLast\":0,\"fBits2\":0,\"fTimeDisplay\":false,\"fTimeFormat\":\"\",\"fLabels\":null,\"fModLabs\":null},\"fZaxis\":{\"_typename\":\"TAxis\",\"fUniqueID\":0,\"fBits\":0,\"fName\":\"zaxis\",\"fTitle\":\"\",\"fNdivisions\":510,\"fAxisColor\":1,\"fLabelColor\":1,\"fLabelFont\":42,\"fLabelOffset\":0.005,\"fLabelSize\":0.035,\"fTickLength\":0.03,\"fTitleOffset\":1,\"fTitleSize\":0.035,\"fTitleColor\":1,\"fTitleFont\":42,\"fNbins\":1,\"fXmin\":0,\"fXmax\":1,\"fXbins\":[],\"fFirst\":0,\"fLast\":0,\"fBits2\":0,\"fTimeDisplay\":false,\"fTimeFormat\":\"\",\"fLabels\":null,\"fModLabs\":null},\"fBarOffset\":0,\"fBarWidth\":1000,\"fEntries\":36440,\"fTsumw\":1,\"fTsumw2\":2.74423710208562e-5,\"fTsumwx\":1.33301260342716,\"fTsumwx2\":1.7776703191707,\"fMaximum\":-1111,\"fMinimum\":-1111,\"fNormFactor\":0,\"fContour\":[],\"fSumw2\":{\"$arr\":\"Float64\",\"len\":252,\"p\":96,\"v\":[2.1538194599245e-7,2.83912565171866e-7,3.87838119531859e-7,5.28664776526922e-7,8.44206858243134e-7,1.37437780222455e-6,2.50701572800303e-6,4.09075080640206e-6,4.922155241282e-6,3.80608515750294e-6,2.46258378809549e-6,1.4760441054028e-6,1.13640334441471e-6,8.37429104697917e-7,6.25059493614452e-7,5.35442530072139e-7,4.48084817711565e-7,3.65245607714469e-7,3.29097588806645e-7,2.665916394452e-7]},\"fOption\":\"\",\"fFunctions\":{\"_typename\":\"TList\",\"name\":\"TList\",\"arr\":[],\"opt\":[]},\"fBufferSize\":0,\"fBuffer\":[],\"fBinStatErrOpt\":0,\"fStatOverflows\":2,\"fArray\":{\"$arr\":\"Float64\",\"len\":252,\"p\":96,\"v\":[0.00784851811196487,0.0103457738748628,0.0141328210757409,0.0192645444566411,0.0307628979143798,0.0500823271130626,0.0913556531284303,0.149066959385291,0.179363336992316,0.138693743139407,0.0897365532381998,0.0537870472008782,0.041410537870472,0.0305159165751921,0.0227771679473106,0.0195115257958288,0.0163282107574094,0.0133095499451153,0.0119923161361142,0.00971459934138309]}},{\"_typename\":\"TH1D\",\"fUniqueID\":0,\"fBits\":8,\"fName\":\"data\",\"fTitle\":\"MM(eK^{+}K^{+})\",\"fLineColor\":632,\"fLineStyle\":1,\"fLineWidth\":1,\"fFillColor\":0,\"fFillStyle\":1001,\"fMarkerColor\":1,\"fMarkerStyle\":21,\"fMarkerSize\":0.8,\"fNcells\":252,\"fXaxis\":{\"_typename\":\"TAxis\",\"fUniqueID\":0,\"fBits\":0,\"fName\":\"xaxis\",\"fTitle\":\"MM(eK^{+}K^{+}) [GeV\\/c^{2}]\",\"fNdivisions\":510,\"fAxisColor\":1,\"fLabelColor\":1,\"fLabelFont\":42,\"fLabelOffset\":0.005,\"fLabelSize\":0.035,\"fTickLength\":0.03,\"fTitleOffset\":0.9,\"fTitleSize\":0.05,\"fTitleColor\":1,\"fTitleFont\":42,\"fNbins\":250,\"fXmin\":0.5,\"fXmax\":2.5,\"fXbins\":[],\"fFirst\":0,\"fLast\":0,\"fBits2\":0,\"fTimeDisplay\":false,\"fTimeFormat\":\"\",\"fLabels\":null,\"fModLabs\":null},\"fYaxis\":{\"_typename\":\"TAxis\",\"fUniqueID\":0,\"fBits\":0,\"fName\":\"yaxis\",\"fTitle\":\"Counts\\/20 MeV\\/c^{2}\",\"fNdivisions\":510,\"fAxisColor\":1,\"fLabelColor\":1,\"fLabelFont\":42,\"fLabelOffset\":0.005,\"fLabelSize\":0.035,\"fTickLength\":0.03,\"fTitleOffset\":0,\"fTitleSize\":0.05,\"fTitleColor\":1,\"fTitleFont\":42,\"fNbins\":1,\"fXmin\":0,\"fXmax\":1,\"fXbins\":[],\"fFirst\":0,\"fLast\":0,\"fBits2\":0,\"fTimeDisplay\":false,\"fTimeFormat\":\"\",\"fLabels\":null,\"fModLabs\":null},\"fZaxis\":{\"_typename\":\"TAxis\",\"fUniqueID\":0,\"fBits\":0,\"fName\":\"zaxis\",\"fTitle\":\"\",\"fNdivisions\":510,\"fAxisColor\":1,\"fLabelColor\":1,\"fLabelFont\":42,\"fLabelOffset\":0.005,\"fLabelSize\":0.035,\"fTickLength\":0.03,\"fTitleOffset\":1,\"fTitleSize\":0.035,\"fTitleColor\":1,\"fTitleFont\":42,\"fNbins\":1,\"fXmin\":0,\"fXmax\":1,\"fXbins\":[],\"fFirst\":0,\"fLast\":0,\"fBits2\":0,\"fTimeDisplay\":false,\"fTimeFormat\":\"\",\"fLabels\":null,\"fModLabs\":null},\"fBarOffset\":0,\"fBarWidth\":1000,\"fEntries\":2333,\"fTsumw\":1,\"fTsumw2\":4.2863266180883e-4,\"fTsumwx\":1.34287458169945,\"fTsumwx2\":1.80482607333514,\"fMaximum\":-1111,\"fMinimum\":-1111,\"fNormFactor\":0,\"fContour\":[],\"fSumw2\":{\"$arr\":\"Float64\",\"len\":252,\"p\":96,\"v\":[1.17584613612367e-5,1.12072834849287e-5,1.083983156739e-5,9.92120177354342e-6,1.80051439593936e-5,1.78214180006243e-5,2.71914418978598e-5,2.8477523609245e-5,3.72963696301725e-5,3.76638215477111e-5,3.56428360012486e-5,2.8477523609245e-5,2.57216342277052e-5,2.25982929286267e-5,2.14959371760108e-5,1.78214180006243e-5,1.92912256707789e-5,1.67190622480084e-5,1.41468988252378e-5,1.6535336289239e-5]},\"fOption\":\"\",\"fFunctions\":{\"_typename\":\"TList\",\"name\":\"TList\",\"arr\":[],\"opt\":[]},\"fBufferSize\":0,\"fBuffer\":[],\"fBinStatErrOpt\":0,\"fStatOverflows\":2,\"fArray\":{\"$arr\":\"Float64\",\"len\":252,\"p\":96,\"v\":[0.0274324903557651,0.0261465923703386,0.025289327046721,0.0231461637376768,0.0420060008572653,0.0415773681954565,0.0634376339477068,0.0664380625803686,0.0870124303471925,0.0878696956708101,0.083154736390913,0.0664380625803686,0.0600085726532362,0.0527218174024861,0.0501500214316331,0.0415773681954565,0.0450064294899271,0.0390055722246035,0.0330047149592799,0.0385769395627947]}},{\"_typename\":\"TLegend\",\"fUniqueID\":0,\"fBits\":8,\"fLineColor\":1,\"fLineStyle\":1,\"fLineWidth\":1,\"fFillColor\":0,\"fFillStyle\":1001,\"fX1\":2.00000000745058,\"fY1\":0.164790066914075,\"fX2\":2.50000001490116,\"fY2\":0.188331505245111,\"fX1NDC\":0.7,\"fY1NDC\":0.8,\"fX2NDC\":0.9,\"fY2NDC\":0.9,\"fBorderSize\":1,\"fInit\":1,\"fShadowColor\":1,\"fCornerRadius\":0,\"fOption\":\"brNDC\",\"fName\":\"TPave\",\"fTextAngle\":0,\"fTextSize\":0.8,\"fTextAlign\":12,\"fTextColor\":1,\"fTextFont\":72,\"fPrimitives\":{\"_typename\":\"TList\",\"name\":\"TList\",\"arr\":[{\"_typename\":\"TLegendEntry\",\"fUniqueID\":0,\"fBits\":0,\"fTextAngle\":0,\"fTextSize\":0,\"fTextAlign\":22,\"fTextColor\":0,\"fTextFont\":42,\"fLineColor\":1,\"fLineStyle\":1,\"fLineWidth\":1,\"fFillColor\":0,\"fFillStyle\":0,\"fMarkerColor\":1,\"fMarkerStyle\":21,\"fMarkerSize\":1,\"fObject\":null,\"fLabel\":\"MC Vs data -xi(1320)\",\"fOption\":\"h\"},{\"_typename\":\"TLegendEntry\",\"fUniqueID\":0,\"fBits\":0,\"fTextAngle\":0,\"fTextSize\":0,\"fTextAlign\":0,\"fTextColor\":0,\"fTextFont\":72,\"fLineColor\":602,\"fLineStyle\":1,\"fLineWidth\":1,\"fFillColor\":0,\"fFillStyle\":1001,\"fMarkerColor\":1,\"fMarkerStyle\":21,\"fMarkerSize\":1,\"fObject\":{\"$ref\":3},\"fLabel\":\"mc\",\"fOption\":\"f\"},{\"_typename\":\"TLegendEntry\",\"fUniqueID\":0,\"fBits\":0,\"fTextAngle\":0,\"fTextSize\":0,\"fTextAlign\":0,\"fTextColor\":0,\"fTextFont\":72,\"fLineColor\":632,\"fLineStyle\":1,\"fLineWidth\":1,\"fFillColor\":0,\"fFillStyle\":0,\"fMarkerColor\":1,\"fMarkerStyle\":21,\"fMarkerSize\":0.8,\"fObject\":{\"$ref\":8},\"fLabel\":\"data-fall2018-out-fde\",\"fOption\":\"lpe\"}],\"opt\":[\"h\",\"f\",\"lpe\"]},\"fEntrySeparation\":0.1,\"fMargin\":0.25,\"fNColumns\":1,\"fColumnSeparation\":0},{\"_typename\":\"TPaveText\",\"fUniqueID\":0,\"fBits\":9,\"fLineColor\":1,\"fLineStyle\":1,\"fLineWidth\":1,\"fFillColor\":0,\"fFillStyle\":0,\"fX1\":1.25589080096019,\"fY1\":0.196930116469923,\"fX2\":1.74410919903981,\"fY2\":0.210695872782139,\"fX1NDC\":0.40235632183908,\"fY1NDC\":0.936525428497185,\"fX2NDC\":0.59764367816092,\"fY2NDC\":0.995000004768372,\"fBorderSize\":0,\"fInit\":1,\"fShadowColor\":1,\"fCornerRadius\":0,\"fOption\":\"blNDC\",\"fName\":\"title\",\"fTextAngle\":0,\"fTextSize\":0,\"fTextAlign\":22,\"fTextColor\":1,\"fTextFont\":42,\"fLabel\":\"\",\"fLongest\":15,\"fMargin\":0.05,\"fLines\":{\"_typename\":\"TList\",\"name\":\"TList\",\"arr\":[{\"_typename\":\"TLatex\",\"fUniqueID\":0,\"fBits\":0,\"fName\":\"\",\"fTitle\":\"MM(eK^{+}K^{+})\",\"fTextAngle\":0,\"fTextSize\":0,\"fTextAlign\":0,\"fTextColor\":0,\"fTextFont\":0,\"fX\":0,\"fY\":0,\"fLineColor\":1,\"fLineStyle\":1,\"fLineWidth\":2,\"fLimitFactorSize\":3,\"fOriginSize\":0.0497033894062042}],\"opt\":[\"\"]}},{\"_typename\":\"TStyle\",\"fUniqueID\":0,\"fBits\":0,\"fName\":\"Modern\",\"fTitle\":\"Modern Style\",\"fLineColor\":1,\"fLineStyle\":1,\"fLineWidth\":1,\"fFillColor\":19,\"fFillStyle\":1001,\"fMarkerColor\":1,\"fMarkerStyle\":1,\"fMarkerSize\":1,\"fTextAngle\":0,\"fTextSize\":0.05,\"fTextAlign\":11,\"fTextColor\":1,\"fTextFont\":62,\"fXaxis\":{\"_typename\":\"TAttAxis\",\"fNdivisions\":510,\"fAxisColor\":1,\"fLabelColor\":1,\"fLabelFont\":42,\"fLabelOffset\":0.005,\"fLabelSize\":0.035,\"fTickLength\":0.03,\"fTitleOffset\":1,\"fTitleSize\":0.035,\"fTitleColor\":1,\"fTitleFont\":42},\"fYaxis\":{\"_typename\":\"TAttAxis\",\"fNdivisions\":510,\"fAxisColor\":1,\"fLabelColor\":1,\"fLabelFont\":42,\"fLabelOffset\":0.005,\"fLabelSize\":0.035,\"fTickLength\":0.03,\"fTitleOffset\":0,\"fTitleSize\":0.035,\"fTitleColor\":1,\"fTitleFont\":42},\"fZaxis\":{\"_typename\":\"TAttAxis\",\"fNdivisions\":510,\"fAxisColor\":1,\"fLabelColor\":1,\"fLabelFont\":42,\"fLabelOffset\":0.005,\"fLabelSize\":0.035,\"fTickLength\":0.03,\"fTitleOffset\":1,\"fTitleSize\":0.035,\"fTitleColor\":1,\"fTitleFont\":42},\"fBarWidth\":1,\"fBarOffset\":0,\"fColorModelPS\":0,\"fDrawBorder\":0,\"fOptLogx\":0,\"fOptLogy\":0,\"fOptLogz\":0,\"fOptDate\":0,\"fOptStat\":0,\"fOptTitle\":1,\"fOptFile\":0,\"fOptFit\":0,\"fShowEventStatus\":0,\"fShowEditor\":0,\"fShowToolBar\":0,\"fNumberContours\":20,\"fAttDate\":{\"_typename\":\"TAttText\",\"fTextAngle\":0,\"fTextSize\":0.025,\"fTextAlign\":11,\"fTextColor\":1,\"fTextFont\":62},\"fDateX\":0.01,\"fDateY\":0.01,\"fEndErrorSize\":2,\"fErrorX\":0.5,\"fFuncColor\":2,\"fFuncStyle\":1,\"fFuncWidth\":2,\"fGridColor\":0,\"fGridStyle\":3,\"fGridWidth\":1,\"fLegendBorderSize\":1,\"fLegendFillColor\":0,\"fLegendFont\":42,\"fLegendTextSize\":0,\"fHatchesLineWidth\":1,\"fHatchesSpacing\":1,\"fFrameFillColor\":0,\"fFrameLineColor\":1,\"fFrameFillStyle\":1001,\"fFrameLineStyle\":1,\"fFrameLineWidth\":1,\"fFrameBorderSize\":1,\"fFrameBorderMode\":0,\"fHistFillColor\":0,\"fHistLineColor\":602,\"fHistFillStyle\":1001,\"fHistLineStyle\":1,\"fHistLineWidth\":1,\"fHistMinimumZero\":false,\"fHistTopMargin\":0.05,\"fCanvasPreferGL\":false,\"fCanvasColor\":0,\"fCanvasBorderSize\":2,\"fCanvasBorderMode\":0,\"fCanvasDefH\":500,\"fCanvasDefW\":700,\"fCanvasDefX\":10,\"fCanvasDefY\":10,\"fPadColor\":0,\"fPadBorderSize\":2,\"fPadBorderMode\":0,\"fPadBottomMargin\":0.1,\"fPadTopMargin\":0.1,\"fPadLeftMargin\":0.1,\"fPadRightMargin\":0.1,\"fPadGridX\":false,\"fPadGridY\":false,\"fPadTickX\":0,\"fPadTickY\":0,\"fPaperSizeX\":20,\"fPaperSizeY\":26,\"fScreenFactor\":1,\"fStatColor\":0,\"fStatTextColor\":1,\"fStatBorderSize\":1,\"fStatFont\":42,\"fStatFontSize\":0,\"fStatStyle\":1001,\"fStatFormat\":\"6.4g\",\"fStatX\":0.98,\"fStatY\":0.935,\"fStatW\":0.2,\"fStatH\":0.16,\"fStripDecimals\":true,\"fTitleAlign\":23,\"fTitleColor\":0,\"fTitleTextColor\":1,\"fTitleBorderSize\":0,\"fTitleFont\":42,\"fTitleFontSize\":0.05,\"fTitleStyle\":0,\"fTitleX\":0.5,\"fTitleY\":0.995,\"fTitleW\":0,\"fTitleH\":0,\"fLegoInnerR\":0.5,\"fLineStyles\":[\"\",\"  \",\" 12 12\",\" 4 8\",\" 12 16 4 16\",\" 20 12 4 12\",\" 20 12 4 12 4 12 4 12\",\" 20 20\",\" 20 12 4 12 4 12\",\" 80 20\",\" 80 40 4 40\",\"  \",\"  \",\"  \",\"  \",\"  \",\"  \",\"  \",\"  \",\"  \",\"  \",\"  \",\"  \",\"  \",\"  \",\"  \",\"  \",\"  \",\"  \",\"  \"],\"fHeaderPS\":\"\",\"fTitlePS\":\"\",\"fFitFormat\":\"5.4g\",\"fPaintTextFormat\":\"g\",\"fLineScalePS\":3,\"fJoinLinePS\":0,\"fCapLinePS\":0,\"fTimeOffset\":788918400,\"fImageScaling\":1}],\"opt\":[\"\",\"HIST\",\"SAMEE\",\"\",\"blNDC\",\"\"]},\"fExecs\":null,\"fName\":\"c1\",\"fTitle\":\"c1\",\"fNumPaletteColor\":0,\"fNextPaletteColor\":0,\"fDISPLAY\":\"$DISPLAY\",\"fDoubleBuffer\":0,\"fRetained\":true,\"fXsizeUser\":0,\"fYsizeUser\":0,\"fXsizeReal\":20,\"fYsizeReal\":14.28571,\"fWindowTopX\":0,\"fWindowTopY\":0,\"fWindowWidth\":0,\"fWindowHeight\":0,\"fCw\":696,\"fCh\":472,\"fCatt\":{\"_typename\":\"TAttCanvas\",\"fXBetween\":2,\"fYBetween\":2,\"fTitleFromTop\":1.2,\"fXdate\":0.2,\"fYdate\":0.3,\"fAdate\":1},\"kMoveOpaque\":true,\"kResizeOpaque\":true,\"fHighLightColor\":2,\"fBatch\":true,\"kShowEventStatus\":false,\"kAutoExec\":true,\"kMenuBar\":true});\n",
       "   Core.settings.HandleKeys = false;\n",
       "   Core.draw(\"root_plot_1652966579801\", obj, \"\");\n",
       "}\n",
       "\n",
       "function script_load_root_plot_1652966579801(src, on_error) {\n",
       "    let script = document.createElement('script');\n",
       "    script.src = src;\n",
       "    script.onload = function() { display_root_plot_1652966579801(JSROOT); };\n",
       "    script.onerror = function() { script.remove(); on_error(); };\n",
       "    document.head.appendChild(script);\n",
       "}\n",
       "\n",
       "if (typeof requirejs !== 'undefined') {\n",
       "\n",
       "    // We are in jupyter notebooks, use require.js which should be configured already\n",
       "    requirejs.config({\n",
       "       paths: { 'JSRootCore' : [ 'scripts/JSRoot.core', 'https://root.cern/js/6.1.1/scripts/JSRoot.core.min', 'https://jsroot.gsi.de/6.1.1/scripts/JSRoot.core.min' ] }\n",
       "    })(['JSRootCore'],  function(Core) {\n",
       "       display_root_plot_1652966579801(Core);\n",
       "    });\n",
       "\n",
       "} else if (typeof JSROOT !== 'undefined') {\n",
       "\n",
       "   // JSROOT already loaded, just use it\n",
       "   display_root_plot_1652966579801(JSROOT);\n",
       "\n",
       "} else {\n",
       "\n",
       "    // We are in jupyterlab without require.js, directly loading jsroot\n",
       "    // Jupyterlab might be installed in a different base_url so we need to know it.\n",
       "    try {\n",
       "        var base_url = JSON.parse(document.getElementById('jupyter-config-data').innerHTML).baseUrl;\n",
       "    } catch(_) {\n",
       "        var base_url = '/';\n",
       "    }\n",
       "\n",
       "    // Try loading a local version of requirejs and fallback to cdn if not possible.\n",
       "    script_load_root_plot_1652966579801(base_url + 'static/scripts/JSRoot.core.js', function(){\n",
       "        console.error('Fail to load JSROOT locally, please check your jupyter_notebook_config.py file');\n",
       "        script_load_root_plot_1652966579801('https://root.cern/js/6.1.1/scripts/JSRoot.core.min.js', function(){\n",
       "            document.getElementById(\"root_plot_1652966579801\").innerHTML = \"Failed to load JSROOT\";\n",
       "        });\n",
       "    });\n",
       "}\n",
       "\n",
       "</script>\n"
      ],
      "text/plain": [
       "<IPython.core.display.HTML object>"
      ]
     },
     "metadata": {},
     "output_type": "display_data"
    }
   ],
   "source": [
    "#h = ROOT.RDataFrame(\"T\",\"data_xi1320_2kpluspim_fall2018_out_fde.root\").Histo1D((\"data\", \"data\", 250, 0.5, 2.5), \"mm_fkpskp\")\n",
    "h = ROOT.RDataFrame(\"T\",\"data_xi1320_2kplus_fall2018_out_fde.root\").Filter(\"1.26<=mm_fkpskp && mm_fkpskp<=1.42\").Histo1D((\"data\", \"data\", 250, 0.5, 2.5), \"mm_fkpskp\")\n",
    "#100, 1.2, 1.7#250, 0.5, 3.0#400, 0.5, 2.5(5)#250, 0.5, 2.5(8)#150, 0.5, 2.6(14)#100, 0.5, 2.5(20)\n",
    "#h = ROOT.RDataFrame(\"T\",\"data_xi1320_2kplus_fall2018_out_fde.root\").Filter(\"1.21<=mm_fkpskp && mm_fkpskp<=1.5\").Histo1D((\"data\", \"data\", 250, 0.5, 2.5), \"mm_fkpskp\")\n",
    "h.Scale(1/h.Integral())\n",
    "h.SetTitle(\"MM(eK^{+}K^{+})\")\n",
    "#h.SetTitleSize(0.06, \"x\")\n",
    "h.GetXaxis().SetTitle(\"MM(eK^{+}K^{+}) [GeV/c^{2}]\")\n",
    "h.GetYaxis().SetTitle(\"Counts/20 MeV/c^{2}\")\n",
    "h.GetXaxis().SetTitleSize(0.05)\n",
    "h.GetYaxis().SetTitleSize(0.05)\n",
    "h.GetXaxis().SetTitleOffset(0.9)\n",
    "#h.GetYaxis().SetTitleOffset(0.9)\n",
    "#fn = ROOT.TF1(\"fn\", ROOT.Voigt, 1.0, 2.5, 3)#median, sigma, lg\n",
    "#fn.FixParameter(0, 1.322)\n",
    "#fn.SetParameter(1, 0.001)\n",
    "#fn.SetParameter(2, 0.0)\n",
    "#hmc = ROOT.RDataFrame(\"T\",\"mc_rec_xi1320_rga_fde.root\").Histo1D((\"mc\", \"mc\", 250, 0.5, 2.5), \"mm_fkpskp\")#jose simulated files\n",
    "#hmc = ROOT.RDataFrame(\"T\",\"mc_rec_xi1320_rga_fall2018_out_fde_test.root\").Histo1D((\"mc\", \"mc\", 100, 0.5, 2.5), \"mm_fkpskp\")\n",
    "hmc = ROOT.RDataFrame(\"T\",\"../simu_prod/xi_1320_mc_fall2018out_fde/plot/rec_xi_1320_mc_fall2018out_fde.root\").Filter(\"1.26<=mm_fkpskp && mm_fkpskp<=1.42\").Histo1D((\"mc\", \"mc\", 250, 0.5, 2.5), \"mm_fkpskp\")\n",
    "#hmc = ROOT.RDataFrame(\"T\",\"mc_rec_xi1320_rga_fde.root\").Filter(\"1.21<=mm_fkpskp && mm_fkpskp<=1.5\").Histo1D((\"mc\", \"mc\", 250, 0.5, 2.5), \"mm_fkpskp\")\n",
    "hmc.Scale(1/hmc.Integral())\n",
    "hmc.SetTitle(\"MM(eK^{+}K^{+})\")\n",
    "#h.SetTitleSize(0.06, \"x\")\n",
    "hmc.GetXaxis().SetTitle(\"MM(eK^{+}K^{+}) [GeV/c^{2}]\")\n",
    "#hmc.GetYaxis().SetTitle(\"Counts/20 MeV/c^{2}\")\n",
    "hmc.GetYaxis().SetTitle(\"Counts\")\n",
    "hmc.GetXaxis().SetTitleSize(0.05)\n",
    "hmc.GetYaxis().SetTitleSize(0.05)\n",
    "hmc.GetXaxis().SetTitleOffset(0.9)\n",
    "#h.GetYaxis().SetTitleOffset(0.9)\n",
    "\n",
    "%jsroot on\n",
    "ROOT.gStyle.SetOptStat(0000)\n",
    "ROOT.gStyle.SetOptFit(0000)\n",
    "c = ROOT.TCanvas()\n",
    "hmc.Draw(\"HIST\")\n",
    "h.Draw(\"SAMEE\")\n",
    "h.SetLineColor(ROOT.kRed)\n",
    "h.SetMarkerStyle(21)\n",
    "h.SetMarkerSize(0.8)\n",
    "#h1.SetStats(0)\n",
    "#h.Fit(\"gaus\", \"S\", \" \", 1.285, 1.385)\n",
    "#h.Fit(\"fn\", \"S\", \" \", 1.26, 1.4)\n",
    "\n",
    "legend1 = ROOT.TLegend(0.9,0.8,0.7,0.9)#legend = ROOT.TLegend()\n",
    "legend1.SetHeader(\"MC Vs data -xi(1320)\",\"C\") # option \"C\" allows to center the header\n",
    "legend1.AddEntry(\"mc\",\"mc\",\"f\")\n",
    "legend1.AddEntry(\"data\",\"data-fall2018-out-fde\",\"lpe\")#lpe\n",
    "legend1.SetTextFont(72)\n",
    "legend1.SetTextSize(0.8)\n",
    "legend1.Draw()\n",
    "\n",
    "\n",
    "c.Draw()"
   ]
  },
  {
   "cell_type": "code",
   "execution_count": null,
   "id": "09334053",
   "metadata": {},
   "outputs": [],
   "source": []
  }
 ],
 "metadata": {
  "kernelspec": {
   "display_name": "Python 3 (ipykernel)",
   "language": "python",
   "name": "python3"
  },
  "language_info": {
   "codemirror_mode": {
    "name": "ipython",
    "version": 3
   },
   "file_extension": ".py",
   "mimetype": "text/x-python",
   "name": "python",
   "nbconvert_exporter": "python",
   "pygments_lexer": "ipython3",
   "version": "3.9.12"
  }
 },
 "nbformat": 4,
 "nbformat_minor": 5
}
